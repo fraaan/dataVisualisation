{
 "cells": [
  {
   "cell_type": "markdown",
   "id": "de3abe8a",
   "metadata": {},
   "source": [
    "<img src=\"./images/banner.png\" width=\"100%\" align=\"left\" />"
   ]
  },
  {
   "cell_type": "markdown",
   "id": "965040cf",
   "metadata": {},
   "source": [
    "<table style=\"float:right;\">\n",
    "    <tr>\n",
    "        <td>                      \n",
    "            <div style=\"text-align: right\"><a href=\"https://alandavies.netlify.com\" target=\"_blank\">Dr Alan Davies</a></div>\n",
    "            <div style=\"text-align: right\">Senior Lecturer Health Data Science</div>\n",
    "            <div style=\"text-align: right\">University of Manchester</div>\n",
    "         </td>\n",
    "         <td>\n",
    "             <img src=\"./images/alan.png\" width=\"30%\" />\n",
    "         </td>\n",
    "     </tr>\n",
    "</table>"
   ]
  },
  {
   "cell_type": "markdown",
   "id": "a9be6b06",
   "metadata": {},
   "source": [
    "# 7.0 Web-based visualisations with Google Charts\n",
    "****"
   ]
  },
  {
   "cell_type": "markdown",
   "id": "911a7ea3",
   "metadata": {},
   "source": [
    "#### About this Notebook\n",
    "This notebook introduces creating web-based visualisations using <code>Google Charts</code>. To get the most out this notebook you should be familiar with basic web technologies."
   ]
  },
  {
   "cell_type": "markdown",
   "id": "9f14e279",
   "metadata": {},
   "source": [
    "<div class=\"alert alert-block alert-warning\"><b>Learning Objectives:</b> \n",
    "<br/> At the end of this notebook you will be able to:\n",
    "    \n",
    "- Investigate creating interactive web-based visualisations using the Google Charts API\n",
    "\n",
    "- Explore some of the commonly available visualisation types and commands \n",
    "\n",
    "</div> "
   ]
  },
  {
   "cell_type": "markdown",
   "id": "c9ee4fc3",
   "metadata": {},
   "source": [
    "<a id=\"top\"></a>\n",
    "\n",
    "<b>Table of contents</b><br>\n",
    "\n",
    "7.1 [An example](#example)\n",
    "\n",
    "7.2 [Adding data](#data)\n",
    "\n",
    "7.3 [Styling plots](#style)\n",
    "\n",
    "7.4 [Your turn](#turn)"
   ]
  },
  {
   "cell_type": "markdown",
   "id": "ff40cf09",
   "metadata": {},
   "source": [
    "You may be familiar with <code>Google spreadsheets</code> available through the <code>Google Drive</code>. This works a lot like Microsoft's Excel spreadsheet software as shown in the image below. Users can enter data, add formula and highlight data to quickly generate various plots. Google also provide <code>Google charts</code> which can be used to display live data on websites. This can also be extended to create dashboards that include various UI (User Interface) controls for filtering and selecting data."
   ]
  },
  {
   "cell_type": "markdown",
   "id": "e7d9379d",
   "metadata": {},
   "source": [
    "<img src=\"./images/google_sheets.png\" width=\"100%\" align=\"left\" />"
   ]
  },
  {
   "cell_type": "markdown",
   "id": "97e03842",
   "metadata": {},
   "source": [
    "This short introductory notebook doesn't go into great detail about some of the more complex options available but does introduce these topics and provide further resources for those wanting to explore this further."
   ]
  },
  {
   "cell_type": "markdown",
   "id": "bd1e5868",
   "metadata": {},
   "source": [
    "The core web technologies are <code>HTML (Hyper-Text Mark-up language)</code>, <code>CSS (Cascading Style Sheets)</code> and <code>JavaScript</code>. The different technologies work together to make a modern functional web-site. They all contribute something different to this process."
   ]
  },
  {
   "cell_type": "markdown",
   "id": "42ebcc42",
   "metadata": {},
   "source": [
    "<ul>\n",
    "    <li>HTML (Hyper-Text Mark-up language)</li>\n",
    "    <ul>\n",
    "        <li>Layout</li>\n",
    "    </ul>\n",
    "    <li>CSS (Cascading Style Sheets)</li>\n",
    "    <ul>\n",
    "        <li>Styling</li>\n",
    "    </ul>\n",
    "    <li>JavaScript</li>\n",
    "    <ul>\n",
    "        <li>Logic and interactivity (fully featured programming language)</li>\n",
    "    </ul>\n",
    "</ul>"
   ]
  },
  {
   "cell_type": "markdown",
   "id": "efa540bd",
   "metadata": {},
   "source": [
    "<div class=\"alert alert-danger\">\n",
    "    <b>Note:</b> The <code>%%html</code> and <code>%%javascript</code> that you will see in the following examples is only required to write HTML and JavaScript code in the notebook environment and is not part of normal HTML coding.\n",
    "</div>"
   ]
  },
  {
   "cell_type": "markdown",
   "id": "976b9451",
   "metadata": {},
   "source": [
    "<a id=\"example\"></a>\n",
    "#### 7.1 An example"
   ]
  },
  {
   "cell_type": "markdown",
   "id": "3a1b167e",
   "metadata": {},
   "source": [
    "Below is an example that creates a simple pie chart using the charts API (Application Programming Interface). We will break this down in the following cells to explain what each part does:"
   ]
  },
  {
   "cell_type": "code",
   "execution_count": 1,
   "id": "57b90a9c",
   "metadata": {},
   "outputs": [
    {
     "data": {
      "text/html": [
       "<html>\n",
       "    <head>\n",
       "      <script src=\"https://www.gstatic.com/charts/loader.js\"></script>\n",
       "      <script>\n",
       "          // Import the required chart(s)\n",
       "          google.charts.load('current', {packages: ['corechart']});\n",
       "          google.charts.setOnLoadCallback(drawPieChart);\n",
       "\n",
       "          function drawPieChart() {\n",
       "              // Define the chart to be drawn and associated data\n",
       "              var data = new google.visualization.DataTable();\n",
       "              data.addColumn('string', 'Profession');\n",
       "              data.addColumn('number', 'Percentage');\n",
       "              data.addRows([\n",
       "                  ['Medical doctor', 0.58],\n",
       "                  ['Nursing', 0.23],\n",
       "                  ['Other AHP', 0.9],\n",
       "                  ['Scientist', 7],\n",
       "                  ['Other', 3]\n",
       "               ]);\n",
       "\n",
       "              // Create instance of chart and draw it\n",
       "              var chart = new google.visualization.PieChart(document.getElementById('my-pie-chart'));\n",
       "              chart.draw(data);\n",
       "          }\n",
       "      </script>\n",
       "    </head>\n",
       "    <body>\n",
       "        <!-- Draw the chart here -->\n",
       "        <div id=\"my-pie-chart\"/>\n",
       "    </body>\n",
       "</html>\n"
      ],
      "text/plain": [
       "<IPython.core.display.HTML object>"
      ]
     },
     "metadata": {},
     "output_type": "display_data"
    }
   ],
   "source": [
    "%%html\n",
    "<html>\n",
    "    <head>\n",
    "      <script src=\"https://www.gstatic.com/charts/loader.js\"></script>\n",
    "      <script>\n",
    "          // Import the required chart(s)\n",
    "          google.charts.load('current', {packages: ['corechart']});\n",
    "          google.charts.setOnLoadCallback(drawPieChart);\n",
    "\n",
    "          function drawPieChart() {\n",
    "              // Define the chart to be drawn and associated data\n",
    "              var data = new google.visualization.DataTable();\n",
    "              data.addColumn('string', 'Profession');\n",
    "              data.addColumn('number', 'Percentage');\n",
    "              data.addRows([\n",
    "                  ['Medical doctor', 0.58],\n",
    "                  ['Nursing', 0.23],\n",
    "                  ['Other AHP', 0.9],\n",
    "                  ['Scientist', 7],\n",
    "                  ['Other', 3]\n",
    "               ]);\n",
    "\n",
    "              // Create instance of chart and draw it\n",
    "              var chart = new google.visualization.PieChart(document.getElementById('my-pie-chart'));\n",
    "              chart.draw(data);\n",
    "          }\n",
    "      </script>\n",
    "    </head>\n",
    "    <body>\n",
    "        <!-- Draw the chart here -->\n",
    "        <div id=\"my-pie-chart\"/>\n",
    "    </body>\n",
    "</html>"
   ]
  },
  {
   "cell_type": "markdown",
   "id": "1270bbc5",
   "metadata": {},
   "source": [
    "You can hover over the segments/click on them in the pie chart."
   ]
  },
  {
   "cell_type": "markdown",
   "id": "a8fee857",
   "metadata": {},
   "source": [
    "HTML pages have a basic structure which includes a <code>head</code> section that defines the title, meta data and imports other files and resources. They also have a <code>body</code> which contains the main content in the form of elements. All this is contained inside the HTML root node."
   ]
  },
  {
   "cell_type": "code",
   "execution_count": 5,
   "id": "7a7ae393",
   "metadata": {},
   "outputs": [
    {
     "data": {
      "text/html": [
       "<html>\n",
       "    <head>\n",
       "        <title>My page</title>\n",
       "    </head>\n",
       "    <body>\n",
       "        <h1>Hello world!</h1>\n",
       "        <p>Some content!</p>\n",
       "    </body>\n",
       "</html>\n"
      ],
      "text/plain": [
       "<IPython.core.display.HTML object>"
      ]
     },
     "metadata": {},
     "output_type": "display_data"
    }
   ],
   "source": [
    "%%html\n",
    "<html>\n",
    "    <head>\n",
    "        <title>My page</title>\n",
    "    </head>\n",
    "    <body>\n",
    "        <h1>Hello world!</h1>\n",
    "        <p>Some content!</p>\n",
    "    </body>\n",
    "</html>"
   ]
  },
  {
   "cell_type": "markdown",
   "id": "3348f542",
   "metadata": {},
   "source": [
    "Additional <code>JavaScript</code> files can be imported here as <code>*.js</code> files which is best practice. Alternatively we can add JavaScript code inside a <code>script</code> element."
   ]
  },
  {
   "cell_type": "markdown",
   "id": "01a49239",
   "metadata": {},
   "source": [
    "<div class=\"alert alert-success\">\n",
    "    <b>Note:</b> The <code>//</code> and <code>/* */</code> are comments in JavaScript. The <code>&lt;!-- --&gt;</code> are comments in HTML.\n",
    "</div>"
   ]
  },
  {
   "cell_type": "markdown",
   "id": "8fff92ab",
   "metadata": {},
   "source": [
    "First we load the chart loader like so in the <code>head</code> section:"
   ]
  },
  {
   "cell_type": "code",
   "execution_count": 6,
   "id": "08a64519",
   "metadata": {},
   "outputs": [
    {
     "data": {
      "text/html": [
       "<head>\n",
       "    <script src=\"https://www.gstatic.com/charts/loader.js\"></script>\n",
       "</head>\n"
      ],
      "text/plain": [
       "<IPython.core.display.HTML object>"
      ]
     },
     "metadata": {},
     "output_type": "display_data"
    }
   ],
   "source": [
    "%%html\n",
    "<head>\n",
    "    <script src=\"https://www.gstatic.com/charts/loader.js\"></script>\n",
    "</head>"
   ]
  },
  {
   "cell_type": "markdown",
   "id": "0aa3f014",
   "metadata": {},
   "source": [
    "Next we load the required chart. In this case we are using the <code>corechart</code>. We can load in specific charts such are a bar chart for example <code>google.charts.load('current', {packages: ['corechart', 'bar']});</code>."
   ]
  },
  {
   "cell_type": "code",
   "execution_count": 15,
   "id": "c43f4cd3",
   "metadata": {},
   "outputs": [
    {
     "data": {
      "text/html": [
       "<head>\n",
       "    <script src=\"https://www.gstatic.com/charts/loader.js\"></script>\n",
       "    <script>\n",
       "        // Import the required chart(s)\n",
       "        google.charts.load('current', {packages: ['corechart']});\n",
       "        google.charts.setOnLoadCallback(drawChart);\n",
       "    </script>\n",
       "</head>\n"
      ],
      "text/plain": [
       "<IPython.core.display.HTML object>"
      ]
     },
     "metadata": {},
     "output_type": "display_data"
    }
   ],
   "source": [
    "%%html\n",
    "<head>\n",
    "    <script src=\"https://www.gstatic.com/charts/loader.js\"></script>\n",
    "    <script>\n",
    "        // Import the required chart(s)\n",
    "        google.charts.load('current', {packages: ['corechart']});\n",
    "        google.charts.setOnLoadCallback(drawPieChart);\n",
    "    </script>\n",
    "</head>"
   ]
  },
  {
   "cell_type": "markdown",
   "id": "421f93c4",
   "metadata": {},
   "source": [
    "We now create a new <code>function</code> called <code>drawPieChart</code>. We can place the contents of this function inside the braces (<code>{}</code>)."
   ]
  },
  {
   "cell_type": "code",
   "execution_count": 8,
   "id": "8caad50f",
   "metadata": {},
   "outputs": [
    {
     "data": {
      "text/html": [
       "<head>\n",
       "    <script src=\"https://www.gstatic.com/charts/loader.js\"></script>\n",
       "    <script>\n",
       "        ...\n",
       "    </script>\n",
       "</head>\n"
      ],
      "text/plain": [
       "<IPython.core.display.HTML object>"
      ]
     },
     "metadata": {},
     "output_type": "display_data"
    }
   ],
   "source": [
    "%%html\n",
    "<head>\n",
    "    <script src=\"https://www.gstatic.com/charts/loader.js\"></script>\n",
    "    <script>\n",
    "        ...\n",
    "        function drawPieChart() {\n",
    "             \n",
    "        }\n",
    "    </script>\n",
    "</head>"
   ]
  },
  {
   "cell_type": "markdown",
   "id": "6c8e06d5",
   "metadata": {},
   "source": [
    "Next we will declare a new variable using <code>var</code> called <code>data</code> and we will set to equal a <code>DataTable</code>."
   ]
  },
  {
   "cell_type": "code",
   "execution_count": 13,
   "id": "638a1f2a",
   "metadata": {},
   "outputs": [
    {
     "data": {
      "text/html": [
       "<head>\n",
       "    <script src=\"https://www.gstatic.com/charts/loader.js\"></script>\n",
       "    <script>\n",
       "        ...\n",
       "         function drawPieChart() {\n",
       "             var data = new google.visualization.DataTable();\n",
       "         }\n",
       "    </script>\n",
       "</head>\n"
      ],
      "text/plain": [
       "<IPython.core.display.HTML object>"
      ]
     },
     "metadata": {},
     "output_type": "display_data"
    }
   ],
   "source": [
    "%%html\n",
    "<head>\n",
    "    <script src=\"https://www.gstatic.com/charts/loader.js\"></script>\n",
    "    <script>\n",
    "        ...\n",
    "        function drawPieChart() {\n",
    "            var data = new google.visualization.DataTable();\n",
    "        }\n",
    "    </script>\n",
    "</head>"
   ]
  },
  {
   "cell_type": "markdown",
   "id": "29c6282e",
   "metadata": {},
   "source": [
    "Now we have created a data table we can add rows and columns to it. We start with two columns called <code>Profession</code> and <code>Percentage</code>. This will represent the percent of different professional groups that signed up for a new Health Informatics course. We also specify a data types for each column. Profession is going to be a text field and represent categorical data so we use <code>string</code> to indicate text. Percent on the other hand will be a <code>number</code>."
   ]
  },
  {
   "cell_type": "code",
   "execution_count": 14,
   "id": "4d14d6ea",
   "metadata": {},
   "outputs": [
    {
     "data": {
      "text/html": [
       "<head>\n",
       "    <script src=\"https://www.gstatic.com/charts/loader.js\"></script>\n",
       "    <script>\n",
       "        ...\n",
       "         function drawPieChart() {\n",
       "             var data = new google.visualization.DataTable();\n",
       "             data.addColumn('string', 'Profession');\n",
       "             data.addColumn('number', 'Percentage');\n",
       "         }\n",
       "    </script>\n",
       "</head>\n"
      ],
      "text/plain": [
       "<IPython.core.display.HTML object>"
      ]
     },
     "metadata": {},
     "output_type": "display_data"
    }
   ],
   "source": [
    "%%html\n",
    "<head>\n",
    "    <script src=\"https://www.gstatic.com/charts/loader.js\"></script>\n",
    "    <script>\n",
    "        ...\n",
    "        function drawPieChart() {\n",
    "            var data = new google.visualization.DataTable();\n",
    "            data.addColumn('string', 'Profession');\n",
    "            data.addColumn('number', 'Percentage');\n",
    "        }\n",
    "    </script>\n",
    "</head>"
   ]
  },
  {
   "cell_type": "markdown",
   "id": "446a1636",
   "metadata": {},
   "source": [
    "Now we have added our columns, let's add some rows to the table using the <code>addRows</code> function. We pass in an array containing two elements. The first is the profession as text (using quotes), the second is the number representing the percentage."
   ]
  },
  {
   "cell_type": "code",
   "execution_count": 12,
   "id": "cfa359da",
   "metadata": {},
   "outputs": [
    {
     "data": {
      "text/html": [
       "<head>\n",
       "    <script src=\"https://www.gstatic.com/charts/loader.js\"></script>\n",
       "    <script>\n",
       "        ...\n",
       "        function drawPieChart() {\n",
       "            var data = new google.visualization.DataTable();\n",
       "            data.addColumn('string', 'Profession');\n",
       "            data.addColumn('number', 'Percentage');\n",
       "            data.addRows([\n",
       "                ['Medical doctor', 0.58],\n",
       "                ['Nursing', 0.23],\n",
       "                ['Other AHP', 0.9],\n",
       "                ['Scientist', 7],\n",
       "                ['Other', 3]\n",
       "            ]);\n",
       "        }\n",
       "    </script>\n",
       "</head>\n"
      ],
      "text/plain": [
       "<IPython.core.display.HTML object>"
      ]
     },
     "metadata": {},
     "output_type": "display_data"
    }
   ],
   "source": [
    "%%html\n",
    "<head>\n",
    "    <script src=\"https://www.gstatic.com/charts/loader.js\"></script>\n",
    "    <script>\n",
    "        ...\n",
    "        function drawPieChart() {\n",
    "            var data = new google.visualization.DataTable();\n",
    "            data.addColumn('string', 'Profession');\n",
    "            data.addColumn('number', 'Percentage');\n",
    "            data.addRows([\n",
    "                ['Medical doctor', 0.58],\n",
    "                ['Nursing', 0.23],\n",
    "                ['Other AHP', 0.9],\n",
    "                ['Scientist', 7],\n",
    "                ['Other', 3]\n",
    "            ]);\n",
    "        }\n",
    "    </script>\n",
    "</head>"
   ]
  },
  {
   "cell_type": "markdown",
   "id": "41fa8e83",
   "metadata": {},
   "source": [
    "We can then create a new chart that is of type <code>PieChart</code> passing in the container that want to render the chart in. This is some HTML element such as a <code>div</code>. Then we call the charts <code>draw</code> method to actually render the plot. We need to call this after any subsequent changes to the plots data if we want to dynamically update the plot based on the data."
   ]
  },
  {
   "cell_type": "code",
   "execution_count": 10,
   "id": "af716a55",
   "metadata": {},
   "outputs": [
    {
     "data": {
      "text/html": [
       "<head>\n",
       "    <script src=\"https://www.gstatic.com/charts/loader.js\"></script>\n",
       "    <script>\n",
       "        ...\n",
       "         function drawPieChart() {\n",
       "             var data = new google.visualization.DataTable();\n",
       "             data.addColumn('string', 'Profession');\n",
       "             data.addColumn('number', 'Percentage');\n",
       "             data.addRows([\n",
       "                 ['Medical doctor', 0.58],\n",
       "                 ['Nursing', 0.23],\n",
       "                 ['Other AHP', 0.9],\n",
       "                 ['Scientist', 7],\n",
       "                 ['Other', 3]\n",
       "             ]);\n",
       "             \n",
       "             var chart = new google.visualization.PieChart(document.getElementById('my-pie-chart'));\n",
       "             chart.draw(data);\n",
       "         }\n",
       "    </script>\n",
       "</head>\n"
      ],
      "text/plain": [
       "<IPython.core.display.HTML object>"
      ]
     },
     "metadata": {},
     "output_type": "display_data"
    }
   ],
   "source": [
    "%%html\n",
    "<head>\n",
    "    <script src=\"https://www.gstatic.com/charts/loader.js\"></script>\n",
    "    <script>\n",
    "        ...\n",
    "        function drawPieChart() {\n",
    "            var data = new google.visualization.DataTable();\n",
    "            data.addColumn('string', 'Profession');\n",
    "            data.addColumn('number', 'Percentage');\n",
    "            data.addRows([\n",
    "                ['Medical doctor', 0.58],\n",
    "                ['Nursing', 0.23],\n",
    "                ['Other AHP', 0.9],\n",
    "                ['Scientist', 7],\n",
    "                ['Other', 3]\n",
    "            ]);\n",
    "            \n",
    "            var chart = new google.visualization.PieChart(document.getElementById('my-pie-chart'));\n",
    "            chart.draw(data);\n",
    "        }\n",
    "    </script>\n",
    "</head>"
   ]
  },
  {
   "cell_type": "markdown",
   "id": "dfe7bd9e",
   "metadata": {},
   "source": [
    "Finally in the <code>body</code> section, we need to create a container to add the plot to. Here we create a <code>div</code> element and set it's <code>id</code> attribute to <code>my-pie-chart</code>. This is the element on the page that will contain the plot."
   ]
  },
  {
   "cell_type": "code",
   "execution_count": 16,
   "id": "bb169df9",
   "metadata": {},
   "outputs": [
    {
     "data": {
      "text/html": [
       "<html>\n",
       "    <head>\n",
       "    </head>\n",
       "    <body>\n",
       "        <!-- Draw the chart here -->\n",
       "        <div id=\"my-pie-chart\"/>\n",
       "    </body>\n",
       "</html>\n"
      ],
      "text/plain": [
       "<IPython.core.display.HTML object>"
      ]
     },
     "metadata": {},
     "output_type": "display_data"
    }
   ],
   "source": [
    "%%html\n",
    "<html>\n",
    "    <head>\n",
    "    </head>\n",
    "    <body>\n",
    "        <!-- Draw the chart here -->\n",
    "        <div id=\"my-pie-chart\"/>\n",
    "    </body>\n",
    "</html>"
   ]
  },
  {
   "cell_type": "markdown",
   "id": "d1aee52a",
   "metadata": {},
   "source": [
    "<a id=\"data\"></a>\n",
    "#### 7.2 Adding data"
   ]
  },
  {
   "cell_type": "markdown",
   "id": "6987a97e",
   "metadata": {},
   "source": [
    "Apart from using the <code>addColumn</code> and <code>addRow</code> functions, you can also use the <code>arrayToDataTable</code> function to pass in an array of arrays: <code>[[], [], [], []]</code> like so."
   ]
  },
  {
   "cell_type": "code",
   "execution_count": 18,
   "id": "e38f6b55",
   "metadata": {},
   "outputs": [
    {
     "data": {
      "application/javascript": [
       "var data = google.visualization.arrayToDataTable([\n",
       "    ['Month', 'Bolivia', 'Ecuador', 'Madagascar', 'Papua New Guinea', 'Rwanda', 'Average'],\n",
       "    ['2004/05',  165,      938,         522,             998,           450,      614.6],\n",
       "    ['2005/06',  135,      1120,        599,             1268,          288,      682],\n",
       "    ['2006/07',  157,      1167,        587,             807,           397,      623],\n",
       "    ['2007/08',  139,      1110,        615,             968,           215,      609.4],\n",
       "    ['2008/09',  136,      691,         629,             1026,          366,      569.6]\n",
       "]);\n"
      ],
      "text/plain": [
       "<IPython.core.display.Javascript object>"
      ]
     },
     "metadata": {},
     "output_type": "display_data"
    }
   ],
   "source": [
    "%%javascript\n",
    "var data = google.visualization.arrayToDataTable([\n",
    "    ['Month', 'Bolivia', 'Ecuador', 'Madagascar', 'Papua New Guinea', 'Rwanda', 'Average'],\n",
    "    ['2004/05',  165,      938,         522,             998,           450,      614.6],\n",
    "    ['2005/06',  135,      1120,        599,             1268,          288,      682],\n",
    "    ['2006/07',  157,      1167,        587,             807,           397,      623],\n",
    "    ['2007/08',  139,      1110,        615,             968,           215,      609.4],\n",
    "    ['2008/09',  136,      691,         629,             1026,          366,      569.6]\n",
    "]);"
   ]
  },
  {
   "cell_type": "markdown",
   "id": "8cfc135f",
   "metadata": {},
   "source": [
    "Let's take a look at another example using a grouped (clustered) bar plot."
   ]
  },
  {
   "cell_type": "code",
   "execution_count": 2,
   "id": "9a191522",
   "metadata": {},
   "outputs": [
    {
     "data": {
      "text/html": [
       "<html>\n",
       "    <head>\n",
       "      <script src=\"https://www.gstatic.com/charts/loader.js\"></script>\n",
       "      <script>\n",
       "          google.charts.load('current', {packages: ['corechart','bar']});\n",
       "          google.charts.setOnLoadCallback(drawBarChart);\n",
       "\n",
       "          function drawBarChart() {\n",
       "              var data = new google.visualization.arrayToDataTable([\n",
       "                  ['Ward', 'June', 'July'],\n",
       "                  ['Taw', 120, 56],\n",
       "                  ['Nightingale', 77, 65],\n",
       "                  ['Seacole', 102, 76],\n",
       "                  ['Thomas', 88, 56],\n",
       "                  ['Hawthorne', 87, 91],\n",
       "                  ['Popins', 111, 122],\n",
       "                  ['Bolam', 56, 73],\n",
       "                  ['Tatton', 99, 67]\n",
       "              ]);\n",
       "\n",
       "              var chart = new google.charts.Bar(document.getElementById('my-bar-chart'));\n",
       "              chart.draw(data);\n",
       "          }\n",
       "      </script>\n",
       "    </head>\n",
       "    <body>\n",
       "        <!-- Draw the chart here -->\n",
       "        <div id=\"my-bar-chart\"/>\n",
       "    </body>\n",
       "</html>\n"
      ],
      "text/plain": [
       "<IPython.core.display.HTML object>"
      ]
     },
     "metadata": {},
     "output_type": "display_data"
    }
   ],
   "source": [
    "%%html\n",
    "<html>\n",
    "    <head>\n",
    "      <script src=\"https://www.gstatic.com/charts/loader.js\"></script>\n",
    "      <script>\n",
    "          google.charts.load('current', {packages: ['corechart','bar']});\n",
    "          google.charts.setOnLoadCallback(drawBarChart);\n",
    "\n",
    "          function drawBarChart() {\n",
    "              var data = new google.visualization.arrayToDataTable([\n",
    "                  ['Ward', 'June', 'July'],\n",
    "                  ['Taw', 120, 56],\n",
    "                  ['Nightingale', 77, 65],\n",
    "                  ['Seacole', 102, 76],\n",
    "                  ['Thomas', 88, 56],\n",
    "                  ['Hawthorne', 87, 91],\n",
    "                  ['Popins', 111, 122],\n",
    "                  ['Bolam', 56, 73],\n",
    "                  ['Tatton', 99, 67]\n",
    "              ]);\n",
    "\n",
    "              var chart = new google.charts.Bar(document.getElementById('my-bar-chart'));\n",
    "              chart.draw(data);\n",
    "          }\n",
    "      </script>\n",
    "    </head>\n",
    "    <body>\n",
    "        <!-- Draw the chart here -->\n",
    "        <div id=\"my-bar-chart\"/>\n",
    "    </body>\n",
    "</html>"
   ]
  },
  {
   "cell_type": "markdown",
   "id": "c3397819",
   "metadata": {
    "solution2": "hidden",
    "solution2_first": true
   },
   "source": [
    "<div class=\"alert alert-block alert-info\">\n",
    "<b>Task 1:</b>\n",
    "<br> \n",
    "Recreate the above but for a single month only using the data for June. Changing 'June' and 'July' to just 'Month'. You need to create a new container (e.g. <code>my-new-bar-chart</code>) or the new plot will overwrite the previous one above.\n",
    "</div>"
   ]
  },
  {
   "cell_type": "code",
   "execution_count": 3,
   "id": "b77f4b7e",
   "metadata": {
    "solution2": "hidden"
   },
   "outputs": [
    {
     "data": {
      "text/html": [
       "<html>\n",
       "    <head>\n",
       "      <script src=\"https://www.gstatic.com/charts/loader.js\"></script>\n",
       "      <script>\n",
       "          google.charts.load('current', {packages: ['corechart','bar']});\n",
       "          google.charts.setOnLoadCallback(drawBarChart);\n",
       "\n",
       "          function drawBarChart() {\n",
       "              var data = new google.visualization.arrayToDataTable([\n",
       "                  ['Ward', 'Month'],\n",
       "                  ['Taw', 120],\n",
       "                  ['Nightingale', 77],\n",
       "                  ['Seacole', 102],\n",
       "                  ['Thomas', 88],\n",
       "                  ['Hawthorne', 87],\n",
       "                  ['Popins', 111],\n",
       "                  ['Bolam', 56],\n",
       "                  ['Tatton', 99]\n",
       "              ]);\n",
       "\n",
       "              var chart = new google.charts.Bar(document.getElementById('my-new-bar-chart'));\n",
       "              chart.draw(data);\n",
       "          }\n",
       "      </script>\n",
       "    </head>\n",
       "    <body>\n",
       "        <!-- Draw the chart here -->\n",
       "        <div id=\"my-new-bar-chart\"/>\n",
       "    </body>\n",
       "</html>\n"
      ],
      "text/plain": [
       "<IPython.core.display.HTML object>"
      ]
     },
     "metadata": {},
     "output_type": "display_data"
    }
   ],
   "source": [
    "%%html\n",
    "<html>\n",
    "    <head>\n",
    "      <script src=\"https://www.gstatic.com/charts/loader.js\"></script>\n",
    "      <script>\n",
    "          google.charts.load('current', {packages: ['corechart','bar']});\n",
    "          google.charts.setOnLoadCallback(drawBarChart);\n",
    "\n",
    "          function drawBarChart() {\n",
    "              var data = new google.visualization.arrayToDataTable([\n",
    "                  ['Ward', 'Month'],\n",
    "                  ['Taw', 120],\n",
    "                  ['Nightingale', 77],\n",
    "                  ['Seacole', 102],\n",
    "                  ['Thomas', 88],\n",
    "                  ['Hawthorne', 87],\n",
    "                  ['Popins', 111],\n",
    "                  ['Bolam', 56],\n",
    "                  ['Tatton', 99]\n",
    "              ]);\n",
    "\n",
    "              var chart = new google.charts.Bar(document.getElementById('my-new-bar-chart'));\n",
    "              chart.draw(data);\n",
    "          }\n",
    "      </script>\n",
    "    </head>\n",
    "    <body>\n",
    "        <!-- Draw the chart here -->\n",
    "        <div id=\"my-new-bar-chart\"/>\n",
    "    </body>\n",
    "</html>"
   ]
  },
  {
   "cell_type": "code",
   "execution_count": null,
   "id": "72653d92",
   "metadata": {},
   "outputs": [],
   "source": [
    "%%html\n"
   ]
  },
  {
   "cell_type": "markdown",
   "id": "ccb373de",
   "metadata": {},
   "source": [
    "<a id=\"style\"></a>\n",
    "#### 7.3 Styling plots"
   ]
  },
  {
   "cell_type": "markdown",
   "id": "b922e571",
   "metadata": {},
   "source": [
    "As with all tools to create plots, you can also style various parts of the plot. To do this we can simply create an object and add style information as a set of key/value pairs."
   ]
  },
  {
   "cell_type": "code",
   "execution_count": 26,
   "id": "cc79d32a",
   "metadata": {},
   "outputs": [
    {
     "data": {
      "application/javascript": [
       "var myChartStyleOptions = {\n",
       "    // Place style options here\n",
       "}\n"
      ],
      "text/plain": [
       "<IPython.core.display.Javascript object>"
      ]
     },
     "metadata": {},
     "output_type": "display_data"
    }
   ],
   "source": [
    "%%javascript\n",
    "var myChartStyleOptions = {\n",
    "    // Place style options here\n",
    "};"
   ]
  },
  {
   "cell_type": "markdown",
   "id": "1ff4b0ee",
   "metadata": {},
   "source": [
    "Like so, setting the <code>title</code> property of the chart."
   ]
  },
  {
   "cell_type": "code",
   "execution_count": 27,
   "id": "7c8575fc",
   "metadata": {},
   "outputs": [
    {
     "data": {
      "application/javascript": [
       "var myChartStyleOptions = {\n",
       "    chart: {\n",
       "        title: \"Average heart rates per ward (June/July 2020)\"\n",
       "    }\n",
       "}\n"
      ],
      "text/plain": [
       "<IPython.core.display.Javascript object>"
      ]
     },
     "metadata": {},
     "output_type": "display_data"
    }
   ],
   "source": [
    "%%javascript\n",
    "var myChartStyleOptions = {\n",
    "    chart: {\n",
    "        title: \"Average heart rates per ward (June/July 2020)\"\n",
    "    }\n",
    "};"
   ]
  },
  {
   "cell_type": "markdown",
   "id": "72be56af",
   "metadata": {},
   "source": [
    "We can add additional ones using a comma such as the text for the horizontal axis label. "
   ]
  },
  {
   "cell_type": "code",
   "execution_count": null,
   "id": "9e8aecf3",
   "metadata": {},
   "outputs": [],
   "source": [
    "%%javascript\n",
    "var myChartStyleOptions = {\n",
    "    chart: {\n",
    "        title: \"Average heart rates per ward (June/July 2020)\"\n",
    "    },\n",
    "    hAxis: {\n",
    "        title: \"Ward\"\n",
    "    }\n",
    "};"
   ]
  },
  {
   "cell_type": "markdown",
   "id": "01b65dfd",
   "metadata": {},
   "source": [
    "You can also add more than one per component. Here we set the title for the horizontal axis and also the minimum value."
   ]
  },
  {
   "cell_type": "code",
   "execution_count": null,
   "id": "f3797430",
   "metadata": {},
   "outputs": [],
   "source": [
    "%%javascript\n",
    "var myChartStyleOptions = {\n",
    "    chart: {\n",
    "        title: \"Average heart rates per ward (June/July 2020)\"\n",
    "    },\n",
    "    hAxis: {\n",
    "        title: \"Ward\",\n",
    "        minValue: 0\n",
    "    }\n",
    "};"
   ]
  },
  {
   "cell_type": "markdown",
   "id": "12ffd17b",
   "metadata": {},
   "source": [
    "here's what it looks like in context. Note that in order to use the options we need to pass them as an argument to the <code>draw</code> function along with the data: <code>chart.draw(data, myChartStyleOptions);</code>."
   ]
  },
  {
   "cell_type": "code",
   "execution_count": 4,
   "id": "8638c5db",
   "metadata": {},
   "outputs": [
    {
     "data": {
      "text/html": [
       "<html>\n",
       "    <head>\n",
       "      <script src=\"https://www.gstatic.com/charts/loader.js\"></script>\n",
       "      <script>\n",
       "          google.charts.load('current', {packages: ['corechart','bar']});\n",
       "          google.charts.setOnLoadCallback(drawBarChart);\n",
       "\n",
       "          function drawBarChart() {\n",
       "              var data = new google.visualization.arrayToDataTable([\n",
       "                  ['Ward', 'June', 'July'],\n",
       "                  ['Taw', 120, 56],\n",
       "                  ['Nightingale', 77, 65],\n",
       "                  ['Seacole', 102, 76],\n",
       "                  ['Thomas', 88, 56],\n",
       "                  ['Hawthorne', 87, 91],\n",
       "                  ['Popins', 111, 122],\n",
       "                  ['Bolam', 56, 73],\n",
       "                  ['Tatton', 99, 67]\n",
       "              ]);\n",
       "               \n",
       "              var myChartStyleOptions = {\n",
       "                  chart: {\n",
       "                      title: \"Average heart rates per ward (June/July 2020)\"\n",
       "                  },\n",
       "                  hAxis: {\n",
       "                      title: \"Ward\"\n",
       "                  }\n",
       "              };\n",
       "              \n",
       "              var chart = new google.charts.Bar(document.getElementById('my-bar-chart-with-details'));\n",
       "              chart.draw(data, myChartStyleOptions);\n",
       "          }\n",
       "      </script>\n",
       "    </head>\n",
       "    <body>\n",
       "        <!-- Draw the chart here -->\n",
       "        <div id=\"my-bar-chart-with-details\"/>\n",
       "    </body>\n",
       "</html>\n"
      ],
      "text/plain": [
       "<IPython.core.display.HTML object>"
      ]
     },
     "metadata": {},
     "output_type": "display_data"
    }
   ],
   "source": [
    "%%html\n",
    "<html>\n",
    "    <head>\n",
    "      <script src=\"https://www.gstatic.com/charts/loader.js\"></script>\n",
    "      <script>\n",
    "          google.charts.load('current', {packages: ['corechart','bar']});\n",
    "          google.charts.setOnLoadCallback(drawBarChart);\n",
    "\n",
    "          function drawBarChart() {\n",
    "              var data = new google.visualization.arrayToDataTable([\n",
    "                  ['Ward', 'June', 'July'],\n",
    "                  ['Taw', 120, 56],\n",
    "                  ['Nightingale', 77, 65],\n",
    "                  ['Seacole', 102, 76],\n",
    "                  ['Thomas', 88, 56],\n",
    "                  ['Hawthorne', 87, 91],\n",
    "                  ['Popins', 111, 122],\n",
    "                  ['Bolam', 56, 73],\n",
    "                  ['Tatton', 99, 67]\n",
    "              ]);\n",
    "               \n",
    "              var myChartStyleOptions = {\n",
    "                  chart: {\n",
    "                      title: \"Average heart rates per ward (June/July 2020)\"\n",
    "                  },\n",
    "                  hAxis: {\n",
    "                      title: \"Ward\"\n",
    "                  }\n",
    "              };\n",
    "              \n",
    "              var chart = new google.charts.Bar(document.getElementById('my-bar-chart-with-details'));\n",
    "              chart.draw(data, myChartStyleOptions);\n",
    "          }\n",
    "      </script>\n",
    "    </head>\n",
    "    <body>\n",
    "        <!-- Draw the chart here -->\n",
    "        <div id=\"my-bar-chart-with-details\"/>\n",
    "    </body>\n",
    "</html>"
   ]
  },
  {
   "cell_type": "markdown",
   "id": "581a26d0",
   "metadata": {},
   "source": [
    "<a id=\"turn\"></a>\n",
    "#### 7.4 Your turn"
   ]
  },
  {
   "cell_type": "markdown",
   "id": "bbb135f7",
   "metadata": {},
   "source": [
    "Below is some data showing the cumulative total of people vaccinated against a fictitious infection (Triox23)."
   ]
  },
  {
   "cell_type": "markdown",
   "id": "e0b7b756",
   "metadata": {},
   "source": [
    "<table>\n",
    "<thead>\n",
    "  <tr>\n",
    "    <th>Month</th>\n",
    "    <th>Vaccinated</th>\n",
    "  </tr>\n",
    "</thead>\n",
    "<tbody>\n",
    "  <tr>\n",
    "    <td>Jan</td>\n",
    "    <td>103</td>\n",
    "  </tr>\n",
    "  <tr>\n",
    "    <td>Feb</td>\n",
    "    <td>238</td>\n",
    "  </tr>\n",
    "  <tr>\n",
    "    <td>Mar</td>\n",
    "    <td>402</td>\n",
    "  </tr>\n",
    "  <tr>\n",
    "    <td>Apr</td>\n",
    "    <td>560</td>\n",
    "  </tr>\n",
    "  <tr>\n",
    "    <td>May</td>\n",
    "    <td>783</td>\n",
    "  </tr>\n",
    "  <tr>\n",
    "    <td>Jun</td>\n",
    "    <td>883</td>\n",
    "  </tr>\n",
    "  <tr>\n",
    "    <td>Jul</td>\n",
    "    <td>956</td>\n",
    "  </tr>\n",
    "  <tr>\n",
    "    <td>Aug</td>\n",
    "    <td>1502</td>\n",
    "  </tr>\n",
    "  <tr>\n",
    "    <td>Sep</td>\n",
    "    <td>2340</td>\n",
    "  </tr>\n",
    "  <tr>\n",
    "    <td>Oct</td>\n",
    "    <td>3524</td>\n",
    "  </tr>\n",
    "  <tr>\n",
    "    <td>Nov</td>\n",
    "    <td>4621</td>\n",
    "  </tr>\n",
    "  <tr>\n",
    "    <td>Dec</td>\n",
    "    <td>5362</td>\n",
    "  </tr>\n",
    "</tbody>\n",
    "</table>"
   ]
  },
  {
   "cell_type": "markdown",
   "id": "8c8ab24a",
   "metadata": {
    "solution2": "hidden",
    "solution2_first": true
   },
   "source": [
    "<div class=\"alert alert-block alert-info\">\n",
    "<b>Task 2:</b>\n",
    "<br> \n",
    "Using the data in the table above, look at the (<a href=\"https://developers.google.com/chart/interactive/docs/gallery\" target=\"_blank\">gallery</a>) and create a <code>line plot</code> showing the above data. Add a suitable title and axis labels for context.\n",
    "</div>"
   ]
  },
  {
   "cell_type": "code",
   "execution_count": 5,
   "id": "0dd3ccfe",
   "metadata": {
    "solution2": "hidden"
   },
   "outputs": [
    {
     "data": {
      "text/html": [
       "<html>\n",
       "    <head>\n",
       "      <script src=\"https://www.gstatic.com/charts/loader.js\"></script>\n",
       "      <script>\n",
       "          google.charts.load('current', {packages: ['corechart','line']});\n",
       "          google.charts.setOnLoadCallback(drawLineChart);\n",
       "\n",
       "          function drawLineChart() {\n",
       "              var data = new google.visualization.arrayToDataTable([\n",
       "                  ['Month', 'Vaccinated'],\n",
       "                  ['Jan', 103],\n",
       "                  ['Feb', 238],\n",
       "                  ['Mar', 402],\n",
       "                  ['Apr', 560],\n",
       "                  ['May', 783],\n",
       "                  ['Jun', 883],\n",
       "                  ['Jul', 956],\n",
       "                  ['Aug', 1502],\n",
       "                  ['Sep', 2340],\n",
       "                  ['Oct', 3524],\n",
       "                  ['Nov', 4621],\n",
       "                  ['Dec', 5362]\n",
       "              ]);\n",
       "               \n",
       "              var myChartStyleOptions = {\n",
       "                  chart: {\n",
       "                      title: \"Cumulative total of people vaccinated against Triox23 in 2023\"\n",
       "                  },\n",
       "                  hAxis: {\n",
       "                      title: \"Month\"\n",
       "                  },\n",
       "                  vAxis: {\n",
       "                      title: \"Total vaccinated (cumulative)\"\n",
       "                  }\n",
       "              };\n",
       "              \n",
       "              var chart = new google.visualization.LineChart(document.getElementById('my-line-chart'));\n",
       "              chart.draw(data, myChartStyleOptions);\n",
       "          }\n",
       "      </script>\n",
       "    </head>\n",
       "    <body>\n",
       "        <!-- Draw the chart here -->\n",
       "        <div id=\"my-line-chart\"/>\n",
       "    </body>\n",
       "</html>\n"
      ],
      "text/plain": [
       "<IPython.core.display.HTML object>"
      ]
     },
     "metadata": {},
     "output_type": "display_data"
    }
   ],
   "source": [
    "%%html\n",
    "<html>\n",
    "    <head>\n",
    "      <script src=\"https://www.gstatic.com/charts/loader.js\"></script>\n",
    "      <script>\n",
    "          google.charts.load('current', {packages: ['corechart','line']});\n",
    "          google.charts.setOnLoadCallback(drawLineChart);\n",
    "\n",
    "          function drawLineChart() {\n",
    "              var data = new google.visualization.arrayToDataTable([\n",
    "                  ['Month', 'Vaccinated'],\n",
    "                  ['Jan', 103],\n",
    "                  ['Feb', 238],\n",
    "                  ['Mar', 402],\n",
    "                  ['Apr', 560],\n",
    "                  ['May', 783],\n",
    "                  ['Jun', 883],\n",
    "                  ['Jul', 956],\n",
    "                  ['Aug', 1502],\n",
    "                  ['Sep', 2340],\n",
    "                  ['Oct', 3524],\n",
    "                  ['Nov', 4621],\n",
    "                  ['Dec', 5362]\n",
    "              ]);\n",
    "               \n",
    "              var myChartStyleOptions = {\n",
    "                  chart: {\n",
    "                      title: \"Cumulative total of people vaccinated against Triox23 in 2023\"\n",
    "                  },\n",
    "                  hAxis: {\n",
    "                      title: \"Month\"\n",
    "                  },\n",
    "                  vAxis: {\n",
    "                      title: \"Total vaccinated (cumulative)\"\n",
    "                  }\n",
    "              };\n",
    "              \n",
    "              var chart = new google.visualization.LineChart(document.getElementById('my-line-chart'));\n",
    "              chart.draw(data, myChartStyleOptions);\n",
    "          }\n",
    "      </script>\n",
    "    </head>\n",
    "    <body>\n",
    "        <!-- Draw the chart here -->\n",
    "        <div id=\"my-line-chart\"/>\n",
    "    </body>\n",
    "</html>"
   ]
  },
  {
   "cell_type": "code",
   "execution_count": null,
   "id": "0aba8c30",
   "metadata": {},
   "outputs": [],
   "source": [
    "%%html\n"
   ]
  },
  {
   "cell_type": "markdown",
   "id": "b35fb343",
   "metadata": {},
   "source": [
    "Google Charts can be a great way to add interactive charts to a web page or website and for creating dashboards and other web-based views of data. Web pages are a good way of allowing users to view data visualisations interactively without them having to download and install additional software. To use Google Charts effectively one would need some knowledge of HTML and JavaScript to get the best out of them. The multiple examples in the gallery are a great way to start. "
   ]
  },
  {
   "cell_type": "markdown",
   "id": "acdf2c41",
   "metadata": {},
   "source": [
    "#### Feedback\n",
    "Please rate this notebook by clicking on the image below (it will open up a new window where you can select one of the three icons)\n",
    " <a href=\"https://www.qualtrics.manchester.ac.uk/jfe/form/SV_02mzhrudvTaUYKi\" target=\"_blank\"><img src=\"./images/sentiment-check-icons.png\" width=\"80%\" /></a>"
   ]
  },
  {
   "cell_type": "markdown",
   "id": "41994b53",
   "metadata": {},
   "source": [
    "------\n",
    "\n",
    "##### About this Workbook\n",
    "<br>\n",
    "<i>Workbook created by <strong>Dr. Alan Davies</strong></i>.\n",
    "    \n",
    "Publish date: June 2023<br>\n",
    "Review date: June 2024"
   ]
  },
  {
   "cell_type": "markdown",
   "id": "cee34180",
   "metadata": {},
   "source": [
    "## Notes:"
   ]
  },
  {
   "cell_type": "code",
   "execution_count": null,
   "id": "0ce48192",
   "metadata": {},
   "outputs": [],
   "source": []
  }
 ],
 "metadata": {
  "hide_input": false,
  "kernelspec": {
   "display_name": "Python 3",
   "language": "python",
   "name": "python3"
  },
  "language_info": {
   "codemirror_mode": {
    "name": "ipython",
    "version": 3
   },
   "file_extension": ".py",
   "mimetype": "text/x-python",
   "name": "python",
   "nbconvert_exporter": "python",
   "pygments_lexer": "ipython3",
   "version": "3.7.3"
  },
  "varInspector": {
   "cols": {
    "lenName": 16,
    "lenType": 16,
    "lenVar": 40
   },
   "kernels_config": {
    "python": {
     "delete_cmd_postfix": "",
     "delete_cmd_prefix": "del ",
     "library": "var_list.py",
     "varRefreshCmd": "print(var_dic_list())"
    },
    "r": {
     "delete_cmd_postfix": ") ",
     "delete_cmd_prefix": "rm(",
     "library": "var_list.r",
     "varRefreshCmd": "cat(var_dic_list()) "
    }
   },
   "types_to_exclude": [
    "module",
    "function",
    "builtin_function_or_method",
    "instance",
    "_Feature"
   ],
   "window_display": false
  }
 },
 "nbformat": 4,
 "nbformat_minor": 5
}
