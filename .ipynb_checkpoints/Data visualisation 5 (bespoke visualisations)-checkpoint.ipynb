{
 "cells": [
  {
   "cell_type": "markdown",
   "metadata": {},
   "source": [
    "<img src=\"./images/banner.png\" width=\"100%\" align=\"left\" />"
   ]
  },
  {
   "cell_type": "markdown",
   "metadata": {},
   "source": [
    "<table style=\"float:right;\">\n",
    "    <tr>\n",
    "        <td>                      \n",
    "            <div style=\"text-align: right\"><a href=\"https://alandavies.netlify.com\" target=\"_blank\">Dr Alan Davies</a></div>\n",
    "            <div style=\"text-align: right\">Senior Lecturer Health Data Science</div>\n",
    "            <div style=\"text-align: right\">University of Manchester</div>\n",
    "         </td>\n",
    "         <td>\n",
    "             <img src=\"./images/alan.png\" width=\"30%\" />\n",
    "         </td>\n",
    "     </tr>\n",
    "</table>"
   ]
  },
  {
   "cell_type": "markdown",
   "metadata": {},
   "source": [
    "# 5.0 Creating bespoke visualisations in R\n",
    "****"
   ]
  },
  {
   "cell_type": "markdown",
   "metadata": {},
   "source": [
    "#### About this Notebook\n",
    "This notebook introduces topics around creating new customised visualisations that may not be part of any standard visualisation library. This is a bit different to other notebooks as we look at a case study that slowly builds a function to create a bespoke plot by way of example."
   ]
  },
  {
   "cell_type": "markdown",
   "metadata": {},
   "source": [
    "<div class=\"alert alert-block alert-warning\"><b>Learning Objectives:</b> \n",
    "<br/> At the end of this notebook you will be able to:\n",
    "\n",
    "- LO9\tPractice plotting data using appropriate visualisation types, including static and dynamic (interactive) forms of visualisation using modern graph libraries in languages like R and Python\n",
    "   \n",
    "- LO7\tDiscuss the need for, and know when to add additional annotations to visualisations for wider context (e.g. provenance, uncertainty, sample size, confidence intervals)\n",
    "    \n",
    "  \n",
    "</div> "
   ]
  },
  {
   "cell_type": "markdown",
   "metadata": {},
   "source": [
    "<a id=\"top\"></a>\n",
    "\n",
    "<b>Table of contents</b><br>\n",
    "\n",
    "5.1 [Kite plots/diagrams](#kite)\n",
    "\n",
    "5.2 [Creating some data](#data)\n",
    "\n",
    "5.3 [Creating a function](#func)\n",
    "\n",
    "5.4 [Generating points](#points)\n",
    "\n",
    "5.5 [Adding shapes to the plots](#adding)\n",
    "\n",
    "5.6 [Adding final touches](#touches)"
   ]
  },
  {
   "cell_type": "markdown",
   "metadata": {},
   "source": [
    "For this notebook we will use a case study. This is based around a type of visualisation called a <code>kite plot</code>. A kite plot or diagram is a type of visualisation that is classically used in the fields of  ecology and biology. They also form part of the school syllabus on A-Level Biology courses in the UK. Despite this, there are few options for creating these diagrams in standard software visualisation packages (at least at the time of writing this), and most seem to still be hand drawn."
   ]
  },
  {
   "cell_type": "markdown",
   "metadata": {},
   "source": [
    "<a id=\"kite\"></a>\n",
    "#### 5.1 Kite plots/diagrams"
   ]
  },
  {
   "cell_type": "markdown",
   "metadata": {},
   "source": [
    "Below is a hand drawn version of the kite plot from an A-level student."
   ]
  },
  {
   "cell_type": "markdown",
   "metadata": {},
   "source": [
    "<img src=\"./images/kite1.png\" width=\"30%\" align=\"left\" />"
   ]
  },
  {
   "cell_type": "markdown",
   "metadata": {},
   "source": [
    "Kite diagrams provide a graphical summary of different observations made along a <code>transect</code>. A transect is a line placed across a part of an ecological habitat, or an entire habitat. This is often done manually with string, rope etc. The quantity of various species can be counted at regular intervals along the transect. The distribution of the various species can be affected by various different factors including predators and also by other environmental factors like heat, light and moisture levels. These are referred to as abiotic (not alive) factors. Data can also be collected using a quadrat, this involves using a square (e.g. $1m^2$) frame that is moved along the transect. The number of species in the square can then be counted at each point.\n",
    "<br><br>\n",
    "Kite diagrams are a way of seeing the change in abundance of the various species along a transect.\n",
    "<br><br>\n",
    "This allows researchers to see the relative abundance of certain species in different places in a habitat such as a seashore. There may be many types of grass, plants and insects for example distributed over the shore at different points."
   ]
  },
  {
   "cell_type": "markdown",
   "metadata": {},
   "source": [
    "<a id=\"data\"></a>\n",
    "#### 5.2 Creating some data"
   ]
  },
  {
   "cell_type": "markdown",
   "metadata": {},
   "source": [
    "Before we can create our plot, we need some data. We can use the data that was used to create the hand drawn version above. We can also use this to test the plot is outputting correctly as we would expect the digital version to look the same as the hand drawn version. First let's import the libraries we may need."
   ]
  },
  {
   "cell_type": "code",
   "execution_count": 1,
   "metadata": {},
   "outputs": [
    {
     "name": "stderr",
     "output_type": "stream",
     "text": [
      "Registered S3 methods overwritten by 'ggplot2':\n",
      "  method         from \n",
      "  [.quosures     rlang\n",
      "  c.quosures     rlang\n",
      "  print.quosures rlang\n",
      "Registered S3 method overwritten by 'rvest':\n",
      "  method            from\n",
      "  read_xml.response xml2\n",
      "-- Attaching packages --------------------------------------- tidyverse 1.2.1 --\n",
      "v tibble  2.1.1       v purrr   0.3.2  \n",
      "v tidyr   0.8.3       v dplyr   0.8.0.1\n",
      "v readr   1.3.1       v stringr 1.4.0  \n",
      "v tibble  2.1.1       v forcats 0.4.0  \n",
      "-- Conflicts ------------------------------------------ tidyverse_conflicts() --\n",
      "x dplyr::filter()  masks stats::filter()\n",
      "x purrr::flatten() masks jsonlite::flatten()\n",
      "x dplyr::lag()     masks stats::lag()\n"
     ]
    }
   ],
   "source": [
    "library(ggplot2)\n",
    "library(tidyverse)"
   ]
  },
  {
   "cell_type": "markdown",
   "metadata": {
    "solution2": "shown",
    "solution2_first": true
   },
   "source": [
    "<div class=\"alert alert-block alert-info\">\n",
    "<b>Task 1:</b>\n",
    "<br> \n",
    "    The data is held in a file called <code>kitedata.csv</code> in a relative folder called <code>data</code>. Load the file into a dataframe called <code>kite_data</code> and output the entire dataset.\n",
    "</div>"
   ]
  },
  {
   "cell_type": "code",
   "execution_count": 2,
   "metadata": {
    "solution2": "shown"
   },
   "outputs": [
    {
     "data": {
      "text/html": [
       "<table>\n",
       "<thead><tr><th scope=col>Distance</th><th scope=col>Red.clove</th><th scope=col>White.clove</th><th scope=col>Daisy</th><th scope=col>Dandelion</th><th scope=col>Fox.glove</th></tr></thead>\n",
       "<tbody>\n",
       "\t<tr><td> 0</td><td>3 </td><td>0 </td><td>0 </td><td>0 </td><td>0 </td></tr>\n",
       "\t<tr><td> 2</td><td>4 </td><td>2 </td><td>0 </td><td>0 </td><td>0 </td></tr>\n",
       "\t<tr><td> 4</td><td>5 </td><td>3 </td><td>0 </td><td>2 </td><td>0 </td></tr>\n",
       "\t<tr><td> 6</td><td>6 </td><td>1 </td><td>0 </td><td>3 </td><td>1 </td></tr>\n",
       "\t<tr><td> 8</td><td>4 </td><td>0 </td><td>1 </td><td>4 </td><td>2 </td></tr>\n",
       "\t<tr><td>10</td><td>2 </td><td>0 </td><td>2 </td><td>6 </td><td>0 </td></tr>\n",
       "\t<tr><td>12</td><td>0 </td><td>1 </td><td>0 </td><td>5 </td><td>0 </td></tr>\n",
       "\t<tr><td>14</td><td>0 </td><td>3 </td><td>0 </td><td>0 </td><td>3 </td></tr>\n",
       "\t<tr><td>16</td><td>2 </td><td>4 </td><td>0 </td><td>4 </td><td>2 </td></tr>\n",
       "\t<tr><td>18</td><td>4 </td><td>5 </td><td>0 </td><td>6 </td><td>2 </td></tr>\n",
       "\t<tr><td>20</td><td>2 </td><td>3 </td><td>0 </td><td>2 </td><td>0 </td></tr>\n",
       "</tbody>\n",
       "</table>\n"
      ],
      "text/latex": [
       "\\begin{tabular}{r|llllll}\n",
       " Distance & Red.clove & White.clove & Daisy & Dandelion & Fox.glove\\\\\n",
       "\\hline\n",
       "\t  0 & 3  & 0  & 0  & 0  & 0 \\\\\n",
       "\t  2 & 4  & 2  & 0  & 0  & 0 \\\\\n",
       "\t  4 & 5  & 3  & 0  & 2  & 0 \\\\\n",
       "\t  6 & 6  & 1  & 0  & 3  & 1 \\\\\n",
       "\t  8 & 4  & 0  & 1  & 4  & 2 \\\\\n",
       "\t 10 & 2  & 0  & 2  & 6  & 0 \\\\\n",
       "\t 12 & 0  & 1  & 0  & 5  & 0 \\\\\n",
       "\t 14 & 0  & 3  & 0  & 0  & 3 \\\\\n",
       "\t 16 & 2  & 4  & 0  & 4  & 2 \\\\\n",
       "\t 18 & 4  & 5  & 0  & 6  & 2 \\\\\n",
       "\t 20 & 2  & 3  & 0  & 2  & 0 \\\\\n",
       "\\end{tabular}\n"
      ],
      "text/markdown": [
       "\n",
       "| Distance | Red.clove | White.clove | Daisy | Dandelion | Fox.glove |\n",
       "|---|---|---|---|---|---|\n",
       "|  0 | 3  | 0  | 0  | 0  | 0  |\n",
       "|  2 | 4  | 2  | 0  | 0  | 0  |\n",
       "|  4 | 5  | 3  | 0  | 2  | 0  |\n",
       "|  6 | 6  | 1  | 0  | 3  | 1  |\n",
       "|  8 | 4  | 0  | 1  | 4  | 2  |\n",
       "| 10 | 2  | 0  | 2  | 6  | 0  |\n",
       "| 12 | 0  | 1  | 0  | 5  | 0  |\n",
       "| 14 | 0  | 3  | 0  | 0  | 3  |\n",
       "| 16 | 2  | 4  | 0  | 4  | 2  |\n",
       "| 18 | 4  | 5  | 0  | 6  | 2  |\n",
       "| 20 | 2  | 3  | 0  | 2  | 0  |\n",
       "\n"
      ],
      "text/plain": [
       "   Distance Red.clove White.clove Daisy Dandelion Fox.glove\n",
       "1   0       3         0           0     0         0        \n",
       "2   2       4         2           0     0         0        \n",
       "3   4       5         3           0     2         0        \n",
       "4   6       6         1           0     3         1        \n",
       "5   8       4         0           1     4         2        \n",
       "6  10       2         0           2     6         0        \n",
       "7  12       0         1           0     5         0        \n",
       "8  14       0         3           0     0         3        \n",
       "9  16       2         4           0     4         2        \n",
       "10 18       4         5           0     6         2        \n",
       "11 20       2         3           0     2         0        "
      ]
     },
     "metadata": {},
     "output_type": "display_data"
    }
   ],
   "source": [
    "kite_data <- read.csv(\"./data/kitedata.csv\")\n",
    "kite_data"
   ]
  },
  {
   "cell_type": "code",
   "execution_count": null,
   "metadata": {},
   "outputs": [],
   "source": []
  },
  {
   "cell_type": "markdown",
   "metadata": {},
   "source": [
    "The first column of the data represents the distances. This will be used for the horizontal axis. The remaining columns represent the frequency of species or sometimes the percentage cover of certain plants that will be plotted at intervals on the y-axis."
   ]
  },
  {
   "cell_type": "markdown",
   "metadata": {},
   "source": [
    "<a id=\"func\"></a>\n",
    "#### 5.3 Creating a function"
   ]
  },
  {
   "cell_type": "markdown",
   "metadata": {},
   "source": [
    "To make the plot reusable we can encapsulate the code into a <code>function</code>. Functions are blocks of modular code that can be reused. They should also be specific to a task or purpose. Here is a quick example. Let's say we wanted to create a program that allows us to input a user name which is proceeded by the text <code>Welcome to the system ...</code> and then their name. We could create a function to do this. We will call the function <code>welcome</code>."
   ]
  },
  {
   "cell_type": "code",
   "execution_count": 3,
   "metadata": {},
   "outputs": [],
   "source": [
    "welcome <- function(persons_name) {\n",
    "    cat(\"\\nWelcome to the system\", persons_name)\n",
    "}"
   ]
  },
  {
   "cell_type": "markdown",
   "metadata": {},
   "source": [
    "You will note that there is no output until we run the function."
   ]
  },
  {
   "cell_type": "code",
   "execution_count": 4,
   "metadata": {},
   "outputs": [
    {
     "name": "stdout",
     "output_type": "stream",
     "text": [
      "\n",
      "Welcome to the system Paul"
     ]
    }
   ],
   "source": [
    "welcome(\"Paul\")"
   ]
  },
  {
   "cell_type": "markdown",
   "metadata": {},
   "source": [
    "We can reuse the function as often as needed:"
   ]
  },
  {
   "cell_type": "code",
   "execution_count": 5,
   "metadata": {},
   "outputs": [
    {
     "name": "stdout",
     "output_type": "stream",
     "text": [
      "\n",
      "Welcome to the system Holly"
     ]
    }
   ],
   "source": [
    "welcome(\"Holly\")"
   ]
  },
  {
   "cell_type": "markdown",
   "metadata": {},
   "source": [
    "We will create a function called <code>kite_diagram</code> and pass in the data frame and the axis labels. We will also give the function a comment to explain to users what it does."
   ]
  },
  {
   "cell_type": "code",
   "execution_count": 6,
   "metadata": {},
   "outputs": [
    {
     "name": "stdout",
     "output_type": "stream",
     "text": [
      "NULL\n",
      "[1] 1 2 3 4 5\n"
     ]
    },
    {
     "data": {
      "image/png": "[encoded data removed]",
      "text/plain": [
       "plot without title"
      ]
     },
     "metadata": {},
     "output_type": "display_data"
    }
   ],
   "source": [
    "# Function to draw a kite diagram. \n",
    "kite_diagram <- function(df, axis_labs) { \n",
    "    start_points <- vector()\n",
    "    v1 <- df[[1]]\n",
    "    y_values <- colnames(df)[seq(2,ncol(df))]\n",
    "    num_cols <- ncol(df)-1\n",
    "    df_cols <- df[ ,2:ncol(df)]\n",
    "    max_val <- max(df_cols)\n",
    "    \n",
    "    #v2 <- df_cols / 2\n",
    "    #print(v2)\n",
    "    \n",
    "    for(j in 1:num_cols) {\n",
    "        p1 <- vector()\n",
    "        p2 <- vector()\n",
    "        v2 <- df_cols[[j]] / 2\n",
    "        if(j == 1) {\n",
    "            start_point <- max_val / 2\n",
    "        } else {\n",
    "            start_point <- start_point + max_val\n",
    "        }\n",
    "        start_points <- append(start_points, start_point)\n",
    "        p1 <- append(p1, c(0, start_point))\n",
    "        p2 <- append(p2, c(0, start_point))\n",
    "    \n",
    "        for(i in 1:length(v1)) {\n",
    "            p1 <- append(p1, c(v1[i], start_point + v2[i]))\n",
    "            p2 <- append(p2, c(v1[i], start_point - v2[i]))\n",
    "        }\n",
    "        p1 <- append(p1, c(v1[i], start_point))\n",
    "        p2 <- append(p2, c(v1[i], start_point))\n",
    "        \n",
    "        poly <- as.matrix(data.frame(lat=p1,lon=p2))\n",
    "      #  print(p1)\n",
    "        \n",
    "    }\n",
    "    #p1 <- list(c(0, 0), c(2, 0), c(4, 0))\n",
    "    #p2 <- list(c(0, 0), c(2, 0), c(4, 0))\n",
    "    #print(p1)\n",
    "    x <- c(0, 0, 0, 0, 1.5, 2, 4, 4, 3.5, 2.5, 2, 0)\n",
    "    y <- c(2, 4, 6, 8, 10, 12, 14, 16, 18, 20, 20, 0)\n",
    "    par(mar=c(5.1,7,4.1,2.1))\n",
    "    print(plot(c(min(df[,1]), max(df[,1])), c(0, ncol(df)), type=\"n\", xlab=names(df)[1], frame.plot=T, yaxt=\"n\", ylab=\"\"))\n",
    "    print(axis(2, labels=names(df)[2:ncol(df)], at=1:(ncol(df)-1), las=2, lty=0))\n",
    "    \n",
    "    x_val <- df[,1]\n",
    "    for(i in 2:ncol(df)) {\n",
    "        y_val <- i + df[,i] - 1\n",
    "        polygon(x_val, y_val, col=i)\n",
    "    }\n",
    "    \n",
    "    #p <- ggplot(NULL, aes(1:10, 1:10)) + geom_point() + geom_polygon(aes(x, y), fill=\"red\", alpha=0.4)\n",
    "    #print(p)\n",
    "    \n",
    "}\n",
    "\n",
    "kite_diagram(kite_data, c(\"Distance\", \"Species\"))"
   ]
  },
  {
   "cell_type": "markdown",
   "metadata": {},
   "source": [
    "<div class=\"alert alert-success\">\n",
    "    <b>Note:</b> We can also use <code>docstrings</code> in R to provide more advanced documentation for functions. See <a href=\"https://cran.r-project.org/web/packages/docstring/vignettes/docstring_intro.html\" target=\"_blank\">Introduction to docstring</a>.\n",
    "</div>"
   ]
  },
  {
   "cell_type": "code",
   "execution_count": 7,
   "metadata": {},
   "outputs": [
    {
     "name": "stdout",
     "output_type": "stream",
     "text": [
      "[[1]]\n",
      "[1] 1 2\n",
      "\n",
      "[[2]]\n",
      "[1] 3 4\n",
      "\n"
     ]
    }
   ],
   "source": [
    "x <- list()\n",
    "x[[1]] <- c(1,2)\n",
    "x[[2]] <- c(3, 4)\n",
    "print(x)"
   ]
  },
  {
   "cell_type": "code",
   "execution_count": 8,
   "metadata": {},
   "outputs": [
    {
     "ename": "ERROR",
     "evalue": "Error in parse(text = x, srcfile = src): <text>:1:5: unexpected symbol\n1: def kite_diagram\n        ^\n",
     "output_type": "error",
     "traceback": [
      "Error in parse(text = x, srcfile = src): <text>:1:5: unexpected symbol\n1: def kite_diagram\n        ^\nTraceback:\n"
     ]
    }
   ],
   "source": [
    "def kite_diagram(df:\"dataframe\", axis_labs:\"list\"):\n",
    "    \"\"\"Function to draw a kite diagram.\"\"\"    \n",
    "    plt.axes()\n",
    "    start_points = []\n",
    "    v1 = np.array(df.iloc[:, [0]])\n",
    "    y_values = df.columns\n",
    "    y_values = np.delete(y_values, 0)\n",
    "    num_cols = len(df.columns) - 1\n",
    "    \n",
    "    # Get the max value of all the data for vertical spacing\n",
    "    df_cols = df.iloc[:, 1:len(df.columns)]\n",
    "    max_val = max(df_cols.max())\n",
    "    \n",
    "    # Loop over all the columns in the data apart form the first\n",
    "    for j in range(1, num_cols + 1):\n",
    "        p1 = []\n",
    "        p2 = []\n",
    "\n",
    "        # Get the mid point\n",
    "        v2 = np.array(df.iloc[:, [j]]) / 2       \n",
    "        if j == 1:\n",
    "            start_point = max_val / 2\n",
    "        else:\n",
    "            start_point = start_point + max_val\n",
    "\n",
    "        start_points.append(start_point)\n",
    "        p1.append([0, start_point])\n",
    "        p2.append([0, start_point])\n",
    "        \n",
    "        # Loop through the data and generate the above/below baseline points\n",
    "        for i in range(0, len(v1)):\n",
    "            p1.append([v1[i], start_point + v2[i]]) \n",
    "            p2.append([v1[i], start_point - v2[i]])\n",
    "\n",
    "        p1.append([v1[i], start_point])\n",
    "        p2.append([v1[i], start_point])\n",
    "\n",
    "        # Set a random colour and draw the ploygons above and mirror below line\n",
    "        c = np.random.rand(3,)\n",
    "        l1 = plt.Polygon(p1, closed=None, fill=True, edgecolor=c, alpha=0.4, color=c)\n",
    "        l2 = plt.Polygon(p2, closed=None, fill=True, edgecolor=c, alpha=0.4, color=c)\n",
    "\n",
    "        plt.gca().add_line(l1)\n",
    "        plt.gca().add_line(l2)\n",
    "\n",
    "    # Plot the graph with axis lables\n",
    "    plt.yticks(start_points, y_values)\n",
    "    plt.xlabel(axis_labs[0])\n",
    "    plt.ylabel(axis_labs[1])\n",
    "    plt.axis('scaled')\n",
    "    plt.show();"
   ]
  },
  {
   "cell_type": "markdown",
   "metadata": {},
   "source": [
    "#### Feedback\n",
    "Please rate this notebook by clicking on the image below (it will open up a new window where you can select one of the three icons)\n",
    " <a href=\"https://www.qualtrics.manchester.ac.uk/jfe/form/SV_5cHG78onCCZcru6\" target=\"_blank\"><img src=\"./images/sentiment-check-icons.png\" width=\"80%\" /></a>"
   ]
  },
  {
   "cell_type": "code",
   "execution_count": null,
   "metadata": {},
   "outputs": [],
   "source": []
  }
 ],
 "metadata": {
  "kernelspec": {
   "display_name": "R",
   "language": "R",
   "name": "ir"
  },
  "language_info": {
   "codemirror_mode": "r",
   "file_extension": ".r",
   "mimetype": "text/x-r-source",
   "name": "R",
   "pygments_lexer": "r",
   "version": "3.6.1"
  },
  "varInspector": {
   "cols": {
    "lenName": 16,
    "lenType": 16,
    "lenVar": 40
   },
   "kernels_config": {
    "python": {
     "delete_cmd_postfix": "",
     "delete_cmd_prefix": "del ",
     "library": "var_list.py",
     "varRefreshCmd": "print(var_dic_list())"
    },
    "r": {
     "delete_cmd_postfix": ") ",
     "delete_cmd_prefix": "rm(",
     "library": "var_list.r",
     "varRefreshCmd": "cat(var_dic_list()) "
    }
   },
   "types_to_exclude": [
    "module",
    "function",
    "builtin_function_or_method",
    "instance",
    "_Feature"
   ],
   "window_display": false
  }
 },
 "nbformat": 4,
 "nbformat_minor": 2
}
