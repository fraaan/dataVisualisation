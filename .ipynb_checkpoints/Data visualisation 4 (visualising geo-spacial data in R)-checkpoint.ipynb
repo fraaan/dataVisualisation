{
 "cells": [
  {
   "cell_type": "markdown",
   "id": "9cbf5876",
   "metadata": {},
   "source": [
    "<img src=\"./images/banner.png\" width=\"100%\" align=\"left\" />"
   ]
  },
  {
   "cell_type": "markdown",
   "id": "69342070",
   "metadata": {},
   "source": [
    "<table style=\"float:right;\">\n",
    "    <tr>\n",
    "        <td>                      \n",
    "            <div style=\"text-align: right\"><a href=\"https://alandavies.netlify.com\" target=\"_blank\">Dr Alan Davies</a></div>\n",
    "            <div style=\"text-align: right\">Senior Lecturer Health Data Science</div>\n",
    "            <div style=\"text-align: right\">University of Manchester</div>\n",
    "         </td>\n",
    "         <td>\n",
    "             <img src=\"./images/alan.png\" width=\"30%\" />\n",
    "         </td>\n",
    "     </tr>\n",
    "</table>"
   ]
  },
  {
   "cell_type": "markdown",
   "id": "c4b06c7a",
   "metadata": {},
   "source": [
    "# 4.0 Data visualisation for geo-spacial data in R\n",
    "****"
   ]
  },
  {
   "cell_type": "markdown",
   "id": "a62937ce",
   "metadata": {},
   "source": [
    "#### About this Notebook\n",
    "This notebook introduces the concepts of <code>spacial</code> data and how we can use maps and other geographical information to create data plots."
   ]
  },
  {
   "cell_type": "markdown",
   "id": "68c1f3e8",
   "metadata": {},
   "source": [
    "<div class=\"alert alert-block alert-warning\"><b>Learning Objectives:</b> \n",
    "<br/> At the end of this notebook you will be able to:\n",
    "    \n",
    "    \n",
    "- LO9 Practice plotting data using appropriate visualisation types, including static and dynamic (interactive) forms of visualisation using modern graph libraries in languages like R and Python\n",
    "\n",
    "- LO2 Discuss the best design practices for presenting data with visualisations\n",
    "\n",
    "- LO5\tRecognise and select appropriate visualisations to communicate to different audiences with differing levels of technical and clinical understanding   \n",
    "    \n",
    "</div> "
   ]
  },
  {
   "cell_type": "markdown",
   "id": "7a7d49b2",
   "metadata": {},
   "source": [
    "<a id=\"top\"></a>\n",
    "\n",
    "<b>Table of contents</b><br>\n",
    "\n",
    "4.1 [Geographical regions](#types)\n",
    "\n",
    "4.2 [Point map](#point)"
   ]
  },
  {
   "cell_type": "markdown",
   "id": "354f6427",
   "metadata": {},
   "source": [
    "Another way to visualise data is based on geographical properties. This is useful when the location is important. Examples could include things like number of cases of an infectious disease per county or region, or the budget expenditure for groups of GP (General Practitioner) practices known as primary care networks (PCNs). "
   ]
  },
  {
   "cell_type": "markdown",
   "id": "893ef1e2",
   "metadata": {},
   "source": [
    "<a id=\"types\"></a>\n",
    "#### 4.1 Geographical regions"
   ]
  },
  {
   "cell_type": "markdown",
   "id": "f08ab7fa",
   "metadata": {},
   "source": [
    "How a region or country is broken down into boundaries may not be a simple task. In the case of England for example, we could choose to split the regions by <code>post code</code> (zip code), <code>output area</code> (based on census data), <code>local government districts/wards</code>, <code>local education authorities</code> and so on. As we work in healthcare we are usually interested in the various health based boundaries. As a data scientist, you may also link these data to other data sets such as health inequalities etc."
   ]
  },
  {
   "cell_type": "markdown",
   "id": "87b2323e",
   "metadata": {},
   "source": [
    "<div class=\"alert alert-success\">\n",
    "<b>Note:</b> If you are interested in a detailed overview of the different boundary types, check out this guide from the Office of National Statistics: <a href=\"https://geoportal.statistics.gov.uk/documents/a-beginners-guide-to-uk-geography-2021-v1-0-1/explore\" target=\"_blank\">ONS: A beginners guide to UK geography</a>.\n",
    "</div>"
   ]
  },
  {
   "cell_type": "markdown",
   "id": "12c63694",
   "metadata": {},
   "source": [
    "A common type of visualisation used for map data is the <code>choropleth</code>. This plot is a thematic map that highlights (with colours/patterns) a boundaried geographical area based on statistical properties. Take a look at an example below from the United States Centers for Disease Control and Prevention (CDC) around opioid dispensing rates from the years 2006 to 2020."
   ]
  },
  {
   "cell_type": "markdown",
   "id": "d2c21a48",
   "metadata": {},
   "source": [
    "<img src=\"./images/2006-2020-map.gif\" width=\"100%\" align=\"left\" />"
   ]
  },
  {
   "cell_type": "markdown",
   "id": "4cad7cbf",
   "metadata": {
    "solution2": "hidden",
    "solution2_first": true
   },
   "source": [
    "<div class=\"alert alert-block alert-info\">\n",
    "<b>Task 1:</b>\n",
    "<br> \n",
    "    1. What sort of information do plots like this convey?<br>\n",
    "    2. How might the plot above be used?\n",
    "</div>"
   ]
  },
  {
   "cell_type": "markdown",
   "id": "5363c6c6",
   "metadata": {
    "solution2": "hidden"
   },
   "source": [
    "<strong>1.</strong> They allow us to see a proportion or quantity per region. In this case opioid dispensing rates per 100 people. The heatmap colours can be used to highlight areas of interest (e.g. low or high dispensing rates). As the above plot is also animated, we can see changes over time showing the increase in opioid dispensing across the country followed by a general decrease. <br>\n",
    "<strong>2.</strong> Such a plot could be used to target resources or interventions in areas with the most need. Comparison with earlier plots could also be seen if there are any changes in the various areas over time."
   ]
  },
  {
   "cell_type": "markdown",
   "id": "25c0521d",
   "metadata": {},
   "source": [
    "There are many different Geographic Information Systems (GIS). These are systems that can analyse and display information that is geographically referenced. There are many different geographical items that may be of interest such as the water ways, roads, mountains, boundary areas and so on. This is summarised in the image below (from <a href=\"https://www.usgs.gov/faqs/what-geographic-information-system-gis\" target=\"_blank\">https://www.usgs.gov/faqs/what-geographic-information-system-gis</a>). This is why it's not as straight forward to produce map based visualisations as it is other types."
   ]
  },
  {
   "cell_type": "markdown",
   "id": "b75b40c0",
   "metadata": {},
   "source": [
    "<img src=\"./images/gis.jpg\" width=\"35%\" align=\"left\" />"
   ]
  },
  {
   "cell_type": "markdown",
   "id": "4960bf6d",
   "metadata": {},
   "source": [
    "Getting this sort of data is country and region specific. In the UK, a lot of this data can be found via the Office for National Statistics (ONS) Open Geography Portal (<a href=\"https://geoportal.statistics.gov.uk/search?collection=Dataset&sort=name&tags=all(BDY_HLT)\" target=\"_blank\">https://geoportal.statistics.gov.uk/search?collection=Dataset&sort=name&tags=all(BDY_HLT)</a>). Another useful place to find map data is via Ordnance Surveys OpenData support (<a href=\"https://www.ordnancesurvey.co.uk/business-government/tools-support/open-data-support\" target=\"_blank\">https://www.ordnancesurvey.co.uk/business-government/tools-support/open-data-support</a>)."
   ]
  },
  {
   "cell_type": "markdown",
   "id": "00b6034b",
   "metadata": {},
   "source": [
    "Map data for generating boundaries and other geographical features comes in many forms. One of the common forms is that of \n",
    "<code>geoJSON</code>. JSON (JavaScript Object Notation) involves nested objects (<code>{}</code>), arrays/lists (<code>[]</code>) and key/value pairs separated by colons e.g. <code>some_key: some_value</code>. Below is an example from <a href=\"https://martinjc.github.io/UK-GeoJSON/\" target=\"_blank\">https://martinjc.github.io/UK-GeoJSON/</a>."
   ]
  },
  {
   "cell_type": "markdown",
   "id": "17d9cfd4",
   "metadata": {},
   "source": [
    "<code>\n",
    "{\n",
    "  \"type\": \"Feature\",\n",
    "  \"geometry\": {\n",
    "    \"type\": \"Point\",\n",
    "    \"coordinates\": [125.6, 10.1]\n",
    "  },\n",
    "  \"properties\": {\n",
    "    \"name\": \"Dinagat Islands\"\n",
    "  }\n",
    "}\n",
    "</code>"
   ]
  },
  {
   "cell_type": "markdown",
   "id": "655ca3a4",
   "metadata": {},
   "source": [
    "We will create a choropleth to show some data using the geoJSON format. We start by loading the required R libraries:"
   ]
  },
  {
   "cell_type": "code",
   "execution_count": 27,
   "id": "b384dfdc",
   "metadata": {},
   "outputs": [],
   "source": [
    "library(tidyverse)\n",
    "library(jsonlite)"
   ]
  },
  {
   "cell_type": "markdown",
   "id": "a75cc7f4",
   "metadata": {},
   "source": [
    "There are two files that we need to read in, the first is the UK geo data that defined the boundaries we are interested in. In this case it's the local authority areas. We can load this in as <code>json</code> file."
   ]
  },
  {
   "cell_type": "code",
   "execution_count": 28,
   "id": "b0c80612",
   "metadata": {},
   "outputs": [],
   "source": [
    "UK_geodata <- fromJSON(\"./data/geodata.json\")"
   ]
  },
  {
   "cell_type": "markdown",
   "id": "f72ef710",
   "metadata": {
    "cell_style": "center"
   },
   "source": [
    "Next we will load a dataset on the estimates of opiate and crack cocaine use prevalence: 2016 to 2017 from <a href=\"https://www.gov.uk/government/publications/opiate-and-crack-cocaine-use-prevalence-estimates-for-local-populations\" target=\"_blank\">Public Health England</a>. We extracted some data from this in the form of a CSV file which we will load in the standard way using the <code>pandas</code> package."
   ]
  },
  {
   "cell_type": "code",
   "execution_count": 29,
   "id": "9cd99bd7",
   "metadata": {},
   "outputs": [
    {
     "name": "stderr",
     "output_type": "stream",
     "text": [
      "Parsed with column specification:\n",
      "cols(\n",
      "  Region = col_character(),\n",
      "  `Local authority` = col_character(),\n",
      "  Opiates_2010_11 = col_character(),\n",
      "  Opiates_2011_12 = col_character(),\n",
      "  `Opiates_2012-13` = col_double(),\n",
      "  Opiates_2013_14 = col_double(),\n",
      "  Opiates_2014_15 = col_double(),\n",
      "  Opiates_2016_17 = col_double()\n",
      ")\n"
     ]
    }
   ],
   "source": [
    "df <- read_csv(\"./data/OpiateCrackUsePrevalenceEstimates2016to2017.csv\")"
   ]
  },
  {
   "cell_type": "markdown",
   "id": "718bef94",
   "metadata": {
    "cell_style": "center"
   },
   "source": [
    "We can use the <code>head</code> function to display the first few rows of data. You can see we have various regions and local authorities followed by the prevalence of opiate use over several years (from 2010 to 2017)."
   ]
  },
  {
   "cell_type": "code",
   "execution_count": 30,
   "id": "5cc95bb7",
   "metadata": {},
   "outputs": [
    {
     "data": {
      "text/html": [
       "<table>\n",
       "<thead><tr><th scope=col>Region</th><th scope=col>Local authority</th><th scope=col>Opiates_2010_11</th><th scope=col>Opiates_2011_12</th><th scope=col>Opiates_2012-13</th><th scope=col>Opiates_2013_14</th><th scope=col>Opiates_2014_15</th><th scope=col>Opiates_2016_17</th></tr></thead>\n",
       "<tbody>\n",
       "\t<tr><td>East Midlands </td><td>Derby         </td><td>1948          </td><td>2094          </td><td>2004          </td><td>1974          </td><td>1989          </td><td>1826          </td></tr>\n",
       "\t<tr><td>East Midlands </td><td>Derbyshire    </td><td>3208          </td><td>3331          </td><td>3259          </td><td>3537          </td><td>3481          </td><td>3275          </td></tr>\n",
       "\t<tr><td>East Midlands </td><td>Leicester     </td><td>2439          </td><td>2533          </td><td>2429          </td><td>2548          </td><td>2298          </td><td>2327          </td></tr>\n",
       "\t<tr><td>East Midlands </td><td>Leicestershire</td><td>1848          </td><td>1665          </td><td>1829          </td><td>1976          </td><td>2285          </td><td>2351          </td></tr>\n",
       "\t<tr><td>East Midlands </td><td>Lincolnshire  </td><td>2710          </td><td>2762          </td><td>2518          </td><td>3044          </td><td>2929          </td><td>3241          </td></tr>\n",
       "</tbody>\n",
       "</table>\n"
      ],
      "text/latex": [
       "\\begin{tabular}{r|llllllll}\n",
       " Region & Local authority & Opiates\\_2010\\_11 & Opiates\\_2011\\_12 & Opiates\\_2012-13 & Opiates\\_2013\\_14 & Opiates\\_2014\\_15 & Opiates\\_2016\\_17\\\\\n",
       "\\hline\n",
       "\t East Midlands  & Derby          & 1948           & 2094           & 2004           & 1974           & 1989           & 1826          \\\\\n",
       "\t East Midlands  & Derbyshire     & 3208           & 3331           & 3259           & 3537           & 3481           & 3275          \\\\\n",
       "\t East Midlands  & Leicester      & 2439           & 2533           & 2429           & 2548           & 2298           & 2327          \\\\\n",
       "\t East Midlands  & Leicestershire & 1848           & 1665           & 1829           & 1976           & 2285           & 2351          \\\\\n",
       "\t East Midlands  & Lincolnshire   & 2710           & 2762           & 2518           & 3044           & 2929           & 3241          \\\\\n",
       "\\end{tabular}\n"
      ],
      "text/markdown": [
       "\n",
       "| Region | Local authority | Opiates_2010_11 | Opiates_2011_12 | Opiates_2012-13 | Opiates_2013_14 | Opiates_2014_15 | Opiates_2016_17 |\n",
       "|---|---|---|---|---|---|---|---|\n",
       "| East Midlands  | Derby          | 1948           | 2094           | 2004           | 1974           | 1989           | 1826           |\n",
       "| East Midlands  | Derbyshire     | 3208           | 3331           | 3259           | 3537           | 3481           | 3275           |\n",
       "| East Midlands  | Leicester      | 2439           | 2533           | 2429           | 2548           | 2298           | 2327           |\n",
       "| East Midlands  | Leicestershire | 1848           | 1665           | 1829           | 1976           | 2285           | 2351           |\n",
       "| East Midlands  | Lincolnshire   | 2710           | 2762           | 2518           | 3044           | 2929           | 3241           |\n",
       "\n"
      ],
      "text/plain": [
       "  Region        Local authority Opiates_2010_11 Opiates_2011_12 Opiates_2012-13\n",
       "1 East Midlands Derby           1948            2094            2004           \n",
       "2 East Midlands Derbyshire      3208            3331            3259           \n",
       "3 East Midlands Leicester       2439            2533            2429           \n",
       "4 East Midlands Leicestershire  1848            1665            1829           \n",
       "5 East Midlands Lincolnshire    2710            2762            2518           \n",
       "  Opiates_2013_14 Opiates_2014_15 Opiates_2016_17\n",
       "1 1974            1989            1826           \n",
       "2 3537            3481            3275           \n",
       "3 2548            2298            2327           \n",
       "4 1976            2285            2351           \n",
       "5 3044            2929            3241           "
      ]
     },
     "metadata": {},
     "output_type": "display_data"
    }
   ],
   "source": [
    "head(df, 5)"
   ]
  },
  {
   "cell_type": "markdown",
   "id": "4575b7e1",
   "metadata": {
    "cell_style": "center"
   },
   "source": [
    "We can check the structure of the dataframe and it's properties with the <code>summary</code> function:"
   ]
  },
  {
   "cell_type": "code",
   "execution_count": 31,
   "id": "1597c1a4",
   "metadata": {},
   "outputs": [
    {
     "data": {
      "text/plain": [
       "    Region          Local authority    Opiates_2010_11    Opiates_2011_12   \n",
       " Length:153         Length:153         Length:153         Length:153        \n",
       " Class :character   Class :character   Class :character   Class :character  \n",
       " Mode  :character   Mode  :character   Mode  :character   Mode  :character  \n",
       "                                                                            \n",
       "                                                                            \n",
       "                                                                            \n",
       " Opiates_2012-13 Opiates_2013_14 Opiates_2014_15 Opiates_2016_17\n",
       " Min.   :  20    Min.   :  25    Min.   :  23    Min.   :  14   \n",
       " 1st Qu.: 956    1st Qu.: 927    1st Qu.: 936    1st Qu.: 996   \n",
       " Median :1394    Median :1475    Median :1411    Median :1500   \n",
       " Mean   :1669    Mean   :1720    Mean   :1714    Mean   :1738   \n",
       " 3rd Qu.:2053    3rd Qu.:2153    3rd Qu.:2098    3rd Qu.:2154   \n",
       " Max.   :8129    Max.   :8700    Max.   :8234    Max.   :8779   "
      ]
     },
     "metadata": {},
     "output_type": "display_data"
    }
   ],
   "source": [
    "summary(df)"
   ]
  },
  {
   "cell_type": "markdown",
   "id": "b9cb6b7b",
   "metadata": {
    "cell_style": "center"
   },
   "source": [
    "For this simple example we will extract a subset of data for the year 2010 to 2011 and then view the first records to check that this operation was successful. "
   ]
  },
  {
   "cell_type": "code",
   "execution_count": 32,
   "id": "c4e12dff",
   "metadata": {},
   "outputs": [],
   "source": [
    "year2010to2011 <- df %>% select(c(\"Region\", \"Local authority\", \"Opiates_2010_11\"))"
   ]
  },
  {
   "cell_type": "code",
   "execution_count": 33,
   "id": "006fb47d",
   "metadata": {},
   "outputs": [
    {
     "data": {
      "text/html": [
       "<table>\n",
       "<thead><tr><th scope=col>Region</th><th scope=col>Local authority</th><th scope=col>Opiates_2010_11</th></tr></thead>\n",
       "<tbody>\n",
       "\t<tr><td>East Midlands </td><td>Derby         </td><td>1948          </td></tr>\n",
       "\t<tr><td>East Midlands </td><td>Derbyshire    </td><td>3208          </td></tr>\n",
       "\t<tr><td>East Midlands </td><td>Leicester     </td><td>2439          </td></tr>\n",
       "\t<tr><td>East Midlands </td><td>Leicestershire</td><td>1848          </td></tr>\n",
       "\t<tr><td>East Midlands </td><td>Lincolnshire  </td><td>2710          </td></tr>\n",
       "</tbody>\n",
       "</table>\n"
      ],
      "text/latex": [
       "\\begin{tabular}{r|lll}\n",
       " Region & Local authority & Opiates\\_2010\\_11\\\\\n",
       "\\hline\n",
       "\t East Midlands  & Derby          & 1948          \\\\\n",
       "\t East Midlands  & Derbyshire     & 3208          \\\\\n",
       "\t East Midlands  & Leicester      & 2439          \\\\\n",
       "\t East Midlands  & Leicestershire & 1848          \\\\\n",
       "\t East Midlands  & Lincolnshire   & 2710          \\\\\n",
       "\\end{tabular}\n"
      ],
      "text/markdown": [
       "\n",
       "| Region | Local authority | Opiates_2010_11 |\n",
       "|---|---|---|\n",
       "| East Midlands  | Derby          | 1948           |\n",
       "| East Midlands  | Derbyshire     | 3208           |\n",
       "| East Midlands  | Leicester      | 2439           |\n",
       "| East Midlands  | Leicestershire | 1848           |\n",
       "| East Midlands  | Lincolnshire   | 2710           |\n",
       "\n"
      ],
      "text/plain": [
       "  Region        Local authority Opiates_2010_11\n",
       "1 East Midlands Derby           1948           \n",
       "2 East Midlands Derbyshire      3208           \n",
       "3 East Midlands Leicester       2439           \n",
       "4 East Midlands Leicestershire  1848           \n",
       "5 East Midlands Lincolnshire    2710           "
      ]
     },
     "metadata": {},
     "output_type": "display_data"
    }
   ],
   "source": [
    "head(year2010to2011, 5)"
   ]
  },
  {
   "cell_type": "markdown",
   "id": "492da68b",
   "metadata": {},
   "source": [
    "Next we will turn our attention back to geo data which is quite different in structure. In JSON, there are two main parts: keys and values and together they make a key/value pair. In the geodata JSON file, we can use R to output the key's for the various geo <code>features</code>."
   ]
  },
  {
   "cell_type": "code",
   "execution_count": 34,
   "id": "796286ed",
   "metadata": {},
   "outputs": [
    {
     "name": "stdout",
     "output_type": "stream",
     "text": [
      "[1] \"type\"       \"geometry\"   \"properties\" \"id\"        \n"
     ]
    }
   ],
   "source": [
    "keys <- names(UK_geodata$features)\n",
    "print(keys)"
   ]
  },
  {
   "cell_type": "markdown",
   "id": "6a2acf2c",
   "metadata": {},
   "source": [
    "We can explore the data structure further by taking a look at the <code>properties</code> for the 1st item. You can see an example of the sort of information represented, you can see the name is <code>Middlesbrough</code> and other information, such as the longitude and latitude.\n",
    "\n",
    "# cant get this to look up the correct feature properties - keeps coming back null or issue with atomic vectors"
   ]
  },
  {
   "cell_type": "code",
   "execution_count": 39,
   "id": "9a57d6df",
   "metadata": {},
   "outputs": [
    {
     "name": "stdout",
     "output_type": "stream",
     "text": [
      "NULL\n"
     ]
    }
   ],
   "source": [
    "#in Python: UK_geodata['features'][1]['properties']\n",
    "\n",
    "library(jsonlite)\n",
    "second_feature_properties <- UK_geodata$features[[2]]$properties\n",
    "print(second_feature_properties)"
   ]
  },
  {
   "cell_type": "markdown",
   "id": "bf1ccf54",
   "metadata": {},
   "source": [
    "Next we need to set the value for the features id to be the name of the local authority area. We use this to map the two datasets together. We use a loop to repeat this operation for each feature in the dataset."
   ]
  },
  {
   "cell_type": "code",
   "execution_count": 42,
   "id": "2620d101",
   "metadata": {},
   "outputs": [
    {
     "ename": "ERROR",
     "evalue": "Error: $ operator is invalid for atomic vectors\n",
     "output_type": "error",
     "traceback": [
      "Error: $ operator is invalid for atomic vectors\nTraceback:\n"
     ]
    }
   ],
   "source": [
    "# python version:\n",
    "#for feature in UK_geodata['features']:\n",
    "#    feature['id'] = feature['properties']['name'] \n",
    "\n",
    "#iterate through features and match up id with properties name:\n",
    "for (feature in UK_geodata$features)\n",
    "    (feature$id == feature$properties$name)  "
   ]
  },
  {
   "cell_type": "markdown",
   "id": "8ffe10ac",
   "metadata": {},
   "source": [
    "Now we are ready to create the choropleth. We can use the <code>choropleth</code> function from the <code>plotly</code> library. We pass in the data set and map the <code>locations</code> to the appropriate column (<code>Local authority</code>). Finally we also pass in the geoJSON file."
   ]
  },
  {
   "cell_type": "code",
   "execution_count": null,
   "id": "b0987a61",
   "metadata": {},
   "outputs": [],
   "source": [
    "# px.choropleth(year2010to2011, locations=\"Local authority\", geojson=UK_geodata)\n",
    "\n",
    "\n",
    "\n"
   ]
  },
  {
   "cell_type": "markdown",
   "id": "948ef49f",
   "metadata": {},
   "source": [
    "You can zoom in/out with your mouse wheel and click (hold) and drag to move the map around. When you hover over the regions, you can see the name of the various region. It doesn't look very impressive however. We can use something like <code>Google maps</code> or <code>Mapbox</code> to add more detail to our maps. We use the function <code>choropleth_mapbox</code> in this instance to add some more detail to the map. We also use colour to show the different values and choose a start level of zoom and long/lat for the initial position. This could be used to zoom in on a region in a specific country for example."
   ]
  },
  {
   "cell_type": "code",
   "execution_count": null,
   "id": "a0575d17",
   "metadata": {},
   "outputs": [],
   "source": [
    "px.choropleth_mapbox(year2010to2011, \n",
    "                     locations=\"Local authority\", \n",
    "                     geojson=UK_geodata, \n",
    "                     color=\"Opiates_2010_11\", \n",
    "                     mapbox_style=\"carto-positron\",\n",
    "                     center={'lat': 55, 'lon': 3.4},\n",
    "                     zoom=3,\n",
    "                     opacity=0.3)"
   ]
  },
  {
   "cell_type": "markdown",
   "id": "85719880",
   "metadata": {},
   "source": [
    "Again, you can zoom in/out and move the map around. This version looks a lot better than the first version."
   ]
  },
  {
   "cell_type": "markdown",
   "id": "ffce7310",
   "metadata": {},
   "source": [
    "<div class=\"alert alert-danger\">\n",
    "<b>Note:</b> There are many different classification systems that can be used to split data into the various different areas. The method chosen can radically alter the appearance (and thus the interpretation) of the map data. Some of the commonly used methods include:\n",
    "- Equal count (quantile): same amount of map areas allocated to each class\n",
    "- Equal interval: evenly spaced gaps between class breaks\n",
    "- Jenks natural breaks: An optimisation method that uses clusters to define breaks. This was the method used on the very first choropleth we showed you in this notebook from the CDC.\n",
    "</div>"
   ]
  },
  {
   "cell_type": "markdown",
   "id": "5f4c686c",
   "metadata": {},
   "source": [
    "***"
   ]
  },
  {
   "cell_type": "markdown",
   "id": "59ca927a",
   "metadata": {},
   "source": [
    "Here is some data from some applicants for one our courses."
   ]
  },
  {
   "cell_type": "code",
   "execution_count": 45,
   "id": "8d954599",
   "metadata": {},
   "outputs": [
    {
     "name": "stderr",
     "output_type": "stream",
     "text": [
      "Parsed with column specification:\n",
      "cols(\n",
      "  Sex = col_character(),\n",
      "  Age = col_double(),\n",
      "  Location = col_character(),\n",
      "  Region = col_character()\n",
      ")\n"
     ]
    },
    {
     "data": {
      "text/html": [
       "<table>\n",
       "<thead><tr><th scope=col>Sex</th><th scope=col>Age</th><th scope=col>Location</th><th scope=col>Region</th></tr></thead>\n",
       "<tbody>\n",
       "\t<tr><td>Male          </td><td>44            </td><td>UK            </td><td>Suffolk       </td></tr>\n",
       "\t<tr><td>Female        </td><td>30            </td><td>UK            </td><td>Greater London</td></tr>\n",
       "\t<tr><td>Male          </td><td>32            </td><td>UK            </td><td>Oxfordshire   </td></tr>\n",
       "\t<tr><td>Female        </td><td>43            </td><td>UK            </td><td>Somerset      </td></tr>\n",
       "\t<tr><td>Female        </td><td>38            </td><td>UK            </td><td>London        </td></tr>\n",
       "</tbody>\n",
       "</table>\n"
      ],
      "text/latex": [
       "\\begin{tabular}{r|llll}\n",
       " Sex & Age & Location & Region\\\\\n",
       "\\hline\n",
       "\t Male           & 44             & UK             & Suffolk       \\\\\n",
       "\t Female         & 30             & UK             & Greater London\\\\\n",
       "\t Male           & 32             & UK             & Oxfordshire   \\\\\n",
       "\t Female         & 43             & UK             & Somerset      \\\\\n",
       "\t Female         & 38             & UK             & London        \\\\\n",
       "\\end{tabular}\n"
      ],
      "text/markdown": [
       "\n",
       "| Sex | Age | Location | Region |\n",
       "|---|---|---|---|\n",
       "| Male           | 44             | UK             | Suffolk        |\n",
       "| Female         | 30             | UK             | Greater London |\n",
       "| Male           | 32             | UK             | Oxfordshire    |\n",
       "| Female         | 43             | UK             | Somerset       |\n",
       "| Female         | 38             | UK             | London         |\n",
       "\n"
      ],
      "text/plain": [
       "  Sex    Age Location Region        \n",
       "1 Male   44  UK       Suffolk       \n",
       "2 Female 30  UK       Greater London\n",
       "3 Male   32  UK       Oxfordshire   \n",
       "4 Female 43  UK       Somerset      \n",
       "5 Female 38  UK       London        "
      ]
     },
     "metadata": {},
     "output_type": "display_data"
    }
   ],
   "source": [
    "# applicant_data = pd.read_csv(\"./data/applicant_data.csv\")\n",
    "# applicant_data.head(5)\n",
    "\n",
    "applicant_data <- read_csv(\"./data/applicant_data.csv\")\n",
    "head(applicant_data, 5)"
   ]
  },
  {
   "cell_type": "markdown",
   "id": "97d04a34",
   "metadata": {
    "solution2": "shown",
    "solution2_first": true
   },
   "source": [
    "<div class=\"alert alert-block alert-info\">\n",
    "<b>Task 2:</b>\n",
    "<br> \n",
    "    Create a choropleth to show how many applicants we had from each region. You can load in the same geoJSON file that was used previously.\n",
    "</div>"
   ]
  },
  {
   "cell_type": "code",
   "execution_count": null,
   "id": "3b6698bf",
   "metadata": {
    "solution2": "shown"
   },
   "outputs": [],
   "source": [
    "# # Load in the geo data JSON file\n",
    "# geo_data = json.load(open(\"./data/geodata.json\", \"r\"))\n",
    "\n",
    "# # Remap the id \n",
    "# for feature in geo_data['features']:\n",
    "#     feature['id'] = feature['properties']['name']\n",
    "    \n",
    "# # We need to group (aggregate) the applicants by region\n",
    "# region_count = applicant_data.groupby(['Region']).size().to_frame(name = \"Value\").reset_index()\n",
    "\n",
    "# # Create the choropleth\n",
    "# px.choropleth_mapbox(region_count, \n",
    "#                      locations=\"Region\", \n",
    "#                      geojson=geo_data, \n",
    "#                      color=\"Value\", \n",
    "#                      mapbox_style=\"carto-positron\",\n",
    "#                      center={'lat': 55, 'lon': 3.4},\n",
    "#                      zoom=3,\n",
    "#                      opacity=0.3)"
   ]
  },
  {
   "cell_type": "code",
   "execution_count": null,
   "id": "4eb4d405",
   "metadata": {},
   "outputs": [],
   "source": []
  },
  {
   "cell_type": "code",
   "execution_count": null,
   "id": "cf840108",
   "metadata": {},
   "outputs": [],
   "source": []
  },
  {
   "cell_type": "code",
   "execution_count": null,
   "id": "a0a009fa",
   "metadata": {},
   "outputs": [],
   "source": []
  },
  {
   "cell_type": "code",
   "execution_count": null,
   "id": "769c7de7",
   "metadata": {},
   "outputs": [],
   "source": []
  },
  {
   "cell_type": "markdown",
   "id": "26b69f3e",
   "metadata": {},
   "source": [
    "<a id=\"point\"></a>\n",
    "#### 4.2 Point map"
   ]
  },
  {
   "cell_type": "markdown",
   "id": "1ca5b6ba",
   "metadata": {},
   "source": [
    "Another type of spatial plot that is commonly used is a point map. This simply places points on a map. This can be used to see the number of something in an area. We have used this in the past to gather research data on mobile health apps to see where our users are geographically located. To see an example of this we will use some data on the geo-locations of GP practices in Manchester and plot them on the map to see where the main clusters of practices are located throughout the city."
   ]
  },
  {
   "cell_type": "markdown",
   "id": "da39c4eb",
   "metadata": {},
   "source": [
    "<div class=\"alert alert-danger\">\n",
    "<b>Note:</b> Geo-location data can lead to the identification of individuals if used with other data. when collecting this type of data for research, collect the highest level possible. For example you might want to know how many people downloaded your intervention per post code or area rather then their exact location. Sometimes an artificial offset is added to alter the accuracy of geo data or it is only recorded if more than a certain number of users are in a particular area. You can see an example of this in an app designed to collect allergy information from the general public <a href=\"https://www.ncbi.nlm.nih.gov/pmc/articles/PMC6381818/\" target=\"_blank\">here</a> where they approximated the number of participants in each postcode. \n",
    "</div>"
   ]
  },
  {
   "cell_type": "markdown",
   "id": "6302e526",
   "metadata": {},
   "source": [
    "This time we will use the <code>ggplot2</code> library."
   ]
  },
  {
   "cell_type": "code",
   "execution_count": 46,
   "id": "510b04f2",
   "metadata": {},
   "outputs": [],
   "source": [
    "#import matplotlib.pyplot as plt\n",
    "\n",
    "library(ggplot2)"
   ]
  },
  {
   "cell_type": "markdown",
   "id": "26de86b3",
   "metadata": {},
   "source": [
    "Next we can load in a png image of the map for the background. This shows the main Manchester city area. This was exported from <a href=\"https://www.openstreetmap.org/\" target=\"_blank\">OpenStreetMap</a>. This lets a user select a region and export it. It also provides the longitude and latitude information for the selected area."
   ]
  },
  {
   "cell_type": "code",
   "execution_count": null,
   "id": "cd55c144",
   "metadata": {},
   "outputs": [],
   "source": [
    "#map_img = plt.imread(\"./images/map.png\")"
   ]
  },
  {
   "cell_type": "markdown",
   "id": "e8540ad5",
   "metadata": {},
   "source": [
    "Next we load in the dataset containing details of the various practices based in Manchester. We have the post code and latitude/longitude information here. "
   ]
  },
  {
   "cell_type": "code",
   "execution_count": 47,
   "id": "096c1cf5",
   "metadata": {},
   "outputs": [
    {
     "name": "stderr",
     "output_type": "stream",
     "text": [
      "Parsed with column specification:\n",
      "cols(\n",
      "  code = col_character(),\n",
      "  practice = col_character(),\n",
      "  address = col_character(),\n",
      "  area = col_character(),\n",
      "  county = col_character(),\n",
      "  postcode = col_character(),\n",
      "  lat = col_double(),\n",
      "  long = col_double()\n",
      ")\n"
     ]
    },
    {
     "data": {
      "text/html": [
       "<table>\n",
       "<thead><tr><th scope=col>code</th><th scope=col>practice</th><th scope=col>address</th><th scope=col>area</th><th scope=col>county</th><th scope=col>postcode</th><th scope=col>lat</th><th scope=col>long</th></tr></thead>\n",
       "<tbody>\n",
       "\t<tr><td>N81001                   </td><td>AUDLEM MEDICAL PRACTICE  </td><td>16 CHESHIRE ST, AUDLEM   </td><td>CREWE                    </td><td>CHESHIRE                 </td><td>CW3 0AH                  </td><td>52.98962                 </td><td>-2.50872                 </td></tr>\n",
       "\t<tr><td>N81002                   </td><td>KENMORE MEDICAL CENTRE   </td><td>60-62 ALDERLEY ROAD      </td><td>WILMSLOW                 </td><td>CHESHIRE                 </td><td>SK9 1PA                  </td><td>53.32308                 </td><td>-2.23522                 </td></tr>\n",
       "\t<tr><td>N81005                   </td><td>HELSBY HEALTH CENTRE     </td><td>LOWER ROBIN HOOD LANE    </td><td>HELSBY, WARRINGTON       </td><td>CHESHIRE                 </td><td>WA6 0BW                  </td><td>53.27047                 </td><td>-2.77052                 </td></tr>\n",
       "\t<tr><td>N81006                   </td><td>BUNBURY MEDICAL PRACTICE </td><td>VICARAGE LANE, BUNBURY   </td><td>TARPORLEY                </td><td>CHESHIRE                 </td><td>CW6 9PE                  </td><td>53.11683                 </td><td>-2.64938                 </td></tr>\n",
       "\t<tr><td>N81007                   </td><td>HOLES LANE MEDICAL CENTRE</td><td>THE SURGERY,28 HOLES LANE</td><td>WOOLSTON, WARRINGTON     </td><td>CHESHIRE                 </td><td>WA1 4NE                  </td><td>53.39983                 </td><td>-2.54511                 </td></tr>\n",
       "</tbody>\n",
       "</table>\n"
      ],
      "text/latex": [
       "\\begin{tabular}{r|llllllll}\n",
       " code & practice & address & area & county & postcode & lat & long\\\\\n",
       "\\hline\n",
       "\t N81001                    & AUDLEM MEDICAL PRACTICE   & 16 CHESHIRE ST, AUDLEM    & CREWE                     & CHESHIRE                  & CW3 0AH                   & 52.98962                  & -2.50872                 \\\\\n",
       "\t N81002                    & KENMORE MEDICAL CENTRE    & 60-62 ALDERLEY ROAD       & WILMSLOW                  & CHESHIRE                  & SK9 1PA                   & 53.32308                  & -2.23522                 \\\\\n",
       "\t N81005                    & HELSBY HEALTH CENTRE      & LOWER ROBIN HOOD LANE     & HELSBY, WARRINGTON        & CHESHIRE                  & WA6 0BW                   & 53.27047                  & -2.77052                 \\\\\n",
       "\t N81006                    & BUNBURY MEDICAL PRACTICE  & VICARAGE LANE, BUNBURY    & TARPORLEY                 & CHESHIRE                  & CW6 9PE                   & 53.11683                  & -2.64938                 \\\\\n",
       "\t N81007                    & HOLES LANE MEDICAL CENTRE & THE SURGERY,28 HOLES LANE & WOOLSTON, WARRINGTON      & CHESHIRE                  & WA1 4NE                   & 53.39983                  & -2.54511                 \\\\\n",
       "\\end{tabular}\n"
      ],
      "text/markdown": [
       "\n",
       "| code | practice | address | area | county | postcode | lat | long |\n",
       "|---|---|---|---|---|---|---|---|\n",
       "| N81001                    | AUDLEM MEDICAL PRACTICE   | 16 CHESHIRE ST, AUDLEM    | CREWE                     | CHESHIRE                  | CW3 0AH                   | 52.98962                  | -2.50872                  |\n",
       "| N81002                    | KENMORE MEDICAL CENTRE    | 60-62 ALDERLEY ROAD       | WILMSLOW                  | CHESHIRE                  | SK9 1PA                   | 53.32308                  | -2.23522                  |\n",
       "| N81005                    | HELSBY HEALTH CENTRE      | LOWER ROBIN HOOD LANE     | HELSBY, WARRINGTON        | CHESHIRE                  | WA6 0BW                   | 53.27047                  | -2.77052                  |\n",
       "| N81006                    | BUNBURY MEDICAL PRACTICE  | VICARAGE LANE, BUNBURY    | TARPORLEY                 | CHESHIRE                  | CW6 9PE                   | 53.11683                  | -2.64938                  |\n",
       "| N81007                    | HOLES LANE MEDICAL CENTRE | THE SURGERY,28 HOLES LANE | WOOLSTON, WARRINGTON      | CHESHIRE                  | WA1 4NE                   | 53.39983                  | -2.54511                  |\n",
       "\n"
      ],
      "text/plain": [
       "  code   practice                  address                  \n",
       "1 N81001 AUDLEM MEDICAL PRACTICE   16 CHESHIRE ST, AUDLEM   \n",
       "2 N81002 KENMORE MEDICAL CENTRE    60-62 ALDERLEY ROAD      \n",
       "3 N81005 HELSBY HEALTH CENTRE      LOWER ROBIN HOOD LANE    \n",
       "4 N81006 BUNBURY MEDICAL PRACTICE  VICARAGE LANE, BUNBURY   \n",
       "5 N81007 HOLES LANE MEDICAL CENTRE THE SURGERY,28 HOLES LANE\n",
       "  area                 county   postcode lat      long    \n",
       "1 CREWE                CHESHIRE CW3 0AH  52.98962 -2.50872\n",
       "2 WILMSLOW             CHESHIRE SK9 1PA  53.32308 -2.23522\n",
       "3 HELSBY, WARRINGTON   CHESHIRE WA6 0BW  53.27047 -2.77052\n",
       "4 TARPORLEY            CHESHIRE CW6 9PE  53.11683 -2.64938\n",
       "5 WOOLSTON, WARRINGTON CHESHIRE WA1 4NE  53.39983 -2.54511"
      ]
     },
     "metadata": {},
     "output_type": "display_data"
    }
   ],
   "source": [
    "# practices_df = pd.read_csv(\"./data/practices.csv\")\n",
    "# practices_df.head(5)\n",
    "\n",
    "practices_df <- read_csv(\"./data/practices.csv\")\n",
    "head(practices_df, 5)"
   ]
  },
  {
   "cell_type": "markdown",
   "id": "3cdb3405",
   "metadata": {},
   "source": [
    "<div class=\"alert alert-success\">\n",
    "<b>Note:</b> If you need the latitude/longitude points and only have post codes, there are plenty of tools that you can use to convert them such as <a href=\"https://www.freemaptools.com/convert-uk-postcode-to-lat-lng.htm\" target=\"_blank\">https://www.freemaptools.com/convert-uk-postcode-to-lat-lng.htm</a>.\n",
    "</div>"
   ]
  },
  {
   "cell_type": "markdown",
   "id": "6e3e9a0b",
   "metadata": {},
   "source": [
    "Next we need to create a bounding box (a rectangle/square) that is made up of the maximum and minimum latitude and longitude points. We can use the <code>min()</code> and <code>max()</code> functions for this."
   ]
  },
  {
   "cell_type": "code",
   "execution_count": 49,
   "id": "06516fd9",
   "metadata": {},
   "outputs": [],
   "source": [
    "# BBox = (practices_df.long.min(), practices_df.long.max(), practices_df.lat.min(), practices_df.lat.max())\n",
    "# BBox\n",
    "\n"
   ]
  },
  {
   "cell_type": "markdown",
   "id": "92703d08",
   "metadata": {},
   "source": [
    "Finally we can put this all together using a scatter plot with the latitude/longitude locations of the practices setting the colour (<code>c='r'</code>), transparency (<code>alpha=0.8</code>) and size (<code>s=12</code>). We set the x and y axis limits to the dimensions of the bounding box <code>BBox</code> tuple that we created eralier. "
   ]
  },
  {
   "cell_type": "code",
   "execution_count": null,
   "id": "281c8f94",
   "metadata": {},
   "outputs": [],
   "source": [
    "# fig, ax = plt.subplots(figsize = (12, 10))\n",
    "# ax.scatter(practices_df.long, practices_df.lat, zorder=1, alpha=0.8, c='r', s=12);\n",
    "# ax.set_title('GP practices in Manchester (UK)')\n",
    "# ax.set_xlim(BBox[0], BBox[1])\n",
    "# ax.set_ylim(BBox[2], BBox[3])\n",
    "# ax.imshow(map_img, zorder=0, extent = BBox, aspect='equal')"
   ]
  },
  {
   "cell_type": "markdown",
   "id": "4614d5b0",
   "metadata": {},
   "source": [
    "There are of course other types of spacial plots that are used such as the <code>proportional symbol map</code>. This can be used to show magnitude. For example we could make the circles in the map above larger or smaller to represent the number of patients that the various practices process. "
   ]
  },
  {
   "cell_type": "markdown",
   "id": "6d24a985",
   "metadata": {},
   "source": [
    "As you can see, generating plots using geographical data can be more complex than other forms of visualisations and requires a knowledge of boundary systems and often the use of various APIs (Application Programming Interfaces) to combine the different features into something that works well. We have only touched on some of the tools and techniques that can be used to visualise these sorts of data."
   ]
  },
  {
   "cell_type": "markdown",
   "id": "efb7c37c",
   "metadata": {},
   "source": [
    "#### Feedback\n",
    "Please rate this notebook by clicking on the image below (it will open up a new window where you can select one of the three icons)\n",
    " <a href=\"https://www.qualtrics.manchester.ac.uk/jfe/form/SV_d0xXBbVTXslv9ps\" target=\"_blank\"><img src=\"./images/sentiment-check-icons.png\" width=\"80%\" /></a>"
   ]
  },
  {
   "cell_type": "markdown",
   "id": "c602a12c",
   "metadata": {},
   "source": [
    "------\n",
    "\n",
    "##### About this Notebook\n",
    "<br>\n",
    "<i>Notebook created by <strong>Dr. Alan Davies</strong>.\n",
    "    \n",
    "Publish date: July 2023<br>\n",
    "Review date: July 2024</i>"
   ]
  },
  {
   "cell_type": "markdown",
   "id": "0a55da0a",
   "metadata": {},
   "source": [
    "## Notes:"
   ]
  },
  {
   "cell_type": "code",
   "execution_count": null,
   "id": "71bb3f89",
   "metadata": {},
   "outputs": [],
   "source": []
  }
 ],
 "metadata": {
  "hide_input": false,
  "kernelspec": {
   "display_name": "R",
   "language": "R",
   "name": "ir"
  },
  "language_info": {
   "codemirror_mode": "r",
   "file_extension": ".r",
   "mimetype": "text/x-r-source",
   "name": "R",
   "pygments_lexer": "r",
   "version": "3.6.1"
  },
  "varInspector": {
   "cols": {
    "lenName": 16,
    "lenType": 16,
    "lenVar": 40
   },
   "kernels_config": {
    "python": {
     "delete_cmd_postfix": "",
     "delete_cmd_prefix": "del ",
     "library": "var_list.py",
     "varRefreshCmd": "print(var_dic_list())"
    },
    "r": {
     "delete_cmd_postfix": ") ",
     "delete_cmd_prefix": "rm(",
     "library": "var_list.r",
     "varRefreshCmd": "cat(var_dic_list()) "
    }
   },
   "types_to_exclude": [
    "module",
    "function",
    "builtin_function_or_method",
    "instance",
    "_Feature"
   ],
   "window_display": false
  }
 },
 "nbformat": 4,
 "nbformat_minor": 5
}
