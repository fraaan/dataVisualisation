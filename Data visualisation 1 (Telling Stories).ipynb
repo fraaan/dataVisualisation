{
 "cells": [
  {
   "cell_type": "markdown",
   "metadata": {},
   "source": [
    "<img src=\"./images/banner.png\" width=\"100%\" align=\"left\" />"
   ]
  },
  {
   "cell_type": "markdown",
   "metadata": {},
   "source": [
    "<table style=\"float:right;\">\n",
    "    <tr>\n",
    "        <td>                      \n",
    "            <div style=\"text-align: right\"><a href=\"https://alandavies.netlify.com\" target=\"_blank\">Dr Alan Davies</a></div>\n",
    "            <div style=\"text-align: right\">Senior Lecturer Health Data Science</div>\n",
    "            <div style=\"text-align: right\">University of Manchester</div>\n",
    "         </td>\n",
    "         <td>\n",
    "             <img src=\"./images/alan.png\" width=\"30%\" />\n",
    "         </td>\n",
    "     </tr>\n",
    "</table>"
   ]
  },
  {
   "cell_type": "markdown",
   "metadata": {},
   "source": [
    "# 1.0 Telling stories with data in R\n",
    "****"
   ]
  },
  {
   "cell_type": "markdown",
   "metadata": {},
   "source": [
    "#### About this Notebook\n",
    "This notebook introduces creating data visualisation using <code>R</code>. Although this can seem a lot more difficult than creating plots using tools like Excel or Tableau, it will give you tools to make any type of visualisation, rather than the limited number of plots available in such software. This ranges from simple plots like bar and line plots through to interactive and bespoke plots that are highly customizable. We start by looking at how data visualisations can be used to tell stories about data (communicate a narrative), as well as how we can create data visualisation in R. "
   ]
  },
  {
   "cell_type": "markdown",
   "metadata": {},
   "source": [
    "<div class=\"alert alert-block alert-warning\"><b>Learning Objectives:</b> \n",
    "<br/> At the end of this notebook you will be able to:\n",
    "   \n",
    "LO9: Practice plotting data using appropriate visualisation types, including static and dynamic (interactive) forms of visualisation using modern graph libraries in languages like R and Python   \n",
    "<br/>\n",
    "LO7: Discuss the need for, and know when to add additional annotations to visualisations for wider context (e.g. provenance, uncertainty, sample size, confidence intervals)\n",
    "</div> "
   ]
  },
  {
   "cell_type": "markdown",
   "metadata": {},
   "source": [
    "<a id=\"top\"></a>\n",
    "\n",
    "<b>Table of contents</b><br>\n",
    "\n",
    "1.1 [Communication of data using visualisations](#stories)\n",
    "\n",
    "1.2 [Why not just use numbers?](#why)\n",
    "\n",
    "1.3 [Common types of plot](#common)\n",
    "\n",
    "1.4 [Adding context with annotations and highlighting](#anno)"
   ]
  },
  {
   "cell_type": "markdown",
   "metadata": {},
   "source": [
    "<a id=\"stories\"></a>\n",
    "#### 1.1 Communication of data using visualisations"
   ]
  },
  {
   "cell_type": "markdown",
   "metadata": {},
   "source": [
    "Data visualisations can be used to communicate underlying data and provide context that can help readers/viewers interpret the data in a specific way, or have important features of data highlighted to them. A great example of this is the <code>gapminder</code> tool. The tool shows life expectancy (y-axes) plotted against income (x-axes) for the different countries of the world. The size of the circles indicates the population of the country, the circles colour indicates the geographical region the country belongs to. Further the tool can be played like a video showing the changes of these countries over time from 1799 to 2021. This example encodes multiple variables using a variety attributes such as colour, size, time and so on."
   ]
  },
  {
   "cell_type": "markdown",
   "metadata": {},
   "source": [
    "<img src=\"./images/gm.png\" width=\"70%\" align=\"left\" />"
   ]
  },
  {
   "cell_type": "markdown",
   "metadata": {},
   "source": [
    "<div class=\"alert alert-block alert-info\">\n",
    "<b>Task 1:</b>\n",
    "<br> \n",
    "1. Watch this short (4:47 minutes) YouTube video <a href=\"https://www.youtube.com/watch?v=jbkSRLYSojo\" target=\"_blank\">here</a> to see the late Hans Rosling delivering a master class on telling stories with data visualisations.<br>\n",
    "2. Visit <a href=\"https://www.gapminder.org/tools/#$model$markers$bubble$encoding$frame$value=1997;;;;;&chart-type=bubbles&url=v1\" target=\"_blank\">gapminder.org</a>. Play the animation (play button in the bottom left corner). Consider the amount of information presented in this single visualisation. Explore the filtering options of tool (e.g. select a country of interest).\n",
    "</div>"
   ]
  },
  {
   "cell_type": "markdown",
   "metadata": {},
   "source": [
    "Let's see another example from the journalist David McCandless. The 'balloon race' plot shows the evidence for various health supplements that can be filtered by different by various medical concerns."
   ]
  },
  {
   "cell_type": "markdown",
   "metadata": {},
   "source": [
    "<img src=\"./images/snake_oil.png\" width=\"40%\" align=\"left\" />"
   ]
  },
  {
   "cell_type": "markdown",
   "metadata": {
    "solution2": "hidden",
    "solution2_first": true
   },
   "source": [
    "<div class=\"alert alert-block alert-info\">\n",
    "<b>Task 2:</b>\n",
    "<br> \n",
    "1. Take a look at the 'Snake oil supplements?' balloon race chart <a href=\"https://informationisbeautiful.net/visualizations/snake-oil-scientific-evidence-for-nutritional-supplements-vizsweet/\" target=\"_blank\">here</a>.<br>\n",
    "2. What sense can you make of the chart?<br>\n",
    "3. What is the supplement with the best evidence for musculoskeletal disorders?\n",
    "</div>"
   ]
  },
  {
   "cell_type": "markdown",
   "metadata": {
    "solution2": "hidden"
   },
   "source": [
    "2. Shows evidence for nutritional supplements, the higher up image, the more evidence for the efficacy of the supplement. This is also broken down into sections (e.g. strong, promising, inconclusive, etc.). Clicking on an item takes you to the original evidence. This data is actually pulled in from a Google document.  \n",
    "3. Calcium + vitamin D"
   ]
  },
  {
   "cell_type": "markdown",
   "metadata": {},
   "source": [
    "<div class=\"alert alert-success\">\n",
    "<b>Note:</b> To see some other great examples, check out the 'information is beautiful' blog <a href=\"https://informationisbeautiful.net/\" target=\"_blank\">here</a>. You can see a TED talk (18:17 minutes) video <a href=\"https://www.youtube.com/watch?v=5Zg-C8AAIGg\" target=\"_blank\">here</a> from the creator of the balloon race, David McCandless.\n",
    "</div>"
   ]
  },
  {
   "cell_type": "markdown",
   "metadata": {},
   "source": [
    "<a id=\"why\"></a>\n",
    "#### 1.2 Why not just use numbers?"
   ]
  },
  {
   "cell_type": "markdown",
   "metadata": {},
   "source": [
    "This can best be illustrated with a couple of examples. The first relates to the nurse <code>Florence Nightingale</code> during the Crimean war. Most statisticians of the time used tables to display numbers in their entirety. Although this presents the complete data, it was difficult for those untrained in statistics to really grasp the meaning. Florence set about conveying a narrative about the causes of mortality which showed that a lot of it was actually caused by poor sanitation and overcrowding rather than combat. She did this (with medical statistician William Farr) through the now famous rose diagram (a type of polar area diagram related to a pie chart). She was able to use these visualisations to make an argument and support her narrative in an accessible way to a large audience of non-specialists. Take a look at the <a href=\"https://royal-statistical-society.github.io/datavisguide/docs/why-visualise.html\" target=\"_blank\">Diagram of the causes of mortality in the army in the East</a> Source: Wikimedia Commons. "
   ]
  },
  {
   "cell_type": "markdown",
   "metadata": {},
   "source": [
    "Another good example of this was produced by French statistician <code>Francis Anscombe</code> in 1973 termed <code>Anscombe's quartet</code>. Anscombe was concerned by the emphasis of numerical methods in stats over graphing data. To illustrate the importance and value of visualising data he created 4 datasets that share very similar statistical properties but produce very different plots when graphed. Let's recreate these datasets in R and take a look. Don't worry if you don't understand the code at this point, we will look into how to plot data later, for now just focus on the outputs."
   ]
  },
  {
   "cell_type": "markdown",
   "metadata": {},
   "source": [
    "First we will import the <code>Tidyverse</code> library. <a href=\"https://www.tidyverse.org/\" target=\"_blank\">Tidyverse.org</a> defines Tidyverse as:\n",
    "\n",
    ">The tidyverse is an opinionated collection of R packages designed for data science. All packages share an underlying design philosophy, grammar, and data structures.\n",
    "\n",
    "Two packages in this collection you will need to read and manipulate data are, <code>dplyr package</code> (the grammar of data manipulation) <code>readr package</code> (reads \"rectangular data\" where data is in rows and columns). Using these, we can load the data and represent it using <code>data frames</code>."
   ]
  },
  {
   "cell_type": "code",
   "execution_count": 1,
   "metadata": {},
   "outputs": [
    {
     "name": "stderr",
     "output_type": "stream",
     "text": [
      "Registered S3 methods overwritten by 'ggplot2':\n",
      "  method         from \n",
      "  [.quosures     rlang\n",
      "  c.quosures     rlang\n",
      "  print.quosures rlang\n",
      "Registered S3 method overwritten by 'rvest':\n",
      "  method            from\n",
      "  read_xml.response xml2\n",
      "-- Attaching packages --------------------------------------- tidyverse 1.2.1 --\n",
      "v ggplot2 3.1.1       v purrr   0.3.2  \n",
      "v tibble  2.1.1       v dplyr   0.8.0.1\n",
      "v tidyr   0.8.3       v stringr 1.4.0  \n",
      "v readr   1.3.1       v forcats 0.4.0  \n",
      "-- Conflicts ------------------------------------------ tidyverse_conflicts() --\n",
      "x dplyr::filter()  masks stats::filter()\n",
      "x purrr::flatten() masks jsonlite::flatten()\n",
      "x dplyr::lag()     masks stats::lag()\n"
     ]
    }
   ],
   "source": [
    "library(tidyverse)"
   ]
  },
  {
   "cell_type": "markdown",
   "metadata": {},
   "source": [
    "Next we can create the 4 dataframes. Each contains an <code>x</code> and a <code>y</code> column."
   ]
  },
  {
   "cell_type": "code",
   "execution_count": 2,
   "metadata": {},
   "outputs": [],
   "source": [
    "# Data set 1\n",
    "x <- c(10.0,8.0,13.0,9.0,11.0,14.0,6.0,4.0,12.0,7.0,5.0)\n",
    "y <- c(8.04,6.95,7.58,8.81,8.33,9.96,7.24,4.26,10.84,4.82,5.68)\n",
    "ds_1 <- data.frame(x=x, y=y) \n",
    "\n",
    "# Data set 2\n",
    "x <- c(10.0,8.0,13.0,9.0,11.0,14.0,6.0,4.0,12.0,7.0,5.0)\n",
    "y <- c(9.14,8.14,8.74,8.77,9.26,8.10,6.13,3.10,9.13,7.26,4.74)\n",
    "ds_2 <- data.frame(x=x, y=y)\n",
    "\n",
    "# Data set 3\n",
    "x <- c(10.0,8.0,13.0,9.0,11.0,14.0,6.0,4.0,12.0,7.0,5.0)\n",
    "y <- c(7.46,6.77,12.74,7.11,7.81,8.84,6.08,5.39,8.15,6.42,5.73)\n",
    "ds_3 <- data.frame(x=x, y=y)\n",
    "\n",
    "# Data set 4\n",
    "x <- c(8.0,8.0,8.0,8.0,8.0,8.0,8.0,19.0,8.0,8.0,8.0)\n",
    "y <- c(6.58,5.76,7.71,8.84,8.47,7.04,5.25,12.50,5.56,7.91,6.89)\n",
    "ds_4 <- data.frame(x=x, y=y)"
   ]
  },
  {
   "cell_type": "markdown",
   "metadata": {},
   "source": [
    "If we view this in a tabular form it looks like this."
   ]
  },
  {
   "cell_type": "markdown",
   "metadata": {},
   "source": [
    "<img src=\"./images/ans.png\" width=\"30%\" align=\"left\" />"
   ]
  },
  {
   "cell_type": "markdown",
   "metadata": {},
   "source": [
    "As mentioned previously, the statistical properties of the datasets are very similar. Let's actually check this. We will start with comparing the mean (average) values for the <code>x</code> columns across all 4 datasets. Which you can see are the same."
   ]
  },
  {
   "cell_type": "code",
   "execution_count": 3,
   "metadata": {},
   "outputs": [
    {
     "name": "stdout",
     "output_type": "stream",
     "text": [
      "Mean of x in ds_1 = 9 ,ds_2 = 9 ,ds_3 = 9 and ds_4 = 9"
     ]
    }
   ],
   "source": [
    "cat(\"Mean of x in ds_1 =\",mean(ds_1$x),\",ds_2 =\",mean(ds_2$x),\",ds_3 =\",mean(ds_3$x),\"and ds_4 =\", mean(ds_4$x))"
   ]
  },
  {
   "cell_type": "markdown",
   "metadata": {},
   "source": [
    "Next we will check the mean of the <code>y</code> columns. Also very similar (to 2 decimal places)."
   ]
  },
  {
   "cell_type": "code",
   "execution_count": 4,
   "metadata": {},
   "outputs": [
    {
     "name": "stdout",
     "output_type": "stream",
     "text": [
      "Mean of y in ds_1 = 7.500909 ,ds_2 = 7.500909 ,ds_3 = 7.5 and ds_4 = 7.500909"
     ]
    }
   ],
   "source": [
    "cat(\"Mean of y in ds_1 =\",mean(ds_1$y),\",ds_2 =\",mean(ds_2$y),\",ds_3 =\",mean(ds_3$y),\"and ds_4 =\",mean(ds_4$y))"
   ]
  },
  {
   "cell_type": "markdown",
   "metadata": {},
   "source": [
    "A similar story with the sample variance."
   ]
  },
  {
   "cell_type": "code",
   "execution_count": 5,
   "metadata": {},
   "outputs": [
    {
     "name": "stdout",
     "output_type": "stream",
     "text": [
      "Sample varience of y in ds_1 = 4.127269 ,ds_2 = 4.127629 ,ds_3 = 4.12262 and ds_4 = 4.123249"
     ]
    }
   ],
   "source": [
    "cat(\"Sample varience of y in ds_1 =\",var(ds_1$y),\",ds_2 =\",var(ds_2$y),\",ds_3 =\",var(ds_3$y),\"and ds_4 =\",var(ds_4$y))"
   ]
  },
  {
   "cell_type": "markdown",
   "metadata": {},
   "source": [
    "Even the correlations between the <code>x</code> and <code>y</code> columns are remarkable similar. "
   ]
  },
  {
   "cell_type": "code",
   "execution_count": 6,
   "metadata": {},
   "outputs": [
    {
     "name": "stdout",
     "output_type": "stream",
     "text": [
      "Correlation between x and y in: \n",
      "ds_1 = 0.8164205 \n",
      "ds_2 = 0.8162365 \n",
      "ds_3 = 0.8162867 \n",
      "ds_4 = 0.8165214"
     ]
    }
   ],
   "source": [
    "cat(\"Correlation between x and y in: \\nds_1 =\",cor(ds_1$x, ds_1$y, method=\"pearson\"),\n",
    "    \"\\nds_2 =\",cor(ds_2$x, ds_2$y, method=\"pearson\"),\n",
    "    \"\\nds_3 =\",cor(ds_3$x, ds_3$y, method=\"pearson\"),\n",
    "    \"\\nds_4 =\",cor(ds_4$x, ds_4$y, method=\"pearson\"))    "
   ]
  },
  {
   "cell_type": "markdown",
   "metadata": {},
   "source": [
    "The linear regression line and $R^2$ values (not shown here) are also very similar to 2 and 3 decimal places. If we produce scatter plots to visualise the data however, we can see they look strikingly different to one another. "
   ]
  },
  {
   "cell_type": "code",
   "execution_count": 7,
   "metadata": {
    "cell_style": "split"
   },
   "outputs": [
    {
     "data": {
      "image/png": "[encoded data removed]",
      "text/plain": [
       "plot without title"
      ]
     },
     "metadata": {},
     "output_type": "display_data"
    }
   ],
   "source": [
    "plot(ds_1$x, ds_1$y);"
   ]
  },
  {
   "cell_type": "code",
   "execution_count": 8,
   "metadata": {
    "cell_style": "split"
   },
   "outputs": [
    {
     "data": {
      "image/png": "[encoded data removed]",
      "text/plain": [
       "plot without title"
      ]
     },
     "metadata": {},
     "output_type": "display_data"
    }
   ],
   "source": [
    "plot(ds_2$x, ds_2$y);"
   ]
  },
  {
   "cell_type": "code",
   "execution_count": 9,
   "metadata": {
    "cell_style": "split"
   },
   "outputs": [
    {
     "data": {
      "image/png": "[encoded data removed]",
      "text/plain": [
       "plot without title"
      ]
     },
     "metadata": {},
     "output_type": "display_data"
    }
   ],
   "source": [
    "plot(ds_3$x, ds_3$y);"
   ]
  },
  {
   "cell_type": "code",
   "execution_count": 10,
   "metadata": {
    "cell_style": "split"
   },
   "outputs": [
    {
     "data": {
      "image/png": "[encoded data removed]",
      "text/plain": [
       "plot without title"
      ]
     },
     "metadata": {},
     "output_type": "display_data"
    }
   ],
   "source": [
    "plot(ds_4$x, ds_4$y);"
   ]
  },
  {
   "cell_type": "markdown",
   "metadata": {},
   "source": [
    "Removal of the outlier in the 4th dataset for example would cause a great impact on the data. This can help identify the importance of individual data points. "
   ]
  },
  {
   "cell_type": "markdown",
   "metadata": {},
   "source": [
    "<div class=\"alert alert-success\">\n",
    "<b>Note:</b> Humans are great at spotting patterns. Some patterns are only evident when visualise them.\n",
    "</div>"
   ]
  },
  {
   "cell_type": "markdown",
   "metadata": {},
   "source": [
    "<a id=\"common\"></a>\n",
    "#### 1.3 Common types of plot"
   ]
  },
  {
   "cell_type": "markdown",
   "metadata": {},
   "source": [
    "Now you have seen some examples of why data visualisation is important, which include:\n",
    "<ul>\n",
    "   <li>Communicating facts and narratives to different audiences</li>\n",
    "   <li>Summarising large amounts of data (or many variables/features)</li>\n",
    "   <li>Exploring the characteristics of data (explored in the next notebook)</li>\n",
    "</ul>\n",
    "Let's take a look at some examples of plotting different types of data using some of the common R libraries."
   ]
  },
  {
   "cell_type": "markdown",
   "metadata": {},
   "source": [
    "R has some useful inbuilt plotting functionality that is easy to implement as we just saw. Other modules such as <code>ggplot2</code> and <code>lattice</code> provide additional types of plots that can be used to publication quality visualisations. There are even libraries for creating interactive plots, such as <code>plotly</code>. Let's take a look at some examples. Here is some data on various vaccinations that we have loaded into a dataframe and output."
   ]
  },
  {
   "cell_type": "code",
   "execution_count": 11,
   "metadata": {},
   "outputs": [],
   "source": [
    "vc_data <- read.csv(\"./data/vaccines.csv\")"
   ]
  },
  {
   "cell_type": "code",
   "execution_count": 12,
   "metadata": {},
   "outputs": [
    {
     "data": {
      "text/html": [
       "<table>\n",
       "<thead><tr><th scope=col>Clinic.proceedures</th><th scope=col>Clinic.site</th><th scope=col>Prices</th></tr></thead>\n",
       "<tbody>\n",
       "\t<tr><td>Malaria                               </td><td>A                                     </td><td> 85                                   </td></tr>\n",
       "\t<tr><td>India Package                         </td><td>A                                     </td><td>165                                   </td></tr>\n",
       "\t<tr><td>Africa Package                        </td><td>B                                     </td><td>220                                   </td></tr>\n",
       "\t<tr><td>Central America Package               </td><td>A                                     </td><td>165                                   </td></tr>\n",
       "\t<tr><td>South America Package                 </td><td>B                                     </td><td>235                                   </td></tr>\n",
       "\t<tr><td>Diphtheria GP Consultation            </td><td>B                                     </td><td> 85                                   </td></tr>\n",
       "\t<tr><td>Diphtheria Vaccine                    </td><td>B                                     </td><td>145                                   </td></tr>\n",
       "\t<tr><td>Polio GP Consultation                 </td><td>A                                     </td><td> 85                                   </td></tr>\n",
       "\t<tr><td>Polio Vaccine                         </td><td>A                                     </td><td>145                                   </td></tr>\n",
       "\t<tr><td>Tetanus GP Consultation               </td><td>B                                     </td><td> 85                                   </td></tr>\n",
       "\t<tr><td>Tetanus Vaccine                       </td><td>A                                     </td><td>145                                   </td></tr>\n",
       "\t<tr><td>Hepatitis A GP Consultation           </td><td>A                                     </td><td> 85                                   </td></tr>\n",
       "\t<tr><td>Hepatitis A Vaccine                   </td><td>B                                     </td><td> 85                                   </td></tr>\n",
       "\t<tr><td>Hepatitis B Vaccine                   </td><td>B                                     </td><td> 85                                   </td></tr>\n",
       "\t<tr><td>Hepatitis B Antibody Blood Test       </td><td>A                                     </td><td> 85                                   </td></tr>\n",
       "\t<tr><td>Hepatitis B Surface Antigen Blood Test</td><td>A                                     </td><td> 75                                   </td></tr>\n",
       "\t<tr><td>Japanese Encephalitis Vaccine         </td><td>B                                     </td><td>150                                   </td></tr>\n",
       "\t<tr><td>Rabies Vaccine                        </td><td>B                                     </td><td> 80                                   </td></tr>\n",
       "\t<tr><td>Cholera Vaccine                       </td><td>A                                     </td><td> 85                                   </td></tr>\n",
       "\t<tr><td>Yellow Fever Vaccine                  </td><td>B                                     </td><td> 90                                   </td></tr>\n",
       "</tbody>\n",
       "</table>\n"
      ],
      "text/latex": [
       "\\begin{tabular}{r|lll}\n",
       " Clinic.proceedures & Clinic.site & Prices\\\\\n",
       "\\hline\n",
       "\t Malaria                                & A                                      &  85                                   \\\\\n",
       "\t India Package                          & A                                      & 165                                   \\\\\n",
       "\t Africa Package                         & B                                      & 220                                   \\\\\n",
       "\t Central America Package                & A                                      & 165                                   \\\\\n",
       "\t South America Package                  & B                                      & 235                                   \\\\\n",
       "\t Diphtheria GP Consultation             & B                                      &  85                                   \\\\\n",
       "\t Diphtheria Vaccine                     & B                                      & 145                                   \\\\\n",
       "\t Polio GP Consultation                  & A                                      &  85                                   \\\\\n",
       "\t Polio Vaccine                          & A                                      & 145                                   \\\\\n",
       "\t Tetanus GP Consultation                & B                                      &  85                                   \\\\\n",
       "\t Tetanus Vaccine                        & A                                      & 145                                   \\\\\n",
       "\t Hepatitis A GP Consultation            & A                                      &  85                                   \\\\\n",
       "\t Hepatitis A Vaccine                    & B                                      &  85                                   \\\\\n",
       "\t Hepatitis B Vaccine                    & B                                      &  85                                   \\\\\n",
       "\t Hepatitis B Antibody Blood Test        & A                                      &  85                                   \\\\\n",
       "\t Hepatitis B Surface Antigen Blood Test & A                                      &  75                                   \\\\\n",
       "\t Japanese Encephalitis Vaccine          & B                                      & 150                                   \\\\\n",
       "\t Rabies Vaccine                         & B                                      &  80                                   \\\\\n",
       "\t Cholera Vaccine                        & A                                      &  85                                   \\\\\n",
       "\t Yellow Fever Vaccine                   & B                                      &  90                                   \\\\\n",
       "\\end{tabular}\n"
      ],
      "text/markdown": [
       "\n",
       "| Clinic.proceedures | Clinic.site | Prices |\n",
       "|---|---|---|\n",
       "| Malaria                                | A                                      |  85                                    |\n",
       "| India Package                          | A                                      | 165                                    |\n",
       "| Africa Package                         | B                                      | 220                                    |\n",
       "| Central America Package                | A                                      | 165                                    |\n",
       "| South America Package                  | B                                      | 235                                    |\n",
       "| Diphtheria GP Consultation             | B                                      |  85                                    |\n",
       "| Diphtheria Vaccine                     | B                                      | 145                                    |\n",
       "| Polio GP Consultation                  | A                                      |  85                                    |\n",
       "| Polio Vaccine                          | A                                      | 145                                    |\n",
       "| Tetanus GP Consultation                | B                                      |  85                                    |\n",
       "| Tetanus Vaccine                        | A                                      | 145                                    |\n",
       "| Hepatitis A GP Consultation            | A                                      |  85                                    |\n",
       "| Hepatitis A Vaccine                    | B                                      |  85                                    |\n",
       "| Hepatitis B Vaccine                    | B                                      |  85                                    |\n",
       "| Hepatitis B Antibody Blood Test        | A                                      |  85                                    |\n",
       "| Hepatitis B Surface Antigen Blood Test | A                                      |  75                                    |\n",
       "| Japanese Encephalitis Vaccine          | B                                      | 150                                    |\n",
       "| Rabies Vaccine                         | B                                      |  80                                    |\n",
       "| Cholera Vaccine                        | A                                      |  85                                    |\n",
       "| Yellow Fever Vaccine                   | B                                      |  90                                    |\n",
       "\n"
      ],
      "text/plain": [
       "   Clinic.proceedures                     Clinic.site Prices\n",
       "1  Malaria                                A            85   \n",
       "2  India Package                          A           165   \n",
       "3  Africa Package                         B           220   \n",
       "4  Central America Package                A           165   \n",
       "5  South America Package                  B           235   \n",
       "6  Diphtheria GP Consultation             B            85   \n",
       "7  Diphtheria Vaccine                     B           145   \n",
       "8  Polio GP Consultation                  A            85   \n",
       "9  Polio Vaccine                          A           145   \n",
       "10 Tetanus GP Consultation                B            85   \n",
       "11 Tetanus Vaccine                        A           145   \n",
       "12 Hepatitis A GP Consultation            A            85   \n",
       "13 Hepatitis A Vaccine                    B            85   \n",
       "14 Hepatitis B Vaccine                    B            85   \n",
       "15 Hepatitis B Antibody Blood Test        A            85   \n",
       "16 Hepatitis B Surface Antigen Blood Test A            75   \n",
       "17 Japanese Encephalitis Vaccine          B           150   \n",
       "18 Rabies Vaccine                         B            80   \n",
       "19 Cholera Vaccine                        A            85   \n",
       "20 Yellow Fever Vaccine                   B            90   "
      ]
     },
     "metadata": {},
     "output_type": "display_data"
    }
   ],
   "source": [
    "vc_data"
   ]
  },
  {
   "cell_type": "code",
   "execution_count": 13,
   "metadata": {},
   "outputs": [],
   "source": [
    "library(repr)\n",
    "options(repr.plot.width=4, repr.plot.height=4)\n",
    "par(mar=c(11,4,4,4))"
   ]
  },
  {
   "cell_type": "code",
   "execution_count": 14,
   "metadata": {},
   "outputs": [
    {
     "data": {
      "image/png": "[encoded data removed]",
      "text/plain": [
       "plot without title"
      ]
     },
     "metadata": {},
     "output_type": "display_data"
    }
   ],
   "source": [
    "barplot(vc_data$Prices, names=vc_data$Clinic.proceedures, las=2)"
   ]
  },
  {
   "cell_type": "markdown",
   "metadata": {},
   "source": [
    "This is handy for rapidly generating plots of our data but it doesn't look great. Although other modules sometimes have more steps, they also allow more control over the formatting of plots. Here is the same plot recreated using the <code>ggplot2</code> library: "
   ]
  },
  {
   "cell_type": "code",
   "execution_count": 15,
   "metadata": {},
   "outputs": [],
   "source": [
    "library(ggplot2)"
   ]
  },
  {
   "cell_type": "code",
   "execution_count": 16,
   "metadata": {},
   "outputs": [
    {
     "data": {
      "image/png": "[encoded data removed]",
      "text/plain": [
       "plot without title"
      ]
     },
     "metadata": {},
     "output_type": "display_data"
    }
   ],
   "source": [
    "ggplot(data=vc_data, aes(x=Clinic.proceedures, y=Prices)) + \n",
    "       geom_bar(stat=\"identity\") +\n",
    "       theme(axis.text.x = element_text(angle = 90))"
   ]
  },
  {
   "cell_type": "markdown",
   "metadata": {},
   "source": [
    "Here we use the <code>ggplot2</code> library which is one of the most used visualisation libraries in R. You will see it requires some additional code to get it to work.  Its useful to think about it in terms of layers, for example:\n",
    "\n",
    "- Data layer : <code>data=vc_data</code>\n",
    "- Aesthetics layer : <code>aes</code> this is the description of how the data's variable should be mapped to visual parts on the graph, so in this instance, we pass in the data and specify which values we want to map onto the <code>x</code> and <code>y</code> axes\n",
    "- Geometry layer : <code>geom_bar</code> is where you specify the type of visual elements you want. For example, this could be bars, points and lines.  There are over 40 types of in ggplot2\n",
    "\n",
    "Essentially you are building up a plot by adding additional layers of detail as illustrated in the image below:"
   ]
  },
  {
   "cell_type": "markdown",
   "metadata": {},
   "source": [
    "<img src=\"./images/aes.png\" width=\"50%\" align=\"left\" />"
   ]
  },
  {
   "cell_type": "markdown",
   "metadata": {},
   "source": [
    "So as you can see, the various visualisation libraries require slightly different information and have different ways of applying customisation. It can save you a lot of time and effort by first checking the implementation of your required plot in the different libraries to select the easiest and most suitable for your purposes, they all have good and bad points to consider that you will become more familiar with as you use them. \n",
    "\n",
    "We wont go through every single type of plot (e.g. bar, line, pie, heatmap, bubble, ...) in all of the libraries as this would be very time consuming and laborious, we will instead develop some examples using the different libraries interchangeably as we go."
   ]
  },
  {
   "cell_type": "markdown",
   "metadata": {
    "solution2": "hidden",
    "solution2_first": true
   },
   "source": [
    "<div class=\"alert alert-block alert-info\">\n",
    "<b>Task 3:</b>\n",
    "<br> \n",
    "1. Consider the plot below. What are the main issues/problems with this plot? You can insert a markdown cell below and write a short list. <br>\n",
    "2. What type of plot could improve this?\n",
    "</div>"
   ]
  },
  {
   "cell_type": "markdown",
   "metadata": {
    "solution2": "hidden"
   },
   "source": [
    "There are a few issues with this plot.\n",
    "- There is no title\n",
    "- The 3D format makes it hard to read and line up values with numbers\n",
    "- Some data is obscured by the bars in the foreground (e.g. August for Thames ward)\n",
    "<br><br>A better plot would be a grouped (clustered) bar plot."
   ]
  },
  {
   "cell_type": "markdown",
   "metadata": {},
   "source": [
    "<img src=\"./images/3d.png\" width=\"60%\" align=\"left\" />"
   ]
  },
  {
   "cell_type": "markdown",
   "metadata": {},
   "source": [
    "The cell below loads the data used to generate the plot above:"
   ]
  },
  {
   "cell_type": "code",
   "execution_count": 17,
   "metadata": {
    "scrolled": true
   },
   "outputs": [
    {
     "name": "stderr",
     "output_type": "stream",
     "text": [
      "Parsed with column specification:\n",
      "cols(\n",
      "  Ward = col_character(),\n",
      "  HR = col_double(),\n",
      "  Month = col_character()\n",
      ")\n"
     ]
    },
    {
     "data": {
      "text/html": [
       "<table>\n",
       "<thead><tr><th scope=col>Ward</th><th scope=col>HR</th><th scope=col>Month</th></tr></thead>\n",
       "<tbody>\n",
       "\t<tr><td>Thames</td><td>112   </td><td>June  </td></tr>\n",
       "\t<tr><td>Avon  </td><td> 76   </td><td>June  </td></tr>\n",
       "\t<tr><td>Taw   </td><td> 67   </td><td>June  </td></tr>\n",
       "\t<tr><td>Mersey</td><td> 88   </td><td>June  </td></tr>\n",
       "\t<tr><td>Goit  </td><td>111   </td><td>June  </td></tr>\n",
       "\t<tr><td>Ouse  </td><td>111   </td><td>June  </td></tr>\n",
       "\t<tr><td>Thames</td><td> 56   </td><td>July  </td></tr>\n",
       "\t<tr><td>Avon  </td><td> 45   </td><td>July  </td></tr>\n",
       "\t<tr><td>Taw   </td><td> 69   </td><td>July  </td></tr>\n",
       "\t<tr><td>Mersey</td><td>100   </td><td>July  </td></tr>\n",
       "\t<tr><td>Goit  </td><td> 66   </td><td>July  </td></tr>\n",
       "\t<tr><td>Ouse  </td><td> 85   </td><td>July  </td></tr>\n",
       "\t<tr><td>Thames</td><td> 48   </td><td>August</td></tr>\n",
       "\t<tr><td>Avon  </td><td>118   </td><td>August</td></tr>\n",
       "\t<tr><td>Taw   </td><td> 58   </td><td>August</td></tr>\n",
       "\t<tr><td>Mersey</td><td> 92   </td><td>August</td></tr>\n",
       "\t<tr><td>Goit  </td><td> 54   </td><td>August</td></tr>\n",
       "\t<tr><td>Ouse  </td><td>102   </td><td>August</td></tr>\n",
       "</tbody>\n",
       "</table>\n"
      ],
      "text/latex": [
       "\\begin{tabular}{r|lll}\n",
       " Ward & HR & Month\\\\\n",
       "\\hline\n",
       "\t Thames & 112    & June  \\\\\n",
       "\t Avon   &  76    & June  \\\\\n",
       "\t Taw    &  67    & June  \\\\\n",
       "\t Mersey &  88    & June  \\\\\n",
       "\t Goit   & 111    & June  \\\\\n",
       "\t Ouse   & 111    & June  \\\\\n",
       "\t Thames &  56    & July  \\\\\n",
       "\t Avon   &  45    & July  \\\\\n",
       "\t Taw    &  69    & July  \\\\\n",
       "\t Mersey & 100    & July  \\\\\n",
       "\t Goit   &  66    & July  \\\\\n",
       "\t Ouse   &  85    & July  \\\\\n",
       "\t Thames &  48    & August\\\\\n",
       "\t Avon   & 118    & August\\\\\n",
       "\t Taw    &  58    & August\\\\\n",
       "\t Mersey &  92    & August\\\\\n",
       "\t Goit   &  54    & August\\\\\n",
       "\t Ouse   & 102    & August\\\\\n",
       "\\end{tabular}\n"
      ],
      "text/markdown": [
       "\n",
       "| Ward | HR | Month |\n",
       "|---|---|---|\n",
       "| Thames | 112    | June   |\n",
       "| Avon   |  76    | June   |\n",
       "| Taw    |  67    | June   |\n",
       "| Mersey |  88    | June   |\n",
       "| Goit   | 111    | June   |\n",
       "| Ouse   | 111    | June   |\n",
       "| Thames |  56    | July   |\n",
       "| Avon   |  45    | July   |\n",
       "| Taw    |  69    | July   |\n",
       "| Mersey | 100    | July   |\n",
       "| Goit   |  66    | July   |\n",
       "| Ouse   |  85    | July   |\n",
       "| Thames |  48    | August |\n",
       "| Avon   | 118    | August |\n",
       "| Taw    |  58    | August |\n",
       "| Mersey |  92    | August |\n",
       "| Goit   |  54    | August |\n",
       "| Ouse   | 102    | August |\n",
       "\n"
      ],
      "text/plain": [
       "   Ward   HR  Month \n",
       "1  Thames 112 June  \n",
       "2  Avon    76 June  \n",
       "3  Taw     67 June  \n",
       "4  Mersey  88 June  \n",
       "5  Goit   111 June  \n",
       "6  Ouse   111 June  \n",
       "7  Thames  56 July  \n",
       "8  Avon    45 July  \n",
       "9  Taw     69 July  \n",
       "10 Mersey 100 July  \n",
       "11 Goit    66 July  \n",
       "12 Ouse    85 July  \n",
       "13 Thames  48 August\n",
       "14 Avon   118 August\n",
       "15 Taw     58 August\n",
       "16 Mersey  92 August\n",
       "17 Goit    54 August\n",
       "18 Ouse   102 August"
      ]
     },
     "metadata": {},
     "output_type": "display_data"
    }
   ],
   "source": [
    "hr_data <- read_csv(\"./data/heart_rates_per_ward_long.csv\")\n",
    "hr_data"
   ]
  },
  {
   "cell_type": "markdown",
   "metadata": {},
   "source": [
    "Let's use the <code>ggplot2</code> library to create a group bar plot version of this data. This should make it easier to compare values across the chart. "
   ]
  },
  {
   "cell_type": "markdown",
   "metadata": {},
   "source": [
    "Next we will go ahead and create the plot and then we will break it down and explain whats happening. First we also need to transform the data from long to wide format to use it with the plotting library."
   ]
  },
  {
   "cell_type": "code",
   "execution_count": 18,
   "metadata": {},
   "outputs": [
    {
     "data": {
      "image/png": "[encoded data removed]",
      "text/plain": [
       "plot without title"
      ]
     },
     "metadata": {},
     "output_type": "display_data"
    }
   ],
   "source": [
    "ggplot(hr_data, aes(x=Ward, y=HR, fill=Month)) +\n",
    "    geom_bar(position=\"dodge\", stat=\"identity\")"
   ]
  },
  {
   "cell_type": "markdown",
   "metadata": {},
   "source": [
    "<div class=\"alert alert-success\">\n",
    "<strong>Note:</strong> Bar charts can be a good plot to choose when you have long labels. You can use a horizontal bar plot to help with this.\n",
    "</div>"
   ]
  },
  {
   "cell_type": "markdown",
   "metadata": {},
   "source": [
    "There may some degree of data wrangling that is required before one can create the desired plot. Let's see a quick example of this with some data from an accident and emergency dept."
   ]
  },
  {
   "cell_type": "code",
   "execution_count": 19,
   "metadata": {},
   "outputs": [
    {
     "name": "stderr",
     "output_type": "stream",
     "text": [
      "Parsed with column specification:\n",
      "cols(\n",
      "  .default = col_character(),\n",
      "  `Arrival Hour` = col_double(),\n",
      "  `Mins on AE` = col_double(),\n",
      "  `Over 4 hrs` = col_double(),\n",
      "  `4 to 12 hrs` = col_double(),\n",
      "  Triage_Main_Code = col_double(),\n",
      "  Arrival_To_Seen = col_double(),\n",
      "  Time_To_Initial_Asessment = col_double(),\n",
      "  Arrival_Mode_Code = col_double()\n",
      ")\n",
      "See spec(...) for full column specifications.\n"
     ]
    },
    {
     "data": {
      "text/html": [
       "<table>\n",
       "<thead><tr><th scope=col>Arrival Month</th><th scope=col>day_type</th><th scope=col>Arrival Day</th><th scope=col>Arrival Hour</th><th scope=col>Arrival_Date_Time</th><th scope=col>Departure_Date_Time</th><th scope=col>Mins on AE</th><th scope=col>arrival_date_dt</th><th scope=col>Over 4 hrs</th><th scope=col>4 to 12 hrs</th><th scope=col>...</th><th scope=col>Triage_Main_Code</th><th scope=col>Triage_Colour</th><th scope=col>Source_Of_Ref</th><th scope=col>Arrival_Mode</th><th scope=col>Attendance_Disposal</th><th scope=col>presenting_complaint</th><th scope=col>Attendance_Category</th><th scope=col>Arrival_To_Seen</th><th scope=col>Time_To_Initial_Asessment</th><th scope=col>Arrival_Mode_Code</th></tr></thead>\n",
       "<tbody>\n",
       "\t<tr><td>Jun-12                                 </td><td>Weekday                                </td><td>Fri                                    </td><td>0                                      </td><td>01-06-12 00:35                         </td><td>01-06-12 04:29                         </td><td>234                                    </td><td>01-Jun-12                              </td><td>0                                      </td><td>0                                      </td><td>...                                    </td><td>3                                      </td><td>YELLOW                                 </td><td>Emergency Services                     </td><td>Ambulance                              </td><td>Admissions                             </td><td>Intoxicated                            </td><td>First Accident And Emergency Attendance</td><td>164                                    </td><td> 1                                     </td><td>1                                      </td></tr>\n",
       "\t<tr><td>Jun-12                                 </td><td>Weekday                                </td><td>Fri                                    </td><td>0                                      </td><td>01-06-12 00:43                         </td><td>01-06-12 02:52                         </td><td>129                                    </td><td>01-Jun-12                              </td><td>0                                      </td><td>0                                      </td><td>...                                    </td><td>3                                      </td><td>YELLOW                                 </td><td>Self Referral                          </td><td>Ambulance                              </td><td>DNW                                    </td><td>Chest pain                             </td><td>First Accident And Emergency Attendance</td><td>129                                    </td><td> 0                                     </td><td>1                                      </td></tr>\n",
       "\t<tr><td>Jun-12                                                    </td><td>Weekday                                                   </td><td>Fri                                                       </td><td>0                                                         </td><td>01-06-12 00:48                                            </td><td>01-06-12 04:45                                            </td><td>237                                                       </td><td>01-Jun-12                                                 </td><td>0                                                         </td><td>0                                                         </td><td>...                                                       </td><td>4                                                         </td><td>GREEN                                                     </td><td><span style=white-space:pre-wrap>Self Referral     </span></td><td>Private Transport                                         </td><td>A&amp;E Review Clinic                                     </td><td><span style=white-space:pre-wrap>Wound          </span>   </td><td>First Accident And Emergency Attendance                   </td><td>175                                                       </td><td>77                                                        </td><td>2                                                         </td></tr>\n",
       "\t<tr><td>Jun-12                                 </td><td>Weekday                                </td><td>Fri                                    </td><td>0                                      </td><td>01-06-12 00:57                         </td><td>01-06-12 04:55                         </td><td>238                                    </td><td>01-Jun-12                              </td><td>0                                      </td><td>0                                      </td><td>...                                    </td><td>3                                      </td><td>YELLOW                                 </td><td>Self Referral                          </td><td>Ambulance                              </td><td>Admissions                             </td><td>Urine Problem                          </td><td>First Accident And Emergency Attendance</td><td>117                                    </td><td> 0                                     </td><td>1                                      </td></tr>\n",
       "\t<tr><td>Jun-12                                 </td><td>Weekday                                </td><td>Fri                                    </td><td>1                                      </td><td>01-06-12 01:02                         </td><td>01-06-12 05:01                         </td><td>239                                    </td><td>01-Jun-12                              </td><td>0                                      </td><td>0                                      </td><td>...                                    </td><td>4                                      </td><td>GREEN                                  </td><td>Self Referral                          </td><td>Ambulance                              </td><td>Admissions                             </td><td>Shoulder injury                        </td><td>First Accident And Emergency Attendance</td><td>161                                    </td><td> 0                                     </td><td>1                                      </td></tr>\n",
       "</tbody>\n",
       "</table>\n"
      ],
      "text/latex": [
       "\\begin{tabular}{r|lllllllllllllllllllll}\n",
       " Arrival Month & day\\_type & Arrival Day & Arrival Hour & Arrival\\_Date\\_Time & Departure\\_Date\\_Time & Mins on AE & arrival\\_date\\_dt & Over 4 hrs & 4 to 12 hrs & ... & Triage\\_Main\\_Code & Triage\\_Colour & Source\\_Of\\_Ref & Arrival\\_Mode & Attendance\\_Disposal & presenting\\_complaint & Attendance\\_Category & Arrival\\_To\\_Seen & Time\\_To\\_Initial\\_Asessment & Arrival\\_Mode\\_Code\\\\\n",
       "\\hline\n",
       "\t Jun-12                                  & Weekday                                 & Fri                                     & 0                                       & 01-06-12 00:35                          & 01-06-12 04:29                          & 234                                     & 01-Jun-12                               & 0                                       & 0                                       & ...                                     & 3                                       & YELLOW                                  & Emergency Services                      & Ambulance                               & Admissions                              & Intoxicated                             & First Accident And Emergency Attendance & 164                                     &  1                                      & 1                                      \\\\\n",
       "\t Jun-12                                  & Weekday                                 & Fri                                     & 0                                       & 01-06-12 00:43                          & 01-06-12 02:52                          & 129                                     & 01-Jun-12                               & 0                                       & 0                                       & ...                                     & 3                                       & YELLOW                                  & Self Referral                           & Ambulance                               & DNW                                     & Chest pain                              & First Accident And Emergency Attendance & 129                                     &  0                                      & 1                                      \\\\\n",
       "\t Jun-12                                  & Weekday                                 & Fri                                     & 0                                       & 01-06-12 00:48                          & 01-06-12 04:45                          & 237                                     & 01-Jun-12                               & 0                                       & 0                                       & ...                                     & 4                                       & GREEN                                   & Self Referral                           & Private Transport                       & A\\&E Review Clinic                     & Wound                                   & First Accident And Emergency Attendance & 175                                     & 77                                      & 2                                      \\\\\n",
       "\t Jun-12                                  & Weekday                                 & Fri                                     & 0                                       & 01-06-12 00:57                          & 01-06-12 04:55                          & 238                                     & 01-Jun-12                               & 0                                       & 0                                       & ...                                     & 3                                       & YELLOW                                  & Self Referral                           & Ambulance                               & Admissions                              & Urine Problem                           & First Accident And Emergency Attendance & 117                                     &  0                                      & 1                                      \\\\\n",
       "\t Jun-12                                  & Weekday                                 & Fri                                     & 1                                       & 01-06-12 01:02                          & 01-06-12 05:01                          & 239                                     & 01-Jun-12                               & 0                                       & 0                                       & ...                                     & 4                                       & GREEN                                   & Self Referral                           & Ambulance                               & Admissions                              & Shoulder injury                         & First Accident And Emergency Attendance & 161                                     &  0                                      & 1                                      \\\\\n",
       "\\end{tabular}\n"
      ],
      "text/markdown": [
       "\n",
       "| Arrival Month | day_type | Arrival Day | Arrival Hour | Arrival_Date_Time | Departure_Date_Time | Mins on AE | arrival_date_dt | Over 4 hrs | 4 to 12 hrs | ... | Triage_Main_Code | Triage_Colour | Source_Of_Ref | Arrival_Mode | Attendance_Disposal | presenting_complaint | Attendance_Category | Arrival_To_Seen | Time_To_Initial_Asessment | Arrival_Mode_Code |\n",
       "|---|---|---|---|---|---|---|---|---|---|---|---|---|---|---|---|---|---|---|---|---|\n",
       "| Jun-12                                  | Weekday                                 | Fri                                     | 0                                       | 01-06-12 00:35                          | 01-06-12 04:29                          | 234                                     | 01-Jun-12                               | 0                                       | 0                                       | ...                                     | 3                                       | YELLOW                                  | Emergency Services                      | Ambulance                               | Admissions                              | Intoxicated                             | First Accident And Emergency Attendance | 164                                     |  1                                      | 1                                       |\n",
       "| Jun-12                                  | Weekday                                 | Fri                                     | 0                                       | 01-06-12 00:43                          | 01-06-12 02:52                          | 129                                     | 01-Jun-12                               | 0                                       | 0                                       | ...                                     | 3                                       | YELLOW                                  | Self Referral                           | Ambulance                               | DNW                                     | Chest pain                              | First Accident And Emergency Attendance | 129                                     |  0                                      | 1                                       |\n",
       "| Jun-12                                  | Weekday                                 | Fri                                     | 0                                       | 01-06-12 00:48                          | 01-06-12 04:45                          | 237                                     | 01-Jun-12                               | 0                                       | 0                                       | ...                                     | 4                                       | GREEN                                   | Self Referral                           | Private Transport                       | A&E Review Clinic                       | Wound                                   | First Accident And Emergency Attendance | 175                                     | 77                                      | 2                                       |\n",
       "| Jun-12                                  | Weekday                                 | Fri                                     | 0                                       | 01-06-12 00:57                          | 01-06-12 04:55                          | 238                                     | 01-Jun-12                               | 0                                       | 0                                       | ...                                     | 3                                       | YELLOW                                  | Self Referral                           | Ambulance                               | Admissions                              | Urine Problem                           | First Accident And Emergency Attendance | 117                                     |  0                                      | 1                                       |\n",
       "| Jun-12                                  | Weekday                                 | Fri                                     | 1                                       | 01-06-12 01:02                          | 01-06-12 05:01                          | 239                                     | 01-Jun-12                               | 0                                       | 0                                       | ...                                     | 4                                       | GREEN                                   | Self Referral                           | Ambulance                               | Admissions                              | Shoulder injury                         | First Accident And Emergency Attendance | 161                                     |  0                                      | 1                                       |\n",
       "\n"
      ],
      "text/plain": [
       "  Arrival Month day_type Arrival Day Arrival Hour Arrival_Date_Time\n",
       "1 Jun-12        Weekday  Fri         0            01-06-12 00:35   \n",
       "2 Jun-12        Weekday  Fri         0            01-06-12 00:43   \n",
       "3 Jun-12        Weekday  Fri         0            01-06-12 00:48   \n",
       "4 Jun-12        Weekday  Fri         0            01-06-12 00:57   \n",
       "5 Jun-12        Weekday  Fri         1            01-06-12 01:02   \n",
       "  Departure_Date_Time Mins on AE arrival_date_dt Over 4 hrs 4 to 12 hrs ...\n",
       "1 01-06-12 04:29      234        01-Jun-12       0          0           ...\n",
       "2 01-06-12 02:52      129        01-Jun-12       0          0           ...\n",
       "3 01-06-12 04:45      237        01-Jun-12       0          0           ...\n",
       "4 01-06-12 04:55      238        01-Jun-12       0          0           ...\n",
       "5 01-06-12 05:01      239        01-Jun-12       0          0           ...\n",
       "  Triage_Main_Code Triage_Colour Source_Of_Ref      Arrival_Mode     \n",
       "1 3                YELLOW        Emergency Services Ambulance        \n",
       "2 3                YELLOW        Self Referral      Ambulance        \n",
       "3 4                GREEN         Self Referral      Private Transport\n",
       "4 3                YELLOW        Self Referral      Ambulance        \n",
       "5 4                GREEN         Self Referral      Ambulance        \n",
       "  Attendance_Disposal presenting_complaint\n",
       "1 Admissions          Intoxicated         \n",
       "2 DNW                 Chest pain          \n",
       "3 A&E Review Clinic   Wound               \n",
       "4 Admissions          Urine Problem       \n",
       "5 Admissions          Shoulder injury     \n",
       "  Attendance_Category                     Arrival_To_Seen\n",
       "1 First Accident And Emergency Attendance 164            \n",
       "2 First Accident And Emergency Attendance 129            \n",
       "3 First Accident And Emergency Attendance 175            \n",
       "4 First Accident And Emergency Attendance 117            \n",
       "5 First Accident And Emergency Attendance 161            \n",
       "  Time_To_Initial_Asessment Arrival_Mode_Code\n",
       "1  1                        1                \n",
       "2  0                        1                \n",
       "3 77                        2                \n",
       "4  0                        1                \n",
       "5  0                        1                "
      ]
     },
     "metadata": {},
     "output_type": "display_data"
    }
   ],
   "source": [
    "ae_data <- read_csv(\"./data/A and E Data.csv\")\n",
    "head(ae_data, 5)"
   ]
  },
  {
   "cell_type": "markdown",
   "metadata": {},
   "source": [
    "We may need to format certain columns so that they are represented using the desired data type. In this example the <code>Arrival_Date_Time</code> column is text (chr) and not date/time. This means we couldn't subset the data based on dates or times etc. "
   ]
  },
  {
   "cell_type": "code",
   "execution_count": 20,
   "metadata": {},
   "outputs": [
    {
     "name": "stdout",
     "output_type": "stream",
     "text": [
      "Classes 'spec_tbl_df', 'tbl_df', 'tbl' and 'data.frame':\t230 obs. of  21 variables:\n",
      " $ Arrival Month            : chr  \"Jun-12\" \"Jun-12\" \"Jun-12\" \"Jun-12\" ...\n",
      " $ day_type                 : chr  \"Weekday\" \"Weekday\" \"Weekday\" \"Weekday\" ...\n",
      " $ Arrival Day              : chr  \"Fri\" \"Fri\" \"Fri\" \"Fri\" ...\n",
      " $ Arrival Hour             : num  0 0 0 0 1 1 1 1 1 1 ...\n",
      " $ Arrival_Date_Time        : chr  \"01-06-12 00:35\" \"01-06-12 00:43\" \"01-06-12 00:48\" \"01-06-12 00:57\" ...\n",
      " $ Departure_Date_Time      : chr  \"01-06-12 04:29\" \"01-06-12 02:52\" \"01-06-12 04:45\" \"01-06-12 04:55\" ...\n",
      " $ Mins on AE               : num  234 129 237 238 239 240 35 238 114 171 ...\n",
      " $ arrival_date_dt          : chr  \"01-Jun-12\" \"01-Jun-12\" \"01-Jun-12\" \"01-Jun-12\" ...\n",
      " $ Over 4 hrs               : num  0 0 0 0 0 0 0 0 0 0 ...\n",
      " $ 4 to 12 hrs              : num  0 0 0 0 0 0 0 0 0 0 ...\n",
      " $ Triage_Category          : chr  \"Patients with serious problems, but apparently sta\" \"Patients with serious problems, but apparently sta\" \"Standard A&E cases without immediate danger or dis\" \"Patients with serious problems, but apparently sta\" ...\n",
      " $ Triage_Main_Code         : num  3 3 4 3 4 2 3 2 4 3 ...\n",
      " $ Triage_Colour            : chr  \"YELLOW\" \"YELLOW\" \"GREEN\" \"YELLOW\" ...\n",
      " $ Source_Of_Ref            : chr  \"Emergency Services\" \"Self Referral\" \"Self Referral\" \"Self Referral\" ...\n",
      " $ Arrival_Mode             : chr  \"Ambulance\" \"Ambulance\" \"Private Transport\" \"Ambulance\" ...\n",
      " $ Attendance_Disposal      : chr  \"Admissions\" \"DNW\" \"A&E Review Clinic\" \"Admissions\" ...\n",
      " $ presenting_complaint     : chr  \"Intoxicated\" \"Chest pain\" \"Wound\" \"Urine Problem\" ...\n",
      " $ Attendance_Category      : chr  \"First Accident And Emergency Attendance\" \"First Accident And Emergency Attendance\" \"First Accident And Emergency Attendance\" \"First Accident And Emergency Attendance\" ...\n",
      " $ Arrival_To_Seen          : num  164 129 175 117 161 208 35 0 114 146 ...\n",
      " $ Time_To_Initial_Asessment: num  1 0 77 0 0 2 12 0 7 0 ...\n",
      " $ Arrival_Mode_Code        : num  1 1 2 1 1 2 2 1 2 1 ...\n",
      " - attr(*, \"spec\")=\n",
      "  .. cols(\n",
      "  ..   `Arrival Month` = col_character(),\n",
      "  ..   day_type = col_character(),\n",
      "  ..   `Arrival Day` = col_character(),\n",
      "  ..   `Arrival Hour` = col_double(),\n",
      "  ..   Arrival_Date_Time = col_character(),\n",
      "  ..   Departure_Date_Time = col_character(),\n",
      "  ..   `Mins on AE` = col_double(),\n",
      "  ..   arrival_date_dt = col_character(),\n",
      "  ..   `Over 4 hrs` = col_double(),\n",
      "  ..   `4 to 12 hrs` = col_double(),\n",
      "  ..   Triage_Category = col_character(),\n",
      "  ..   Triage_Main_Code = col_double(),\n",
      "  ..   Triage_Colour = col_character(),\n",
      "  ..   Source_Of_Ref = col_character(),\n",
      "  ..   Arrival_Mode = col_character(),\n",
      "  ..   Attendance_Disposal = col_character(),\n",
      "  ..   presenting_complaint = col_character(),\n",
      "  ..   Attendance_Category = col_character(),\n",
      "  ..   Arrival_To_Seen = col_double(),\n",
      "  ..   Time_To_Initial_Asessment = col_double(),\n",
      "  ..   Arrival_Mode_Code = col_double()\n",
      "  .. )\n"
     ]
    }
   ],
   "source": [
    "str(ae_data)"
   ]
  },
  {
   "cell_type": "markdown",
   "metadata": {},
   "source": [
    "We may need to alter this. For example we reformat the column to a <code>datetime</code> as seen here:"
   ]
  },
  {
   "cell_type": "code",
   "execution_count": 21,
   "metadata": {},
   "outputs": [
    {
     "name": "stderr",
     "output_type": "stream",
     "text": [
      "\n",
      "Attaching package: 'lubridate'\n",
      "\n",
      "The following object is masked from 'package:base':\n",
      "\n",
      "    date\n",
      "\n"
     ]
    }
   ],
   "source": [
    "library(lubridate)\n",
    "ae_data$Arrival_Date_Time <- dmy_hm(ae_data$Arrival_Date_Time, tz=Sys.timezone())"
   ]
  },
  {
   "cell_type": "code",
   "execution_count": 22,
   "metadata": {},
   "outputs": [
    {
     "name": "stdout",
     "output_type": "stream",
     "text": [
      "Classes 'spec_tbl_df', 'tbl_df', 'tbl' and 'data.frame':\t230 obs. of  21 variables:\n",
      " $ Arrival Month            : chr  \"Jun-12\" \"Jun-12\" \"Jun-12\" \"Jun-12\" ...\n",
      " $ day_type                 : chr  \"Weekday\" \"Weekday\" \"Weekday\" \"Weekday\" ...\n",
      " $ Arrival Day              : chr  \"Fri\" \"Fri\" \"Fri\" \"Fri\" ...\n",
      " $ Arrival Hour             : num  0 0 0 0 1 1 1 1 1 1 ...\n",
      " $ Arrival_Date_Time        : POSIXct, format: \"2012-06-01 00:35:00\" \"2012-06-01 00:43:00\" ...\n",
      " $ Departure_Date_Time      : chr  \"01-06-12 04:29\" \"01-06-12 02:52\" \"01-06-12 04:45\" \"01-06-12 04:55\" ...\n",
      " $ Mins on AE               : num  234 129 237 238 239 240 35 238 114 171 ...\n",
      " $ arrival_date_dt          : chr  \"01-Jun-12\" \"01-Jun-12\" \"01-Jun-12\" \"01-Jun-12\" ...\n",
      " $ Over 4 hrs               : num  0 0 0 0 0 0 0 0 0 0 ...\n",
      " $ 4 to 12 hrs              : num  0 0 0 0 0 0 0 0 0 0 ...\n",
      " $ Triage_Category          : chr  \"Patients with serious problems, but apparently sta\" \"Patients with serious problems, but apparently sta\" \"Standard A&E cases without immediate danger or dis\" \"Patients with serious problems, but apparently sta\" ...\n",
      " $ Triage_Main_Code         : num  3 3 4 3 4 2 3 2 4 3 ...\n",
      " $ Triage_Colour            : chr  \"YELLOW\" \"YELLOW\" \"GREEN\" \"YELLOW\" ...\n",
      " $ Source_Of_Ref            : chr  \"Emergency Services\" \"Self Referral\" \"Self Referral\" \"Self Referral\" ...\n",
      " $ Arrival_Mode             : chr  \"Ambulance\" \"Ambulance\" \"Private Transport\" \"Ambulance\" ...\n",
      " $ Attendance_Disposal      : chr  \"Admissions\" \"DNW\" \"A&E Review Clinic\" \"Admissions\" ...\n",
      " $ presenting_complaint     : chr  \"Intoxicated\" \"Chest pain\" \"Wound\" \"Urine Problem\" ...\n",
      " $ Attendance_Category      : chr  \"First Accident And Emergency Attendance\" \"First Accident And Emergency Attendance\" \"First Accident And Emergency Attendance\" \"First Accident And Emergency Attendance\" ...\n",
      " $ Arrival_To_Seen          : num  164 129 175 117 161 208 35 0 114 146 ...\n",
      " $ Time_To_Initial_Asessment: num  1 0 77 0 0 2 12 0 7 0 ...\n",
      " $ Arrival_Mode_Code        : num  1 1 2 1 1 2 2 1 2 1 ...\n",
      " - attr(*, \"spec\")=\n",
      "  .. cols(\n",
      "  ..   `Arrival Month` = col_character(),\n",
      "  ..   day_type = col_character(),\n",
      "  ..   `Arrival Day` = col_character(),\n",
      "  ..   `Arrival Hour` = col_double(),\n",
      "  ..   Arrival_Date_Time = col_character(),\n",
      "  ..   Departure_Date_Time = col_character(),\n",
      "  ..   `Mins on AE` = col_double(),\n",
      "  ..   arrival_date_dt = col_character(),\n",
      "  ..   `Over 4 hrs` = col_double(),\n",
      "  ..   `4 to 12 hrs` = col_double(),\n",
      "  ..   Triage_Category = col_character(),\n",
      "  ..   Triage_Main_Code = col_double(),\n",
      "  ..   Triage_Colour = col_character(),\n",
      "  ..   Source_Of_Ref = col_character(),\n",
      "  ..   Arrival_Mode = col_character(),\n",
      "  ..   Attendance_Disposal = col_character(),\n",
      "  ..   presenting_complaint = col_character(),\n",
      "  ..   Attendance_Category = col_character(),\n",
      "  ..   Arrival_To_Seen = col_double(),\n",
      "  ..   Time_To_Initial_Asessment = col_double(),\n",
      "  ..   Arrival_Mode_Code = col_double()\n",
      "  .. )\n"
     ]
    }
   ],
   "source": [
    "str(ae_data)"
   ]
  },
  {
   "cell_type": "markdown",
   "metadata": {},
   "source": [
    "Let's say we want to create a simple bar plot to show the number of patients who arrived in the morning and were classed under the 3 triage colours (green, orange and red) based on their clinical urgency. First we can subset the data to get all the values where the arrival hour is less than or equal to 12."
   ]
  },
  {
   "cell_type": "code",
   "execution_count": 23,
   "metadata": {},
   "outputs": [],
   "source": [
    "colnames(ae_data)[4] <- \"Arrival.Hour\"\n",
    "ae_subset <- ae_data %>% filter(Arrival.Hour <= 12)"
   ]
  },
  {
   "cell_type": "markdown",
   "metadata": {},
   "source": [
    "Next we will extract the <code>Triage_Colour</code> and <code>presenting_complaint</code> columns only."
   ]
  },
  {
   "cell_type": "code",
   "execution_count": 24,
   "metadata": {},
   "outputs": [
    {
     "data": {
      "text/html": [
       "<table>\n",
       "<thead><tr><th scope=col>Triage_Colour</th><th scope=col>presenting_complaint</th></tr></thead>\n",
       "<tbody>\n",
       "\t<tr><td>YELLOW              </td><td>Intoxicated         </td></tr>\n",
       "\t<tr><td>YELLOW              </td><td>Chest pain          </td></tr>\n",
       "\t<tr><td>GREEN               </td><td>Wound               </td></tr>\n",
       "\t<tr><td>YELLOW              </td><td>Urine Problem       </td></tr>\n",
       "\t<tr><td>GREEN               </td><td>Shoulder injury     </td></tr>\n",
       "\t<tr><td>ORANGE              </td><td>Chest pain          </td></tr>\n",
       "\t<tr><td>YELLOW              </td><td>Abdo pain           </td></tr>\n",
       "\t<tr><td>ORANGE              </td><td>Stab Wound          </td></tr>\n",
       "\t<tr><td>GREEN               </td><td>Insect bite         </td></tr>\n",
       "\t<tr><td>YELLOW              </td><td>Groin pain          </td></tr>\n",
       "\t<tr><td>YELLOW              </td><td>Intoxicated         </td></tr>\n",
       "\t<tr><td>ORANGE              </td><td>Difficulty breathing</td></tr>\n",
       "\t<tr><td>YELLOW              </td><td>Psychiatric problem </td></tr>\n",
       "\t<tr><td>GREEN               </td><td>Limb problem        </td></tr>\n",
       "\t<tr><td>YELLOW              </td><td>Head injury         </td></tr>\n",
       "\t<tr><td>YELLOW              </td><td>Suspected DVT       </td></tr>\n",
       "\t<tr><td>YELLOW              </td><td>Chest pain          </td></tr>\n",
       "\t<tr><td>ORANGE              </td><td>Wound               </td></tr>\n",
       "\t<tr><td>YELLOW              </td><td>Psychiatric problem </td></tr>\n",
       "\t<tr><td>GREEN               </td><td>Wrist injury        </td></tr>\n",
       "\t<tr><td>YELLOW              </td><td>Back pain           </td></tr>\n",
       "\t<tr><td>YELLOW              </td><td>Throat problem      </td></tr>\n",
       "\t<tr><td>YELLOW              </td><td>Hip inj             </td></tr>\n",
       "\t<tr><td>YELLOW              </td><td>Generally unwell    </td></tr>\n",
       "\t<tr><td>GREEN               </td><td>Plastics Accepted   </td></tr>\n",
       "\t<tr><td>YELLOW              </td><td>Plastics Accepted   </td></tr>\n",
       "\t<tr><td>GREEN               </td><td>Arm injury          </td></tr>\n",
       "\t<tr><td>GREEN               </td><td>Eye Problem         </td></tr>\n",
       "\t<tr><td>ORANGE              </td><td>CVA/TIA ?           </td></tr>\n",
       "\t<tr><td>ORANGE              </td><td>High Temperature    </td></tr>\n",
       "\t<tr><td>...</td><td>...</td></tr>\n",
       "\t<tr><td>YELLOW           </td><td>Catheter prob    </td></tr>\n",
       "\t<tr><td>YELLOW           </td><td>CVA/TIA ?        </td></tr>\n",
       "\t<tr><td>GREEN            </td><td>Rash             </td></tr>\n",
       "\t<tr><td>GREEN            </td><td>Insect bite      </td></tr>\n",
       "\t<tr><td>YELLOW           </td><td>Dizzy Spells     </td></tr>\n",
       "\t<tr><td>YELLOW           </td><td>Neck pain        </td></tr>\n",
       "\t<tr><td>YELLOW           </td><td>Generally unwell </td></tr>\n",
       "\t<tr><td>GREEN            </td><td>Foot injury      </td></tr>\n",
       "\t<tr><td>GREEN            </td><td>Nose injury      </td></tr>\n",
       "\t<tr><td>ORANGE           </td><td>Allergic Reaction</td></tr>\n",
       "\t<tr><td>GREEN            </td><td>Abdo pain        </td></tr>\n",
       "\t<tr><td>YELLOW           </td><td>Diabetic         </td></tr>\n",
       "\t<tr><td>YELLOW           </td><td>Depression       </td></tr>\n",
       "\t<tr><td>GREEN            </td><td>Allergic Reaction</td></tr>\n",
       "\t<tr><td>YELLOW           </td><td>Eye injury       </td></tr>\n",
       "\t<tr><td>YELLOW           </td><td>Vomiting         </td></tr>\n",
       "\t<tr><td>YELLOW           </td><td>Arm injury       </td></tr>\n",
       "\t<tr><td>YELLOW           </td><td>CVA/TIA ?        </td></tr>\n",
       "\t<tr><td>GREEN            </td><td>Burns            </td></tr>\n",
       "\t<tr><td>YELLOW           </td><td>Foot injury      </td></tr>\n",
       "\t<tr><td>YELLOW           </td><td>Asthmatic        </td></tr>\n",
       "\t<tr><td>YELLOW           </td><td>NA               </td></tr>\n",
       "\t<tr><td>GREEN            </td><td>Suspected DVT    </td></tr>\n",
       "\t<tr><td>YELLOW           </td><td>Collapsed        </td></tr>\n",
       "\t<tr><td>YELLOW           </td><td>Generally unwell </td></tr>\n",
       "\t<tr><td>YELLOW           </td><td>Suspected DVT    </td></tr>\n",
       "\t<tr><td>YELLOW           </td><td>Overdose         </td></tr>\n",
       "\t<tr><td>GREEN            </td><td>Elbow injury     </td></tr>\n",
       "\t<tr><td>YELLOW           </td><td>Dizzy Spells     </td></tr>\n",
       "\t<tr><td>GREEN            </td><td>CVA/TIA ?        </td></tr>\n",
       "</tbody>\n",
       "</table>\n"
      ],
      "text/latex": [
       "\\begin{tabular}{r|ll}\n",
       " Triage\\_Colour & presenting\\_complaint\\\\\n",
       "\\hline\n",
       "\t YELLOW               & Intoxicated         \\\\\n",
       "\t YELLOW               & Chest pain          \\\\\n",
       "\t GREEN                & Wound               \\\\\n",
       "\t YELLOW               & Urine Problem       \\\\\n",
       "\t GREEN                & Shoulder injury     \\\\\n",
       "\t ORANGE               & Chest pain          \\\\\n",
       "\t YELLOW               & Abdo pain           \\\\\n",
       "\t ORANGE               & Stab Wound          \\\\\n",
       "\t GREEN                & Insect bite         \\\\\n",
       "\t YELLOW               & Groin pain          \\\\\n",
       "\t YELLOW               & Intoxicated         \\\\\n",
       "\t ORANGE               & Difficulty breathing\\\\\n",
       "\t YELLOW               & Psychiatric problem \\\\\n",
       "\t GREEN                & Limb problem        \\\\\n",
       "\t YELLOW               & Head injury         \\\\\n",
       "\t YELLOW               & Suspected DVT       \\\\\n",
       "\t YELLOW               & Chest pain          \\\\\n",
       "\t ORANGE               & Wound               \\\\\n",
       "\t YELLOW               & Psychiatric problem \\\\\n",
       "\t GREEN                & Wrist injury        \\\\\n",
       "\t YELLOW               & Back pain           \\\\\n",
       "\t YELLOW               & Throat problem      \\\\\n",
       "\t YELLOW               & Hip inj             \\\\\n",
       "\t YELLOW               & Generally unwell    \\\\\n",
       "\t GREEN                & Plastics Accepted   \\\\\n",
       "\t YELLOW               & Plastics Accepted   \\\\\n",
       "\t GREEN                & Arm injury          \\\\\n",
       "\t GREEN                & Eye Problem         \\\\\n",
       "\t ORANGE               & CVA/TIA ?           \\\\\n",
       "\t ORANGE               & High Temperature    \\\\\n",
       "\t ... & ...\\\\\n",
       "\t YELLOW            & Catheter prob    \\\\\n",
       "\t YELLOW            & CVA/TIA ?        \\\\\n",
       "\t GREEN             & Rash             \\\\\n",
       "\t GREEN             & Insect bite      \\\\\n",
       "\t YELLOW            & Dizzy Spells     \\\\\n",
       "\t YELLOW            & Neck pain        \\\\\n",
       "\t YELLOW            & Generally unwell \\\\\n",
       "\t GREEN             & Foot injury      \\\\\n",
       "\t GREEN             & Nose injury      \\\\\n",
       "\t ORANGE            & Allergic Reaction\\\\\n",
       "\t GREEN             & Abdo pain        \\\\\n",
       "\t YELLOW            & Diabetic         \\\\\n",
       "\t YELLOW            & Depression       \\\\\n",
       "\t GREEN             & Allergic Reaction\\\\\n",
       "\t YELLOW            & Eye injury       \\\\\n",
       "\t YELLOW            & Vomiting         \\\\\n",
       "\t YELLOW            & Arm injury       \\\\\n",
       "\t YELLOW            & CVA/TIA ?        \\\\\n",
       "\t GREEN             & Burns            \\\\\n",
       "\t YELLOW            & Foot injury      \\\\\n",
       "\t YELLOW            & Asthmatic        \\\\\n",
       "\t YELLOW            & NA               \\\\\n",
       "\t GREEN             & Suspected DVT    \\\\\n",
       "\t YELLOW            & Collapsed        \\\\\n",
       "\t YELLOW            & Generally unwell \\\\\n",
       "\t YELLOW            & Suspected DVT    \\\\\n",
       "\t YELLOW            & Overdose         \\\\\n",
       "\t GREEN             & Elbow injury     \\\\\n",
       "\t YELLOW            & Dizzy Spells     \\\\\n",
       "\t GREEN             & CVA/TIA ?        \\\\\n",
       "\\end{tabular}\n"
      ],
      "text/markdown": [
       "\n",
       "| Triage_Colour | presenting_complaint |\n",
       "|---|---|\n",
       "| YELLOW               | Intoxicated          |\n",
       "| YELLOW               | Chest pain           |\n",
       "| GREEN                | Wound                |\n",
       "| YELLOW               | Urine Problem        |\n",
       "| GREEN                | Shoulder injury      |\n",
       "| ORANGE               | Chest pain           |\n",
       "| YELLOW               | Abdo pain            |\n",
       "| ORANGE               | Stab Wound           |\n",
       "| GREEN                | Insect bite          |\n",
       "| YELLOW               | Groin pain           |\n",
       "| YELLOW               | Intoxicated          |\n",
       "| ORANGE               | Difficulty breathing |\n",
       "| YELLOW               | Psychiatric problem  |\n",
       "| GREEN                | Limb problem         |\n",
       "| YELLOW               | Head injury          |\n",
       "| YELLOW               | Suspected DVT        |\n",
       "| YELLOW               | Chest pain           |\n",
       "| ORANGE               | Wound                |\n",
       "| YELLOW               | Psychiatric problem  |\n",
       "| GREEN                | Wrist injury         |\n",
       "| YELLOW               | Back pain            |\n",
       "| YELLOW               | Throat problem       |\n",
       "| YELLOW               | Hip inj              |\n",
       "| YELLOW               | Generally unwell     |\n",
       "| GREEN                | Plastics Accepted    |\n",
       "| YELLOW               | Plastics Accepted    |\n",
       "| GREEN                | Arm injury           |\n",
       "| GREEN                | Eye Problem          |\n",
       "| ORANGE               | CVA/TIA ?            |\n",
       "| ORANGE               | High Temperature     |\n",
       "| ... | ... |\n",
       "| YELLOW            | Catheter prob     |\n",
       "| YELLOW            | CVA/TIA ?         |\n",
       "| GREEN             | Rash              |\n",
       "| GREEN             | Insect bite       |\n",
       "| YELLOW            | Dizzy Spells      |\n",
       "| YELLOW            | Neck pain         |\n",
       "| YELLOW            | Generally unwell  |\n",
       "| GREEN             | Foot injury       |\n",
       "| GREEN             | Nose injury       |\n",
       "| ORANGE            | Allergic Reaction |\n",
       "| GREEN             | Abdo pain         |\n",
       "| YELLOW            | Diabetic          |\n",
       "| YELLOW            | Depression        |\n",
       "| GREEN             | Allergic Reaction |\n",
       "| YELLOW            | Eye injury        |\n",
       "| YELLOW            | Vomiting          |\n",
       "| YELLOW            | Arm injury        |\n",
       "| YELLOW            | CVA/TIA ?         |\n",
       "| GREEN             | Burns             |\n",
       "| YELLOW            | Foot injury       |\n",
       "| YELLOW            | Asthmatic         |\n",
       "| YELLOW            | NA                |\n",
       "| GREEN             | Suspected DVT     |\n",
       "| YELLOW            | Collapsed         |\n",
       "| YELLOW            | Generally unwell  |\n",
       "| YELLOW            | Suspected DVT     |\n",
       "| YELLOW            | Overdose          |\n",
       "| GREEN             | Elbow injury      |\n",
       "| YELLOW            | Dizzy Spells      |\n",
       "| GREEN             | CVA/TIA ?         |\n",
       "\n"
      ],
      "text/plain": [
       "    Triage_Colour presenting_complaint\n",
       "1   YELLOW        Intoxicated         \n",
       "2   YELLOW        Chest pain          \n",
       "3   GREEN         Wound               \n",
       "4   YELLOW        Urine Problem       \n",
       "5   GREEN         Shoulder injury     \n",
       "6   ORANGE        Chest pain          \n",
       "7   YELLOW        Abdo pain           \n",
       "8   ORANGE        Stab Wound          \n",
       "9   GREEN         Insect bite         \n",
       "10  YELLOW        Groin pain          \n",
       "11  YELLOW        Intoxicated         \n",
       "12  ORANGE        Difficulty breathing\n",
       "13  YELLOW        Psychiatric problem \n",
       "14  GREEN         Limb problem        \n",
       "15  YELLOW        Head injury         \n",
       "16  YELLOW        Suspected DVT       \n",
       "17  YELLOW        Chest pain          \n",
       "18  ORANGE        Wound               \n",
       "19  YELLOW        Psychiatric problem \n",
       "20  GREEN         Wrist injury        \n",
       "21  YELLOW        Back pain           \n",
       "22  YELLOW        Throat problem      \n",
       "23  YELLOW        Hip inj             \n",
       "24  YELLOW        Generally unwell    \n",
       "25  GREEN         Plastics Accepted   \n",
       "26  YELLOW        Plastics Accepted   \n",
       "27  GREEN         Arm injury          \n",
       "28  GREEN         Eye Problem         \n",
       "29  ORANGE        CVA/TIA ?           \n",
       "30  ORANGE        High Temperature    \n",
       "... ...           ...                 \n",
       "59  YELLOW        Catheter prob       \n",
       "60  YELLOW        CVA/TIA ?           \n",
       "61  GREEN         Rash                \n",
       "62  GREEN         Insect bite         \n",
       "63  YELLOW        Dizzy Spells        \n",
       "64  YELLOW        Neck pain           \n",
       "65  YELLOW        Generally unwell    \n",
       "66  GREEN         Foot injury         \n",
       "67  GREEN         Nose injury         \n",
       "68  ORANGE        Allergic Reaction   \n",
       "69  GREEN         Abdo pain           \n",
       "70  YELLOW        Diabetic            \n",
       "71  YELLOW        Depression          \n",
       "72  GREEN         Allergic Reaction   \n",
       "73  YELLOW        Eye injury          \n",
       "74  YELLOW        Vomiting            \n",
       "75  YELLOW        Arm injury          \n",
       "76  YELLOW        CVA/TIA ?           \n",
       "77  GREEN         Burns               \n",
       "78  YELLOW        Foot injury         \n",
       "79  YELLOW        Asthmatic           \n",
       "80  YELLOW        NA                  \n",
       "81  GREEN         Suspected DVT       \n",
       "82  YELLOW        Collapsed           \n",
       "83  YELLOW        Generally unwell    \n",
       "84  YELLOW        Suspected DVT       \n",
       "85  YELLOW        Overdose            \n",
       "86  GREEN         Elbow injury        \n",
       "87  YELLOW        Dizzy Spells        \n",
       "88  GREEN         CVA/TIA ?           "
      ]
     },
     "metadata": {},
     "output_type": "display_data"
    }
   ],
   "source": [
    "ae_subset <- ae_subset %>% select(c(\"Triage_Colour\", \"presenting_complaint\"))\n",
    "ae_subset"
   ]
  },
  {
   "cell_type": "code",
   "execution_count": 25,
   "metadata": {},
   "outputs": [
    {
     "data": {
      "text/html": [
       "<table>\n",
       "<thead><tr><th scope=col>Triage_Colour</th><th scope=col>n</th></tr></thead>\n",
       "<tbody>\n",
       "\t<tr><td>GREEN </td><td>30    </td></tr>\n",
       "\t<tr><td>ORANGE</td><td>10    </td></tr>\n",
       "\t<tr><td>YELLOW</td><td>48    </td></tr>\n",
       "</tbody>\n",
       "</table>\n"
      ],
      "text/latex": [
       "\\begin{tabular}{r|ll}\n",
       " Triage\\_Colour & n\\\\\n",
       "\\hline\n",
       "\t GREEN  & 30    \\\\\n",
       "\t ORANGE & 10    \\\\\n",
       "\t YELLOW & 48    \\\\\n",
       "\\end{tabular}\n"
      ],
      "text/markdown": [
       "\n",
       "| Triage_Colour | n |\n",
       "|---|---|\n",
       "| GREEN  | 30     |\n",
       "| ORANGE | 10     |\n",
       "| YELLOW | 48     |\n",
       "\n"
      ],
      "text/plain": [
       "  Triage_Colour n \n",
       "1 GREEN         30\n",
       "2 ORANGE        10\n",
       "3 YELLOW        48"
      ]
     },
     "metadata": {},
     "output_type": "display_data"
    }
   ],
   "source": [
    "grouped_data <- ae_subset %>% group_by(Triage_Colour) %>% count()\n",
    "head(grouped_data, 5)"
   ]
  },
  {
   "cell_type": "code",
   "execution_count": 26,
   "metadata": {},
   "outputs": [
    {
     "data": {
      "image/png": "[encoded data removed]",
      "text/plain": [
       "plot without title"
      ]
     },
     "metadata": {},
     "output_type": "display_data"
    }
   ],
   "source": [
    "ggplot(grouped_data, aes(x=Triage_Colour, y=n)) +\n",
    "    geom_bar(stat=\"identity\") +\n",
    "    coord_flip()"
   ]
  },
  {
   "cell_type": "markdown",
   "metadata": {},
   "source": [
    "Finally we add some colour so the bars actually match the triage colours making it quicker to interpret along with some axis labels for additional context. "
   ]
  },
  {
   "cell_type": "code",
   "execution_count": 27,
   "metadata": {
    "scrolled": true
   },
   "outputs": [
    {
     "data": {
      "image/png": "[encoded data removed]",
      "text/plain": [
       "plot without title"
      ]
     },
     "metadata": {},
     "output_type": "display_data"
    }
   ],
   "source": [
    "ggplot(grouped_data, aes(x=Triage_Colour, y=n, fill=Triage_Colour)) +\n",
    "    geom_bar(stat=\"identity\") +\n",
    "    coord_flip() +\n",
    "    scale_fill_manual(values=c(\"green\", \"orange\", \"yellow\")) +\n",
    "    xlab(\"Triage colour\") +\n",
    "    ylab(\"Count per triage category\")"
   ]
  },
  {
   "cell_type": "markdown",
   "metadata": {},
   "source": [
    "Adding colour to plots can be very useful. We can encode an additional variable using different colours. Size and shape can also be used to add even more data variables to a plot."
   ]
  },
  {
   "cell_type": "markdown",
   "metadata": {},
   "source": [
    "Another way to compare lots of data simultaneously can be to use a <code>heatmap</code>. We can go back to the heart rate data for the 6 wards we used earlier and this time use it to create a heatmap."
   ]
  },
  {
   "cell_type": "code",
   "execution_count": 28,
   "metadata": {},
   "outputs": [
    {
     "data": {
      "image/png": "[encoded data removed]",
      "text/plain": [
       "plot without title"
      ]
     },
     "metadata": {},
     "output_type": "display_data"
    }
   ],
   "source": [
    "ggplot(hr_data, aes(x=Ward ,y=Month, fill=HR)) +\n",
    "    geom_tile()"
   ]
  },
  {
   "cell_type": "markdown",
   "metadata": {},
   "source": [
    "Here we can use color to show the hear rates and compare wards across months. In the next example we add additional context in by adding the values to cells to make it easier to interpret."
   ]
  },
  {
   "cell_type": "code",
   "execution_count": 29,
   "metadata": {},
   "outputs": [
    {
     "data": {
      "image/png": "[encoded data removed]",
      "text/plain": [
       "plot without title"
      ]
     },
     "metadata": {},
     "output_type": "display_data"
    }
   ],
   "source": [
    "ggplot(hr_data, aes(x=Ward ,y=Month, fill=HR)) +\n",
    "    geom_tile() +\n",
    "    geom_text(aes(label=HR))"
   ]
  },
  {
   "cell_type": "markdown",
   "metadata": {},
   "source": [
    "These additional features are worth adding if they make a given plot easier to interpret. There are other ways that can be used to add context to plots or to highlight features that you want users to pay particular attention to. "
   ]
  },
  {
   "cell_type": "markdown",
   "metadata": {},
   "source": [
    "<a id=\"anno\"></a>\n",
    "#### 1.4 Adding context with annotations and highlighting"
   ]
  },
  {
   "cell_type": "markdown",
   "metadata": {},
   "source": [
    "Let's take a look at a couple of quick examples of annotating and highlighting information in plots. First we will generate some fictitious data on a new mutation of Covid-19 called Covid-x that hits the world in the year 2024. The data shows the number of cases at 5 days intervals in June. "
   ]
  },
  {
   "cell_type": "code",
   "execution_count": 30,
   "metadata": {},
   "outputs": [
    {
     "data": {
      "text/html": [
       "<table>\n",
       "<thead><tr><th scope=col>Dates</th><th scope=col>Cases</th></tr></thead>\n",
       "<tbody>\n",
       "\t<tr><td>01/06/2024</td><td>  4500    </td></tr>\n",
       "\t<tr><td>05/06/2024</td><td>  6423    </td></tr>\n",
       "\t<tr><td>10/06/2024</td><td>  7642    </td></tr>\n",
       "\t<tr><td>15/06/2024</td><td> 82000    </td></tr>\n",
       "\t<tr><td>20/06/2024</td><td>100324    </td></tr>\n",
       "\t<tr><td>25/06/2024</td><td>160231    </td></tr>\n",
       "\t<tr><td>30/06/2024</td><td>100231    </td></tr>\n",
       "</tbody>\n",
       "</table>\n"
      ],
      "text/latex": [
       "\\begin{tabular}{r|ll}\n",
       " Dates & Cases\\\\\n",
       "\\hline\n",
       "\t 01/06/2024 &   4500    \\\\\n",
       "\t 05/06/2024 &   6423    \\\\\n",
       "\t 10/06/2024 &   7642    \\\\\n",
       "\t 15/06/2024 &  82000    \\\\\n",
       "\t 20/06/2024 & 100324    \\\\\n",
       "\t 25/06/2024 & 160231    \\\\\n",
       "\t 30/06/2024 & 100231    \\\\\n",
       "\\end{tabular}\n"
      ],
      "text/markdown": [
       "\n",
       "| Dates | Cases |\n",
       "|---|---|\n",
       "| 01/06/2024 |   4500     |\n",
       "| 05/06/2024 |   6423     |\n",
       "| 10/06/2024 |   7642     |\n",
       "| 15/06/2024 |  82000     |\n",
       "| 20/06/2024 | 100324     |\n",
       "| 25/06/2024 | 160231     |\n",
       "| 30/06/2024 | 100231     |\n",
       "\n"
      ],
      "text/plain": [
       "  Dates      Cases \n",
       "1 01/06/2024   4500\n",
       "2 05/06/2024   6423\n",
       "3 10/06/2024   7642\n",
       "4 15/06/2024  82000\n",
       "5 20/06/2024 100324\n",
       "6 25/06/2024 160231\n",
       "7 30/06/2024 100231"
      ]
     },
     "metadata": {},
     "output_type": "display_data"
    }
   ],
   "source": [
    "vc_dataset <- data.frame(\n",
    "    Dates=c('01/06/2024', '05/06/2024', '10/06/2024', '15/06/2024', '20/06/2024', '25/06/2024', '30/06/2024'),\n",
    "    Cases=c(4500, 6423, 7642, 82000, 100324, 160231, 100231)\n",
    ")\n",
    "vc_dataset"
   ]
  },
  {
   "cell_type": "markdown",
   "metadata": {},
   "source": [
    "We can start with a simple line plot. Line plots are good for showing temporal (time series data). "
   ]
  },
  {
   "cell_type": "code",
   "execution_count": 31,
   "metadata": {},
   "outputs": [
    {
     "data": {
      "image/png": "[encoded data removed]",
      "text/plain": [
       "plot without title"
      ]
     },
     "metadata": {},
     "output_type": "display_data"
    }
   ],
   "source": [
    "ggplot(vc_dataset, aes(x=Dates, y=Cases, group=1)) +\n",
    "    geom_line() + geom_point() +\n",
    "    theme(axis.text.x = element_text(angle=45, vjust=0.5))"
   ]
  },
  {
   "cell_type": "markdown",
   "metadata": {},
   "source": [
    "If we wanted to draw attention to the date our new vaccine was released we could add a line to highlight this information using the <code>geom_vline</code> function for a vertical line. We can make it red <code>color=\"red\"</code>."
   ]
  },
  {
   "cell_type": "code",
   "execution_count": 32,
   "metadata": {},
   "outputs": [
    {
     "data": {
      "image/png": "[encoded data removed]",
      "text/plain": [
       "plot without title"
      ]
     },
     "metadata": {},
     "output_type": "display_data"
    }
   ],
   "source": [
    "ggplot(vc_dataset, aes(x=Dates, y=Cases, group=1)) +\n",
    "    geom_line() + geom_point() +\n",
    "    theme(axis.text.x = element_text(angle=45, vjust=0.5)) +\n",
    "    geom_vline(xintercept=5, color=\"red\")"
   ]
  },
  {
   "cell_type": "markdown",
   "metadata": {},
   "source": [
    "<div class=\"alert alert-success\" style=\"background-color:red;\">\n",
    "<strong>Note:</strong> You can also add horizontal lines and even an arrow using the <code>grid</code> library. Additionally you specify the line type e.g. <code>linetype=\"dashed\"</code>. \n",
    "</div>"
   ]
  },
  {
   "cell_type": "code",
   "execution_count": null,
   "metadata": {},
   "outputs": [],
   "source": []
  },
  {
   "cell_type": "code",
   "execution_count": 33,
   "metadata": {},
   "outputs": [
    {
     "data": {
      "image/png": "[encoded data removed]",
      "text/plain": [
       "plot without title"
      ]
     },
     "metadata": {},
     "output_type": "display_data"
    }
   ],
   "source": [
    "ggplot(vc_dataset, aes(x=Dates, y=Cases, group=1)) +\n",
    "    geom_line() + geom_point() +\n",
    "    theme(axis.text.x = element_text(angle=45, vjust=0.5)) +\n",
    "    geom_vline(xintercept=5, color=\"red\") +\n",
    "    annotate(\"text\", x=3.5, y=160600, label=\"Vaccine released\", col=\"red\")"
   ]
  },
  {
   "cell_type": "markdown",
   "metadata": {},
   "source": [
    "Another way to show this information is to draw attention to the salient information that we want the user to see by using colour. Let's create a bar plot of the same information and then fade the bars with exception of the one that is the date of the vaccination. "
   ]
  },
  {
   "cell_type": "code",
   "execution_count": 34,
   "metadata": {},
   "outputs": [
    {
     "data": {
      "image/png": "[encoded data removed]",
      "text/plain": [
       "plot without title"
      ]
     },
     "metadata": {},
     "output_type": "display_data"
    }
   ],
   "source": [
    "ggplot(vc_dataset, aes(x=Dates, y=Cases)) +\n",
    "    geom_bar(stat=\"identity\") + \n",
    "    theme(axis.text.x = element_text(angle=45, vjust=0.5)) +\n",
    "    xlab(\"Dates\") +\n",
    "    ylab(\"Number of cases\") +\n",
    "    ggtitle(\"Number of cases of Covid-x from 1st\\nof June to 30th of June 2024\")"
   ]
  },
  {
   "cell_type": "code",
   "execution_count": 35,
   "metadata": {},
   "outputs": [
    {
     "data": {
      "image/png": "[encoded data removed]",
      "text/plain": [
       "plot without title"
      ]
     },
     "metadata": {},
     "output_type": "display_data"
    }
   ],
   "source": [
    "ggplot(vc_dataset, aes(x=Dates, y=Cases, fill=Dates)) +\n",
    "    geom_bar(stat=\"identity\", show.legend=FALSE) + \n",
    "    theme(axis.text.x = element_text(angle=45, vjust=0.5)) +\n",
    "    xlab(\"Dates\") +\n",
    "    ylab(\"Number of cases\") +\n",
    "    ggtitle(\"Number of cases of Covid-x from 1st\\nof June to 30th of June 2024\") +\n",
    "    scale_fill_manual(values=c(\"lightgrey\", \"lightgrey\", \"lightgrey\", \"lightgrey\", \"firebrick\", \"lightgrey\", \"lightgrey\"))"
   ]
  },
  {
   "cell_type": "markdown",
   "metadata": {},
   "source": [
    "One issue is that we could have a lot of bars. Adding a colours for 50 or 100 bars or so can be time consuming and prone to error. One way would be to colour the whole plot one colour and then recolour the bar of interest. We can create a sequence in R to help with this using <code>rep</code> where we can create a vector of repeated values 'n' times."
   ]
  },
  {
   "cell_type": "code",
   "execution_count": 36,
   "metadata": {},
   "outputs": [
    {
     "data": {
      "text/html": [
       "<ol class=list-inline>\n",
       "\t<li>'lightgrey'</li>\n",
       "\t<li>'lightgrey'</li>\n",
       "\t<li>'lightgrey'</li>\n",
       "\t<li>'lightgrey'</li>\n",
       "\t<li>'lightgrey'</li>\n",
       "\t<li>'lightgrey'</li>\n",
       "\t<li>'lightgrey'</li>\n",
       "</ol>\n"
      ],
      "text/latex": [
       "\\begin{enumerate*}\n",
       "\\item 'lightgrey'\n",
       "\\item 'lightgrey'\n",
       "\\item 'lightgrey'\n",
       "\\item 'lightgrey'\n",
       "\\item 'lightgrey'\n",
       "\\item 'lightgrey'\n",
       "\\item 'lightgrey'\n",
       "\\end{enumerate*}\n"
      ],
      "text/markdown": [
       "1. 'lightgrey'\n",
       "2. 'lightgrey'\n",
       "3. 'lightgrey'\n",
       "4. 'lightgrey'\n",
       "5. 'lightgrey'\n",
       "6. 'lightgrey'\n",
       "7. 'lightgrey'\n",
       "\n",
       "\n"
      ],
      "text/plain": [
       "[1] \"lightgrey\" \"lightgrey\" \"lightgrey\" \"lightgrey\" \"lightgrey\" \"lightgrey\"\n",
       "[7] \"lightgrey\""
      ]
     },
     "metadata": {},
     "output_type": "display_data"
    }
   ],
   "source": [
    "col_seq <- rep(\"lightgrey\", times=7)\n",
    "col_seq"
   ]
  },
  {
   "cell_type": "markdown",
   "metadata": {},
   "source": [
    "Now we can just change the 5th one like so:"
   ]
  },
  {
   "cell_type": "code",
   "execution_count": 37,
   "metadata": {},
   "outputs": [
    {
     "data": {
      "text/html": [
       "<ol class=list-inline>\n",
       "\t<li>'lightgrey'</li>\n",
       "\t<li>'lightgrey'</li>\n",
       "\t<li>'lightgrey'</li>\n",
       "\t<li>'lightgrey'</li>\n",
       "\t<li>'firebrick'</li>\n",
       "\t<li>'lightgrey'</li>\n",
       "\t<li>'lightgrey'</li>\n",
       "</ol>\n"
      ],
      "text/latex": [
       "\\begin{enumerate*}\n",
       "\\item 'lightgrey'\n",
       "\\item 'lightgrey'\n",
       "\\item 'lightgrey'\n",
       "\\item 'lightgrey'\n",
       "\\item 'firebrick'\n",
       "\\item 'lightgrey'\n",
       "\\item 'lightgrey'\n",
       "\\end{enumerate*}\n"
      ],
      "text/markdown": [
       "1. 'lightgrey'\n",
       "2. 'lightgrey'\n",
       "3. 'lightgrey'\n",
       "4. 'lightgrey'\n",
       "5. 'firebrick'\n",
       "6. 'lightgrey'\n",
       "7. 'lightgrey'\n",
       "\n",
       "\n"
      ],
      "text/plain": [
       "[1] \"lightgrey\" \"lightgrey\" \"lightgrey\" \"lightgrey\" \"firebrick\" \"lightgrey\"\n",
       "[7] \"lightgrey\""
      ]
     },
     "metadata": {},
     "output_type": "display_data"
    }
   ],
   "source": [
    "col_seq[5] <- \"firebrick\"\n",
    "col_seq"
   ]
  },
  {
   "cell_type": "markdown",
   "metadata": {},
   "source": [
    "We can then pass in this vector rather than explicitly adding 7 lots of colour values ourselves. Here on the last line we pass in the vector <code>col_seq</code> in place of our explicit list of colour values."
   ]
  },
  {
   "cell_type": "code",
   "execution_count": 38,
   "metadata": {},
   "outputs": [
    {
     "data": {
      "image/png": "[encoded data removed]",
      "text/plain": [
       "plot without title"
      ]
     },
     "metadata": {},
     "output_type": "display_data"
    }
   ],
   "source": [
    "ggplot(vc_dataset, aes(x=Dates, y=Cases, fill=Dates)) +\n",
    "    geom_bar(stat=\"identity\", show.legend=FALSE) + \n",
    "    theme(axis.text.x = element_text(angle=45, vjust=0.5)) +\n",
    "    xlab(\"Dates\") +\n",
    "    ylab(\"Number of cases\") +\n",
    "    ggtitle(\"Number of cases of Covid-x from 1st\\nof June to 30th of June 2024\") +\n",
    "    scale_fill_manual(values=col_seq)"
   ]
  },
  {
   "cell_type": "markdown",
   "metadata": {},
   "source": [
    "In this sort of example you would add detail in the plots caption. Something like: \"Red indicates the date the vaccine was first released\". "
   ]
  },
  {
   "cell_type": "markdown",
   "metadata": {},
   "source": [
    "I have hypertension (high blood pressure). I keep a record for when I go see my GP so he/she can adjust my medication based on an average over a longer period, rather than a one off reading (which isn't very scientific). Here is some of that data."
   ]
  },
  {
   "cell_type": "code",
   "execution_count": 39,
   "metadata": {},
   "outputs": [
    {
     "name": "stderr",
     "output_type": "stream",
     "text": [
      "Parsed with column specification:\n",
      "cols(\n",
      "  Date = col_character(),\n",
      "  Time = col_time(format = \"\"),\n",
      "  Sys = col_double(),\n",
      "  Dia = col_double(),\n",
      "  HR = col_double()\n",
      ")\n"
     ]
    },
    {
     "data": {
      "text/html": [
       "<table>\n",
       "<thead><tr><th scope=col>Date</th><th scope=col>Time</th><th scope=col>Sys</th><th scope=col>Dia</th><th scope=col>HR</th></tr></thead>\n",
       "<tbody>\n",
       "\t<tr><td>12/04/2022</td><td>09:44:00  </td><td>130       </td><td>96        </td><td> 75       </td></tr>\n",
       "\t<tr><td>12/04/2022</td><td>15:20:00  </td><td>129       </td><td>96        </td><td> 67       </td></tr>\n",
       "\t<tr><td>13/04/2022</td><td>09:52:00  </td><td>134       </td><td>94        </td><td> 82       </td></tr>\n",
       "\t<tr><td>13/04/2022</td><td>17:38:00  </td><td>146       </td><td>91        </td><td> 94       </td></tr>\n",
       "\t<tr><td>14/04/2022</td><td>17:15:00  </td><td>129       </td><td>97        </td><td> 88       </td></tr>\n",
       "\t<tr><td>15/04/2022</td><td>09:32:00  </td><td>131       </td><td>95        </td><td> 80       </td></tr>\n",
       "\t<tr><td>16/04/2022</td><td>11:19:00  </td><td>131       </td><td>85        </td><td> 91       </td></tr>\n",
       "\t<tr><td>16/04/2022</td><td>23:15:00  </td><td>127       </td><td>85        </td><td> 73       </td></tr>\n",
       "\t<tr><td>17/04/2022</td><td>13:38:00  </td><td>162       </td><td>95        </td><td>108       </td></tr>\n",
       "\t<tr><td>17/04/2022</td><td>20:33:00  </td><td>130       </td><td>84        </td><td>109       </td></tr>\n",
       "\t<tr><td>18/04/2022</td><td>12:40:00  </td><td>133       </td><td>87        </td><td>110       </td></tr>\n",
       "\t<tr><td>18/04/2022</td><td>16:34:00  </td><td>133       </td><td>85        </td><td> 82       </td></tr>\n",
       "\t<tr><td>19/04/2022</td><td>10:06:00  </td><td>133       </td><td>86        </td><td>105       </td></tr>\n",
       "\t<tr><td>19/04/2022</td><td>15:30:00  </td><td>131       </td><td>88        </td><td> 73       </td></tr>\n",
       "</tbody>\n",
       "</table>\n"
      ],
      "text/latex": [
       "\\begin{tabular}{r|lllll}\n",
       " Date & Time & Sys & Dia & HR\\\\\n",
       "\\hline\n",
       "\t 12/04/2022 & 09:44:00   & 130        & 96         &  75       \\\\\n",
       "\t 12/04/2022 & 15:20:00   & 129        & 96         &  67       \\\\\n",
       "\t 13/04/2022 & 09:52:00   & 134        & 94         &  82       \\\\\n",
       "\t 13/04/2022 & 17:38:00   & 146        & 91         &  94       \\\\\n",
       "\t 14/04/2022 & 17:15:00   & 129        & 97         &  88       \\\\\n",
       "\t 15/04/2022 & 09:32:00   & 131        & 95         &  80       \\\\\n",
       "\t 16/04/2022 & 11:19:00   & 131        & 85         &  91       \\\\\n",
       "\t 16/04/2022 & 23:15:00   & 127        & 85         &  73       \\\\\n",
       "\t 17/04/2022 & 13:38:00   & 162        & 95         & 108       \\\\\n",
       "\t 17/04/2022 & 20:33:00   & 130        & 84         & 109       \\\\\n",
       "\t 18/04/2022 & 12:40:00   & 133        & 87         & 110       \\\\\n",
       "\t 18/04/2022 & 16:34:00   & 133        & 85         &  82       \\\\\n",
       "\t 19/04/2022 & 10:06:00   & 133        & 86         & 105       \\\\\n",
       "\t 19/04/2022 & 15:30:00   & 131        & 88         &  73       \\\\\n",
       "\\end{tabular}\n"
      ],
      "text/markdown": [
       "\n",
       "| Date | Time | Sys | Dia | HR |\n",
       "|---|---|---|---|---|\n",
       "| 12/04/2022 | 09:44:00   | 130        | 96         |  75        |\n",
       "| 12/04/2022 | 15:20:00   | 129        | 96         |  67        |\n",
       "| 13/04/2022 | 09:52:00   | 134        | 94         |  82        |\n",
       "| 13/04/2022 | 17:38:00   | 146        | 91         |  94        |\n",
       "| 14/04/2022 | 17:15:00   | 129        | 97         |  88        |\n",
       "| 15/04/2022 | 09:32:00   | 131        | 95         |  80        |\n",
       "| 16/04/2022 | 11:19:00   | 131        | 85         |  91        |\n",
       "| 16/04/2022 | 23:15:00   | 127        | 85         |  73        |\n",
       "| 17/04/2022 | 13:38:00   | 162        | 95         | 108        |\n",
       "| 17/04/2022 | 20:33:00   | 130        | 84         | 109        |\n",
       "| 18/04/2022 | 12:40:00   | 133        | 87         | 110        |\n",
       "| 18/04/2022 | 16:34:00   | 133        | 85         |  82        |\n",
       "| 19/04/2022 | 10:06:00   | 133        | 86         | 105        |\n",
       "| 19/04/2022 | 15:30:00   | 131        | 88         |  73        |\n",
       "\n"
      ],
      "text/plain": [
       "   Date       Time     Sys Dia HR \n",
       "1  12/04/2022 09:44:00 130 96   75\n",
       "2  12/04/2022 15:20:00 129 96   67\n",
       "3  13/04/2022 09:52:00 134 94   82\n",
       "4  13/04/2022 17:38:00 146 91   94\n",
       "5  14/04/2022 17:15:00 129 97   88\n",
       "6  15/04/2022 09:32:00 131 95   80\n",
       "7  16/04/2022 11:19:00 131 85   91\n",
       "8  16/04/2022 23:15:00 127 85   73\n",
       "9  17/04/2022 13:38:00 162 95  108\n",
       "10 17/04/2022 20:33:00 130 84  109\n",
       "11 18/04/2022 12:40:00 133 87  110\n",
       "12 18/04/2022 16:34:00 133 85   82\n",
       "13 19/04/2022 10:06:00 133 86  105\n",
       "14 19/04/2022 15:30:00 131 88   73"
      ]
     },
     "metadata": {},
     "output_type": "display_data"
    }
   ],
   "source": [
    "BP_data <- read_csv(\"./data/BP record.csv\")\n",
    "BP_data"
   ]
  },
  {
   "cell_type": "markdown",
   "metadata": {},
   "source": [
    "Let's first format the time column to something R recognises as time and split the data into two separate datasets representing morning readings and afternoon/evening readings. "
   ]
  },
  {
   "cell_type": "code",
   "execution_count": 40,
   "metadata": {},
   "outputs": [
    {
     "ename": "ERROR",
     "evalue": "Error in library(chron): there is no package called 'chron'\n",
     "output_type": "error",
     "traceback": [
      "Error in library(chron): there is no package called 'chron'\nTraceback:\n",
      "1. library(chron)"
     ]
    }
   ],
   "source": [
    "library(chron)\n",
    "BP_data$Time <- chron(times=BP_data$Time)\n",
    "morning_BP <- BP_data %>% filter(Time < '13:00:00')\n",
    "afternoon_BP <- BP_data %>% filter(Time > '13:00:00')"
   ]
  },
  {
   "cell_type": "markdown",
   "metadata": {
    "solution2": "hidden",
    "solution2_first": true
   },
   "source": [
    "<div class=\"alert alert-block alert-info\">\n",
    "<b>Task 5:</b>\n",
    "<br> \n",
    "Can you create line plot for the morning and afternoon blood pressure data, each with three lines. One for the systolic pressure (Sys), one for the diastolic pressure (Dia) and one for the heart rate (HR).<br>\n",
    "1. Use different markers (points on the lines) and colours for the blood pressure and heart rate variables. You can see the options <a href=\"http://www.sthda.com/english/wiki/ggplot2-point-shapes\" target=\"_blank\">here</a> for different point markers that are available in an image.<br>\n",
    "2. Create two plots, one for the morning &lt; 13:00 and one for the afternoon/evening &gt; 13:00. You may want to add a <code>geom_line</code> and <code>geom_point</code> for each variable. Note, they both require an aesthetic.<br>\n",
    "3. Add suitable titles and axis labels.\n",
    "</div>"
   ]
  },
  {
   "cell_type": "code",
   "execution_count": null,
   "metadata": {
    "solution2": "hidden"
   },
   "outputs": [],
   "source": [
    "ggplot(morning_BP, aes(Date)) +\n",
    "    geom_line(aes(y=Sys, group=1), color=\"darkblue\") + \n",
    "    geom_point(aes(y=Sys), color=\"darkblue\", shape=16) +\n",
    "    geom_line(aes(y=Dia, group=1), color=\"blue\") +\n",
    "    geom_point(aes(y=Dia), color=\"blue\", shape=16) +\n",
    "    geom_line(aes(y=HR, group=1), color=\"red\", linetype=\"dashed\") +\n",
    "    geom_point(aes(y=HR), color=\"red\", shape=8) +\n",
    "    theme(axis.text.x = element_text(angle=45, vjust=0.5)) +\n",
    "    ylab(\"Blood pressure (mmHG)\") +\n",
    "    xlab(\"Date\") +\n",
    "    ggtitle(\"Morning blood pressure readings\\n12/04/2022-19/04/2022\")"
   ]
  },
  {
   "cell_type": "code",
   "execution_count": null,
   "metadata": {
    "solution2": "hidden"
   },
   "outputs": [],
   "source": [
    "ggplot(afternoon_BP, aes(Date)) +\n",
    "    geom_line(aes(y=Sys, group=1), color=\"darkblue\") + \n",
    "    geom_point(aes(y=Sys), color=\"darkblue\", shape=16) +\n",
    "    geom_line(aes(y=Dia, group=1), color=\"blue\") +\n",
    "    geom_point(aes(y=Dia), color=\"blue\", shape=16) +\n",
    "    geom_line(aes(y=HR, group=1), color=\"red\", linetype=\"dashed\") +\n",
    "    geom_point(aes(y=HR), color=\"red\", shape=8) +\n",
    "    theme(axis.text.x = element_text(angle=45, vjust=0.5)) +\n",
    "    ylab(\"Blood pressure (mmHG)\") +\n",
    "    xlab(\"Date\") +\n",
    "    ggtitle(\"Afternoon blood pressure readings\\n12/04/2022-19/04/2022\")"
   ]
  },
  {
   "cell_type": "code",
   "execution_count": null,
   "metadata": {},
   "outputs": [],
   "source": []
  },
  {
   "cell_type": "code",
   "execution_count": null,
   "metadata": {},
   "outputs": [],
   "source": []
  },
  {
   "cell_type": "markdown",
   "metadata": {
    "solution2": "hidden",
    "solution2_first": true
   },
   "source": [
    "<div class=\"alert alert-block alert-info\">\n",
    "<b>Task 6:</b>\n",
    "<br> \n",
    "In the afternoon there is a higher reading on the 17/04/2022 at 13:38 of 162/95 mmHG with a heart rate of 108 BPM. Add a text annotation to the plot with the BP value (i.e. BP=162/95, HR=108) to the plot next to the systolic datapoint on the plot (the highest point on the plot).\n",
    "</div>"
   ]
  },
  {
   "cell_type": "code",
   "execution_count": null,
   "metadata": {
    "solution2": "hidden"
   },
   "outputs": [],
   "source": [
    "ggplot(afternoon_BP, aes(Date)) +\n",
    "    geom_line(aes(y=Sys, group=1), color=\"darkblue\") + \n",
    "    geom_point(aes(y=Sys), color=\"darkblue\", shape=16) +\n",
    "    geom_line(aes(y=Dia, group=1), color=\"blue\") +\n",
    "    geom_point(aes(y=Dia), color=\"blue\", shape=16) +\n",
    "    geom_line(aes(y=HR, group=1), color=\"red\", linetype=\"dashed\") +\n",
    "    geom_point(aes(y=HR), color=\"red\", shape=8) +\n",
    "    theme(axis.text.x = element_text(angle=45, vjust=0.5)) +\n",
    "    ylab(\"Blood pressure (mmHG)\") +\n",
    "    xlab(\"Date\") +\n",
    "    ggtitle(\"Afternoon blood pressure readings\\n12/04/2022-19/04/2022\") +\n",
    "    annotate(\"text\", x=6.3, y=163, label=\"BP=162/95, HR=108\", col=\"black\", size=3)"
   ]
  },
  {
   "cell_type": "markdown",
   "metadata": {},
   "source": []
  },
  {
   "cell_type": "markdown",
   "metadata": {},
   "source": [
    "Simple additional context added to a visualisation can enhance the interpretability of a plot. This can be used to draw the viewers attention to key information. This should not however obscure or overly distract or distort the underlying data. Additions such as title and axis labels can also make plots much more readable. They should also include a caption describing what the visualisation is showing. Visualisations can convey complex information in a digestible and accessible way. This is a powerful tool for a data scientist to convey information to different stakeholder groups. "
   ]
  },
  {
   "cell_type": "markdown",
   "metadata": {},
   "source": [
    "<iframe src=\"https://www.qualtrics.manchester.ac.uk/jfe/form/SV_8eJla3IeXS1JWR0\" width=\"\" height=\"\"></iframe>"
   ]
  },
  {
   "cell_type": "markdown",
   "metadata": {},
   "source": [
    "#### Feedback\n",
    "Please rate this notebook by clicking on the image below (it will open up a new window where you can select one of the three icons)\n",
    " <a href=\"https://www.qualtrics.manchester.ac.uk/jfe/form/SV_8eJla3IeXS1JWR0\" target=\"_blank\"><img src=\"./images/sentiment-check-icons.png\" width=\"80%\" /></a>"
   ]
  },
  {
   "cell_type": "markdown",
   "metadata": {},
   "source": [
    "------\n",
    "\n",
    "##### About this Notebook\n",
    "<br>\n",
    "<i>Notebook created by <strong>Dr. Alan Davies</strong>.\n",
    "    \n",
    "Publish date: July 2023<br>\n",
    "Review date: July 2024</i>"
   ]
  },
  {
   "cell_type": "markdown",
   "metadata": {},
   "source": [
    "## Notes:"
   ]
  },
  {
   "cell_type": "code",
   "execution_count": null,
   "metadata": {},
   "outputs": [],
   "source": []
  }
 ],
 "metadata": {
  "hide_input": false,
  "kernelspec": {
   "display_name": "R",
   "language": "R",
   "name": "ir"
  },
  "language_info": {
   "codemirror_mode": "r",
   "file_extension": ".r",
   "mimetype": "text/x-r-source",
   "name": "R",
   "pygments_lexer": "r",
   "version": "3.6.1"
  },
  "varInspector": {
   "cols": {
    "lenName": 16,
    "lenType": 16,
    "lenVar": 40
   },
   "kernels_config": {
    "python": {
     "delete_cmd_postfix": "",
     "delete_cmd_prefix": "del ",
     "library": "var_list.py",
     "varRefreshCmd": "print(var_dic_list())"
    },
    "r": {
     "delete_cmd_postfix": ") ",
     "delete_cmd_prefix": "rm(",
     "library": "var_list.r",
     "varRefreshCmd": "cat(var_dic_list()) "
    }
   },
   "types_to_exclude": [
    "module",
    "function",
    "builtin_function_or_method",
    "instance",
    "_Feature"
   ],
   "window_display": false
  }
 },
 "nbformat": 4,
 "nbformat_minor": 2
}
