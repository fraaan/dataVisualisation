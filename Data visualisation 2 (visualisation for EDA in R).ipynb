{
 "cells": [
  {
   "cell_type": "markdown",
   "metadata": {},
   "source": [
    "<img src=\"./images/banner.png\" width=\"100%\" align=\"left\" />"
   ]
  },
  {
   "cell_type": "markdown",
   "metadata": {},
   "source": [
    "<table style=\"float:right;\">\n",
    "    <tr>\n",
    "        <td>                      \n",
    "            <div style=\"text-align: right\"><a href=\"https://alandavies.netlify.com\" target=\"_blank\">Dr Alan Davies</a></div>\n",
    "            <div style=\"text-align: right\">Senior Lecturer Health Data Science</div>\n",
    "            <div style=\"text-align: right\">University of Manchester</div>\n",
    "         </td>\n",
    "         <td>\n",
    "             <img src=\"./images/alan.png\" width=\"30%\" />\n",
    "         </td>\n",
    "     </tr>\n",
    "</table>"
   ]
  },
  {
   "cell_type": "markdown",
   "metadata": {},
   "source": [
    "# 2.0 Data visualisation for exploratory data analysis in R\n",
    "****"
   ]
  },
  {
   "cell_type": "markdown",
   "metadata": {},
   "source": [
    "#### About this Notebook\n",
    "This notebook introduces the concepts of exploratory data analysis using visualisations."
   ]
  },
  {
   "cell_type": "markdown",
   "metadata": {},
   "source": [
    "<div class=\"alert alert-block alert-warning\"><b>Learning Objectives:</b> \n",
    "<br/> At the end of this notebook you will be able to:\n",
    "  \n",
    "- LO9\tPractice plotting data using appropriate visualisation types, including static and dynamic (interactive) forms of visualisation using modern graph libraries in languages like R and Python\n",
    " \n",
    "- LO3 Recognise the difference between using data visualisations for exploration and for explanation \n",
    "    \n",
    "- LO6\tInterpret characteristics of data by using data visualisations\n",
    "\n",
    "- LO4\tDiscuss issues surrounding poor presentation of data via visualisations including intentional and unintentional misleading and confusion about the nature of underlying data\n",
    "\n",
    "\n",
    "</div> "
   ]
  },
  {
   "cell_type": "markdown",
   "metadata": {},
   "source": [
    "<a id=\"top\"></a>\n",
    "\n",
    "<b>Table of contents</b><br>\n",
    "\n",
    "2.1 [Dataset characteristics](#char)\n",
    "\n",
    "2.2 [The distribution of a dataset](#explore)\n",
    "\n",
    "2.3 [Meaningful visualisations](#meaning)\n",
    "\n",
    "2.4 [Visualising relationships](#corr)\n",
    "\n",
    "2.5 [Dealing with outliers](#out)\n",
    "\n",
    "2.6 [Error bars](#error)"
   ]
  },
  {
   "cell_type": "markdown",
   "metadata": {},
   "source": [
    "One of the first things many people do when they obtain a dataset is to explore its characteristics. This can be achieved using various inbuilt functions that can describe characteristics of a dataset in terms of the number of rows and columns, missing data, space taken up on disk, the types of variables and statistical qualities using functions such as <code>summary</code> and <code>str</code>. In this notebook we will explore ways of exploring the quality and characteristics of data using visualisations."
   ]
  },
  {
   "cell_type": "markdown",
   "metadata": {},
   "source": [
    "<a id=\"char\"></a>\n",
    "#### 2.1 Dataset characteristics"
   ]
  },
  {
   "cell_type": "markdown",
   "metadata": {},
   "source": [
    "Here is a short reminder of some of the functions that can be used to explore the characteristics of dataframes in summary and tabular form before we move on to look at how we can use visualisations to take this further."
   ]
  },
  {
   "cell_type": "markdown",
   "metadata": {},
   "source": [
    "First we will load the <code>tidyverse</code> library."
   ]
  },
  {
   "cell_type": "code",
   "execution_count": 1,
   "metadata": {
    "scrolled": true
   },
   "outputs": [
    {
     "name": "stderr",
     "output_type": "stream",
     "text": [
      "Registered S3 methods overwritten by 'ggplot2':\n",
      "  method         from \n",
      "  [.quosures     rlang\n",
      "  c.quosures     rlang\n",
      "  print.quosures rlang\n",
      "Registered S3 method overwritten by 'rvest':\n",
      "  method            from\n",
      "  read_xml.response xml2\n",
      "-- Attaching packages --------------------------------------- tidyverse 1.2.1 --\n",
      "v ggplot2 3.1.1       v purrr   0.3.2  \n",
      "v tibble  2.1.1       v dplyr   0.8.0.1\n",
      "v tidyr   0.8.3       v stringr 1.4.0  \n",
      "v readr   1.3.1       v forcats 0.4.0  \n",
      "-- Conflicts ------------------------------------------ tidyverse_conflicts() --\n",
      "x dplyr::filter()  masks stats::filter()\n",
      "x purrr::flatten() masks jsonlite::flatten()\n",
      "x dplyr::lag()     masks stats::lag()\n"
     ]
    }
   ],
   "source": [
    "library(tidyverse)"
   ]
  },
  {
   "cell_type": "markdown",
   "metadata": {},
   "source": [
    "Next we can load in a dataset to view the properties of the data using textual and numerical data."
   ]
  },
  {
   "cell_type": "code",
   "execution_count": 2,
   "metadata": {},
   "outputs": [
    {
     "name": "stderr",
     "output_type": "stream",
     "text": [
      "Parsed with column specification:\n",
      "cols(\n",
      "  `Clinic proceedures` = col_character(),\n",
      "  `Clinic site` = col_character(),\n",
      "  Prices = col_double()\n",
      ")\n"
     ]
    }
   ],
   "source": [
    "vc_data <- read_csv(\"./data/vaccines.csv\")"
   ]
  },
  {
   "cell_type": "markdown",
   "metadata": {},
   "source": [
    "The <code>str</code> function is useful for a compact summary that includes column names, their data types (e.g. <code>chr</code> (characters) for textual data and <code>num</code> for numerical data."
   ]
  },
  {
   "cell_type": "code",
   "execution_count": 3,
   "metadata": {},
   "outputs": [
    {
     "name": "stdout",
     "output_type": "stream",
     "text": [
      "Classes 'spec_tbl_df', 'tbl_df', 'tbl' and 'data.frame':\t20 obs. of  3 variables:\n",
      " $ Clinic proceedures: chr  \"Malaria\" \"India Package\" \"Africa Package\" \"Central America Package\" ...\n",
      " $ Clinic site       : chr  \"A\" \"A\" \"B\" \"A\" ...\n",
      " $ Prices            : num  85 165 220 165 235 85 145 85 145 85 ...\n",
      " - attr(*, \"spec\")=\n",
      "  .. cols(\n",
      "  ..   `Clinic proceedures` = col_character(),\n",
      "  ..   `Clinic site` = col_character(),\n",
      "  ..   Prices = col_double()\n",
      "  .. )\n"
     ]
    }
   ],
   "source": [
    "str(vc_data)"
   ]
  },
  {
   "cell_type": "markdown",
   "metadata": {},
   "source": [
    "To explore the statistical properties the <code>summary</code> function can be used."
   ]
  },
  {
   "cell_type": "code",
   "execution_count": 4,
   "metadata": {},
   "outputs": [
    {
     "data": {
      "text/plain": [
       " Clinic proceedures Clinic site            Prices     \n",
       " Length:20          Length:20          Min.   : 75.0  \n",
       " Class :character   Class :character   1st Qu.: 85.0  \n",
       " Mode  :character   Mode  :character   Median : 85.0  \n",
       "                                       Mean   :119.0  \n",
       "                                       3rd Qu.:146.2  \n",
       "                                       Max.   :235.0  "
      ]
     },
     "metadata": {},
     "output_type": "display_data"
    }
   ],
   "source": [
    "summary(vc_data)"
   ]
  },
  {
   "cell_type": "markdown",
   "metadata": {},
   "source": [
    "To see how many rows a dataframe has, we can use the <code>nrow</code> function. Here we can see there are <code>20</code> rows/records."
   ]
  },
  {
   "cell_type": "code",
   "execution_count": 5,
   "metadata": {},
   "outputs": [
    {
     "data": {
      "text/html": [
       "20"
      ],
      "text/latex": [
       "20"
      ],
      "text/markdown": [
       "20"
      ],
      "text/plain": [
       "[1] 20"
      ]
     },
     "metadata": {},
     "output_type": "display_data"
    }
   ],
   "source": [
    "nrow(vc_data)"
   ]
  },
  {
   "cell_type": "markdown",
   "metadata": {},
   "source": [
    "The <code>dim</code> function show the dimensions (rows and columns)."
   ]
  },
  {
   "cell_type": "code",
   "execution_count": 6,
   "metadata": {},
   "outputs": [
    {
     "data": {
      "text/html": [
       "<ol class=list-inline>\n",
       "\t<li>20</li>\n",
       "\t<li>3</li>\n",
       "</ol>\n"
      ],
      "text/latex": [
       "\\begin{enumerate*}\n",
       "\\item 20\n",
       "\\item 3\n",
       "\\end{enumerate*}\n"
      ],
      "text/markdown": [
       "1. 20\n",
       "2. 3\n",
       "\n",
       "\n"
      ],
      "text/plain": [
       "[1] 20  3"
      ]
     },
     "metadata": {},
     "output_type": "display_data"
    }
   ],
   "source": [
    "dim(vc_data)"
   ]
  },
  {
   "cell_type": "markdown",
   "metadata": {},
   "source": [
    "We can also view other details like the column names:"
   ]
  },
  {
   "cell_type": "code",
   "execution_count": 7,
   "metadata": {},
   "outputs": [
    {
     "data": {
      "text/html": [
       "<ol class=list-inline>\n",
       "\t<li>'Clinic proceedures'</li>\n",
       "\t<li>'Clinic site'</li>\n",
       "\t<li>'Prices'</li>\n",
       "</ol>\n"
      ],
      "text/latex": [
       "\\begin{enumerate*}\n",
       "\\item 'Clinic proceedures'\n",
       "\\item 'Clinic site'\n",
       "\\item 'Prices'\n",
       "\\end{enumerate*}\n"
      ],
      "text/markdown": [
       "1. 'Clinic proceedures'\n",
       "2. 'Clinic site'\n",
       "3. 'Prices'\n",
       "\n",
       "\n"
      ],
      "text/plain": [
       "[1] \"Clinic proceedures\" \"Clinic site\"        \"Prices\"            "
      ]
     },
     "metadata": {},
     "output_type": "display_data"
    }
   ],
   "source": [
    "colnames(vc_data)"
   ]
  },
  {
   "cell_type": "markdown",
   "metadata": {},
   "source": [
    "Let's load in a different dataset for a quick task:"
   ]
  },
  {
   "cell_type": "code",
   "execution_count": 8,
   "metadata": {},
   "outputs": [
    {
     "name": "stderr",
     "output_type": "stream",
     "text": [
      "Parsed with column specification:\n",
      "cols(\n",
      "  Sex = col_character(),\n",
      "  Age = col_double(),\n",
      "  Location = col_character(),\n",
      "  Region = col_character()\n",
      ")\n"
     ]
    },
    {
     "data": {
      "text/html": [
       "<table>\n",
       "<thead><tr><th scope=col>Sex</th><th scope=col>Age</th><th scope=col>Location</th><th scope=col>Region</th></tr></thead>\n",
       "<tbody>\n",
       "\t<tr><td>Male          </td><td>44            </td><td>UK            </td><td>Suffolk       </td></tr>\n",
       "\t<tr><td>Female        </td><td>30            </td><td>UK            </td><td>Greater London</td></tr>\n",
       "\t<tr><td>Male          </td><td>32            </td><td>UK            </td><td>Oxfordshire   </td></tr>\n",
       "\t<tr><td>Female        </td><td>43            </td><td>UK            </td><td>Somerset      </td></tr>\n",
       "\t<tr><td>Female        </td><td>38            </td><td>UK            </td><td>London        </td></tr>\n",
       "</tbody>\n",
       "</table>\n"
      ],
      "text/latex": [
       "\\begin{tabular}{r|llll}\n",
       " Sex & Age & Location & Region\\\\\n",
       "\\hline\n",
       "\t Male           & 44             & UK             & Suffolk       \\\\\n",
       "\t Female         & 30             & UK             & Greater London\\\\\n",
       "\t Male           & 32             & UK             & Oxfordshire   \\\\\n",
       "\t Female         & 43             & UK             & Somerset      \\\\\n",
       "\t Female         & 38             & UK             & London        \\\\\n",
       "\\end{tabular}\n"
      ],
      "text/markdown": [
       "\n",
       "| Sex | Age | Location | Region |\n",
       "|---|---|---|---|\n",
       "| Male           | 44             | UK             | Suffolk        |\n",
       "| Female         | 30             | UK             | Greater London |\n",
       "| Male           | 32             | UK             | Oxfordshire    |\n",
       "| Female         | 43             | UK             | Somerset       |\n",
       "| Female         | 38             | UK             | London         |\n",
       "\n"
      ],
      "text/plain": [
       "  Sex    Age Location Region        \n",
       "1 Male   44  UK       Suffolk       \n",
       "2 Female 30  UK       Greater London\n",
       "3 Male   32  UK       Oxfordshire   \n",
       "4 Female 43  UK       Somerset      \n",
       "5 Female 38  UK       London        "
      ]
     },
     "metadata": {},
     "output_type": "display_data"
    }
   ],
   "source": [
    "applicant_data <- read_csv(\"./data/applicant_data.csv\")\n",
    "head(applicant_data, 5)"
   ]
  },
  {
   "cell_type": "markdown",
   "metadata": {
    "solution2": "hidden",
    "solution2_first": true
   },
   "source": [
    "<div class=\"alert alert-block alert-info\">\n",
    "<b>Task 1:</b>\n",
    "<br> \n",
    "Using these various functions, answer the following questions:\n",
    "<ul>\n",
    "    <li>What are the data types of the different variables?</li>\n",
    "    <li>What is the mean (average) age?</li>\n",
    "    <li>How many rows and columns are there in the dataset?</li>\n",
    "    </ul>\n",
    "</div>"
   ]
  },
  {
   "cell_type": "code",
   "execution_count": 11,
   "metadata": {
    "solution2": "hidden"
   },
   "outputs": [
    {
     "name": "stdout",
     "output_type": "stream",
     "text": [
      "spec_tbl_df [54 x 4] (S3: spec_tbl_df/tbl_df/tbl/data.frame)\n",
      " $ Sex     : chr [1:54] \"Male\" \"Female\" \"Male\" \"Female\" ...\n",
      " $ Age     : num [1:54] 44 30 32 43 38 39 41 34 29 38 ...\n",
      " $ Location: chr [1:54] \"UK\" \"UK\" \"UK\" \"UK\" ...\n",
      " $ Region  : chr [1:54] \"Suffolk\" \"Greater London\" \"Oxfordshire\" \"Somerset\" ...\n",
      " - attr(*, \"spec\")=\n",
      "  .. cols(\n",
      "  ..   Sex = col_character(),\n",
      "  ..   Age = col_double(),\n",
      "  ..   Location = col_character(),\n",
      "  ..   Region = col_character()\n",
      "  .. )\n"
     ]
    }
   ],
   "source": [
    "str(applicant_data)"
   ]
  },
  {
   "cell_type": "code",
   "execution_count": 12,
   "metadata": {
    "solution2": "hidden"
   },
   "outputs": [
    {
     "data": {
      "text/plain": [
       "     Sex                 Age          Location            Region         \n",
       " Length:54          Min.   :24.00   Length:54          Length:54         \n",
       " Class :character   1st Qu.:31.25   Class :character   Class :character  \n",
       " Mode  :character   Median :36.00   Mode  :character   Mode  :character  \n",
       "                    Mean   :35.93                                        \n",
       "                    3rd Qu.:41.00                                        \n",
       "                    Max.   :53.00                                        "
      ]
     },
     "metadata": {},
     "output_type": "display_data"
    }
   ],
   "source": [
    "summary(applicant_data)"
   ]
  },
  {
   "cell_type": "code",
   "execution_count": 13,
   "metadata": {
    "solution2": "hidden"
   },
   "outputs": [
    {
     "data": {
      "text/html": [
       "<ol class=list-inline>\n",
       "\t<li>54</li>\n",
       "\t<li>4</li>\n",
       "</ol>\n"
      ],
      "text/latex": [
       "\\begin{enumerate*}\n",
       "\\item 54\n",
       "\\item 4\n",
       "\\end{enumerate*}\n"
      ],
      "text/markdown": [
       "1. 54\n",
       "2. 4\n",
       "\n",
       "\n"
      ],
      "text/plain": [
       "[1] 54  4"
      ]
     },
     "metadata": {},
     "output_type": "display_data"
    }
   ],
   "source": [
    "dim(applicant_data)"
   ]
  },
  {
   "cell_type": "markdown",
   "metadata": {
    "solution2": "hidden"
   },
   "source": [
    "1. Sex = chr, Age = num, Location = chr, Region = chr\n",
    "2. The mean age is 35.93 or 36 rounded up ($M = 35.93$)\n",
    "3. There are 4 columns and 54 rows"
   ]
  },
  {
   "cell_type": "code",
   "execution_count": 9,
   "metadata": {},
   "outputs": [
    {
     "name": "stdout",
     "output_type": "stream",
     "text": [
      "Classes 'spec_tbl_df', 'tbl_df', 'tbl' and 'data.frame':\t54 obs. of  4 variables:\n",
      " $ Sex     : chr  \"Male\" \"Female\" \"Male\" \"Female\" ...\n",
      " $ Age     : num  44 30 32 43 38 39 41 34 29 38 ...\n",
      " $ Location: chr  \"UK\" \"UK\" \"UK\" \"UK\" ...\n",
      " $ Region  : chr  \"Suffolk\" \"Greater London\" \"Oxfordshire\" \"Somerset\" ...\n",
      " - attr(*, \"spec\")=\n",
      "  .. cols(\n",
      "  ..   Sex = col_character(),\n",
      "  ..   Age = col_double(),\n",
      "  ..   Location = col_character(),\n",
      "  ..   Region = col_character()\n",
      "  .. )\n"
     ]
    }
   ],
   "source": []
  },
  {
   "cell_type": "code",
   "execution_count": 12,
   "metadata": {},
   "outputs": [
    {
     "data": {
      "text/plain": [
       "     Sex                 Age          Location            Region         \n",
       " Length:54          Min.   :24.00   Length:54          Length:54         \n",
       " Class :character   1st Qu.:31.25   Class :character   Class :character  \n",
       " Mode  :character   Median :36.00   Mode  :character   Mode  :character  \n",
       "                    Mean   :35.93                                        \n",
       "                    3rd Qu.:41.00                                        \n",
       "                    Max.   :53.00                                        "
      ]
     },
     "metadata": {},
     "output_type": "display_data"
    }
   ],
   "source": []
  },
  {
   "cell_type": "code",
   "execution_count": null,
   "metadata": {},
   "outputs": [],
   "source": []
  },
  {
   "cell_type": "markdown",
   "metadata": {},
   "source": [
    "Although these various functions are useful for understanding some of the characteristics of datasets, visualisations can also be a powerful way of assessing data characteristics and relationships. Let's take a look at some of the visualisations we can use to explore datasets. This is often done to better understand the characteristics of data. For example the underlying distribution of data which affects the statistical methods that can be applied to the data. It can also be used to look for features like outliers and also to explore the potential differences in groups or possible relationships.   "
   ]
  },
  {
   "cell_type": "markdown",
   "metadata": {},
   "source": [
    "<a id=\"explore\"></a>\n",
    "#### 2.2 The distribution of a dataset"
   ]
  },
  {
   "cell_type": "markdown",
   "metadata": {},
   "source": [
    "We will use a couple of different data sets in this notebook interchangeably. Let's begin by loading in some data on breast cancer. You can read more about the dataset here: <a href=\"https://ispypatient.org/about-i-spy-2/\" target=\"_blank\">I-SPY 2 Trial</a>. For this notebook we are more interested in the characteristics of the dataset than the data itself. Once loaded we will use the <code>head</code> function to display the first few rows so we can see what these data look like."
   ]
  },
  {
   "cell_type": "code",
   "execution_count": 14,
   "metadata": {},
   "outputs": [
    {
     "name": "stderr",
     "output_type": "stream",
     "text": [
      "Parsed with column specification:\n",
      "cols(\n",
      "  Patient_ID = col_double(),\n",
      "  Arm = col_character(),\n",
      "  HR = col_double(),\n",
      "  HER2 = col_double(),\n",
      "  MP = col_double(),\n",
      "  pCR = col_double(),\n",
      "  Age_at_Screening = col_double(),\n",
      "  Race = col_character(),\n",
      "  menopausal_status = col_character(),\n",
      "  ethnicity = col_character()\n",
      ")\n"
     ]
    }
   ],
   "source": [
    "breast_data <- read_csv(\"./data/ISPY2 Imaging Cohort 1 Clinical Data.csv\")"
   ]
  },
  {
   "cell_type": "code",
   "execution_count": 15,
   "metadata": {},
   "outputs": [
    {
     "data": {
      "text/html": [
       "<table>\n",
       "<thead><tr><th scope=col>Patient_ID</th><th scope=col>Arm</th><th scope=col>HR</th><th scope=col>HER2</th><th scope=col>MP</th><th scope=col>pCR</th><th scope=col>Age_at_Screening</th><th scope=col>Race</th><th scope=col>menopausal_status</th><th scope=col>ethnicity</th></tr></thead>\n",
       "<tbody>\n",
       "\t<tr><td>756412                                                                                                   </td><td>Paclitaxel + ABT 888 + Carboplatin                                                                       </td><td>1                                                                                                        </td><td>0                                                                                                        </td><td>0                                                                                                        </td><td>0                                                                                                        </td><td>46                                                                                                       </td><td><span style=white-space:pre-wrap>White                    </span>                                        </td><td>Premenopausal(&lt; 6 months since LMP AND no prior bilateral ovariectomy AND not on estrogen replacement)</td><td>Not Hispanic or Latino                                                                                   </td></tr>\n",
       "\t<tr><td>111881                                                                                                   </td><td><span style=white-space:pre-wrap>Paclitaxel + Neratinib            </span>                               </td><td>1                                                                                                        </td><td>1                                                                                                        </td><td>1                                                                                                        </td><td>1                                                                                                        </td><td>37                                                                                                       </td><td><span style=white-space:pre-wrap>White                    </span>                                        </td><td>Premenopausal(&lt;6 months since LMP AND no prior bilateral ovariectomy AND not on estrogen replacement) </td><td>Not Hispanic or Latino                                                                                   </td></tr>\n",
       "\t<tr><td>451816                                                                                                   </td><td>Paclitaxel + ABT 888 + Carboplatin                                                                       </td><td>1                                                                                                        </td><td>0                                                                                                        </td><td>0                                                                                                        </td><td>0                                                                                                        </td><td>43                                                                                                       </td><td><span style=white-space:pre-wrap>White                    </span>                                        </td><td>Premenopausal(&lt; 6 months since LMP AND no prior bilateral ovariectomy AND not on estrogen replacement)</td><td>Not Hispanic or Latino                                                                                   </td></tr>\n",
       "\t<tr><td>243836                                                                                                   </td><td><span style=white-space:pre-wrap>Paclitaxel + Neratinib            </span>                               </td><td>1                                                                                                        </td><td>0                                                                                                        </td><td>1                                                                                                        </td><td>1                                                                                                        </td><td>31                                                                                                       </td><td><span style=white-space:pre-wrap>White                    </span>                                        </td><td>Premenopausal(&lt; 6 months since LMP AND no prior bilateral ovariectomy AND not on estrogen replacement)</td><td>Not Hispanic or Latino                                                                                   </td></tr>\n",
       "\t<tr><td>402265                                                                                                                                           </td><td><span style=white-space:pre-wrap>Paclitaxel + Trastuzumab          </span>                                                                       </td><td>1                                                                                                                                                </td><td>1                                                                                                                                                </td><td>0                                                                                                                                                </td><td>0                                                                                                                                                </td><td>56                                                                                                                                               </td><td><span style=white-space:pre-wrap>White                    </span>                                                                                </td><td><span style=white-space:pre-wrap>Postmenopausal (prior bilateral ovariectomy OR &gt; 12 months since LMP with no prior hysterectomy)      </span></td><td>Not Hispanic or Latino                                                                                                                           </td></tr>\n",
       "\t<tr><td>611662                                                                                                                                           </td><td><span style=white-space:pre-wrap>Paclitaxel + Neratinib            </span>                                                                       </td><td>0                                                                                                                                                </td><td>1                                                                                                                                                </td><td>0                                                                                                                                                </td><td>0                                                                                                                                                </td><td>55                                                                                                                                               </td><td>Black or African American                                                                                                                        </td><td><span style=white-space:pre-wrap>Postmenopausal (prior bilateral ovariectomy OR &gt; 12 months since LMP with no prior hysterectomy)      </span></td><td>Not Hispanic or Latino                                                                                                                           </td></tr>\n",
       "</tbody>\n",
       "</table>\n"
      ],
      "text/latex": [
       "\\begin{tabular}{r|llllllllll}\n",
       " Patient\\_ID & Arm & HR & HER2 & MP & pCR & Age\\_at\\_Screening & Race & menopausal\\_status & ethnicity\\\\\n",
       "\\hline\n",
       "\t 756412                                                                                                 & Paclitaxel + ABT 888 + Carboplatin                                                                     & 1                                                                                                      & 0                                                                                                      & 0                                                                                                      & 0                                                                                                      & 46                                                                                                     & White                                                                                                  & Premenopausal(< 6 months since LMP AND no prior bilateral ovariectomy AND not on estrogen replacement) & Not Hispanic or Latino                                                                                \\\\\n",
       "\t 111881                                                                                                 & Paclitaxel + Neratinib                                                                                 & 1                                                                                                      & 1                                                                                                      & 1                                                                                                      & 1                                                                                                      & 37                                                                                                     & White                                                                                                  & Premenopausal(<6 months since LMP AND no prior bilateral ovariectomy AND not on estrogen replacement)  & Not Hispanic or Latino                                                                                \\\\\n",
       "\t 451816                                                                                                 & Paclitaxel + ABT 888 + Carboplatin                                                                     & 1                                                                                                      & 0                                                                                                      & 0                                                                                                      & 0                                                                                                      & 43                                                                                                     & White                                                                                                  & Premenopausal(< 6 months since LMP AND no prior bilateral ovariectomy AND not on estrogen replacement) & Not Hispanic or Latino                                                                                \\\\\n",
       "\t 243836                                                                                                 & Paclitaxel + Neratinib                                                                                 & 1                                                                                                      & 0                                                                                                      & 1                                                                                                      & 1                                                                                                      & 31                                                                                                     & White                                                                                                  & Premenopausal(< 6 months since LMP AND no prior bilateral ovariectomy AND not on estrogen replacement) & Not Hispanic or Latino                                                                                \\\\\n",
       "\t 402265                                                                                                 & Paclitaxel + Trastuzumab                                                                               & 1                                                                                                      & 1                                                                                                      & 0                                                                                                      & 0                                                                                                      & 56                                                                                                     & White                                                                                                  & Postmenopausal (prior bilateral ovariectomy OR > 12 months since LMP with no prior hysterectomy)       & Not Hispanic or Latino                                                                                \\\\\n",
       "\t 611662                                                                                                 & Paclitaxel + Neratinib                                                                                 & 0                                                                                                      & 1                                                                                                      & 0                                                                                                      & 0                                                                                                      & 55                                                                                                     & Black or African American                                                                              & Postmenopausal (prior bilateral ovariectomy OR > 12 months since LMP with no prior hysterectomy)       & Not Hispanic or Latino                                                                                \\\\\n",
       "\\end{tabular}\n"
      ],
      "text/markdown": [
       "\n",
       "| Patient_ID | Arm | HR | HER2 | MP | pCR | Age_at_Screening | Race | menopausal_status | ethnicity |\n",
       "|---|---|---|---|---|---|---|---|---|---|\n",
       "| 756412                                                                                                 | Paclitaxel + ABT 888 + Carboplatin                                                                     | 1                                                                                                      | 0                                                                                                      | 0                                                                                                      | 0                                                                                                      | 46                                                                                                     | White                                                                                                  | Premenopausal(< 6 months since LMP AND no prior bilateral ovariectomy AND not on estrogen replacement) | Not Hispanic or Latino                                                                                 |\n",
       "| 111881                                                                                                 | Paclitaxel + Neratinib                                                                                 | 1                                                                                                      | 1                                                                                                      | 1                                                                                                      | 1                                                                                                      | 37                                                                                                     | White                                                                                                  | Premenopausal(<6 months since LMP AND no prior bilateral ovariectomy AND not on estrogen replacement)  | Not Hispanic or Latino                                                                                 |\n",
       "| 451816                                                                                                 | Paclitaxel + ABT 888 + Carboplatin                                                                     | 1                                                                                                      | 0                                                                                                      | 0                                                                                                      | 0                                                                                                      | 43                                                                                                     | White                                                                                                  | Premenopausal(< 6 months since LMP AND no prior bilateral ovariectomy AND not on estrogen replacement) | Not Hispanic or Latino                                                                                 |\n",
       "| 243836                                                                                                 | Paclitaxel + Neratinib                                                                                 | 1                                                                                                      | 0                                                                                                      | 1                                                                                                      | 1                                                                                                      | 31                                                                                                     | White                                                                                                  | Premenopausal(< 6 months since LMP AND no prior bilateral ovariectomy AND not on estrogen replacement) | Not Hispanic or Latino                                                                                 |\n",
       "| 402265                                                                                                 | Paclitaxel + Trastuzumab                                                                               | 1                                                                                                      | 1                                                                                                      | 0                                                                                                      | 0                                                                                                      | 56                                                                                                     | White                                                                                                  | Postmenopausal (prior bilateral ovariectomy OR > 12 months since LMP with no prior hysterectomy)       | Not Hispanic or Latino                                                                                 |\n",
       "| 611662                                                                                                 | Paclitaxel + Neratinib                                                                                 | 0                                                                                                      | 1                                                                                                      | 0                                                                                                      | 0                                                                                                      | 55                                                                                                     | Black or African American                                                                              | Postmenopausal (prior bilateral ovariectomy OR > 12 months since LMP with no prior hysterectomy)       | Not Hispanic or Latino                                                                                 |\n",
       "\n"
      ],
      "text/plain": [
       "  Patient_ID Arm                                HR HER2 MP pCR Age_at_Screening\n",
       "1 756412     Paclitaxel + ABT 888 + Carboplatin 1  0    0  0   46              \n",
       "2 111881     Paclitaxel + Neratinib             1  1    1  1   37              \n",
       "3 451816     Paclitaxel + ABT 888 + Carboplatin 1  0    0  0   43              \n",
       "4 243836     Paclitaxel + Neratinib             1  0    1  1   31              \n",
       "5 402265     Paclitaxel + Trastuzumab           1  1    0  0   56              \n",
       "6 611662     Paclitaxel + Neratinib             0  1    0  0   55              \n",
       "  Race                     \n",
       "1 White                    \n",
       "2 White                    \n",
       "3 White                    \n",
       "4 White                    \n",
       "5 White                    \n",
       "6 Black or African American\n",
       "  menopausal_status                                                                                     \n",
       "1 Premenopausal(< 6 months since LMP AND no prior bilateral ovariectomy AND not on estrogen replacement)\n",
       "2 Premenopausal(<6 months since LMP AND no prior bilateral ovariectomy AND not on estrogen replacement) \n",
       "3 Premenopausal(< 6 months since LMP AND no prior bilateral ovariectomy AND not on estrogen replacement)\n",
       "4 Premenopausal(< 6 months since LMP AND no prior bilateral ovariectomy AND not on estrogen replacement)\n",
       "5 Postmenopausal (prior bilateral ovariectomy OR > 12 months since LMP with no prior hysterectomy)      \n",
       "6 Postmenopausal (prior bilateral ovariectomy OR > 12 months since LMP with no prior hysterectomy)      \n",
       "  ethnicity             \n",
       "1 Not Hispanic or Latino\n",
       "2 Not Hispanic or Latino\n",
       "3 Not Hispanic or Latino\n",
       "4 Not Hispanic or Latino\n",
       "5 Not Hispanic or Latino\n",
       "6 Not Hispanic or Latino"
      ]
     },
     "metadata": {},
     "output_type": "display_data"
    }
   ],
   "source": [
    "head(breast_data)"
   ]
  },
  {
   "cell_type": "markdown",
   "metadata": {},
   "source": [
    "R has some built in functionality for producing visualisations such as <code>histograms</code>."
   ]
  },
  {
   "cell_type": "code",
   "execution_count": 16,
   "metadata": {},
   "outputs": [
    {
     "data": {
      "image/png": "[encoded data removed]",
      "text/plain": [
       "Plot with title \"Histogram of breast_data$Age_at_Screening\""
      ]
     },
     "metadata": {},
     "output_type": "display_data"
    }
   ],
   "source": [
    "hist(breast_data$Age_at_Screening)"
   ]
  },
  {
   "cell_type": "markdown",
   "metadata": {},
   "source": [
    "Histograms can be used to show the spread of numerical data. We use <code>bins</code>/<code>buckets</code> to divide the range of values into logical intervals/ranges. The y-axis (vertical) shows the count or percentage of data in each column. This can be used to give an overall impression of the distribution of the different variables (columns/features) in a data set."
   ]
  },
  {
   "cell_type": "markdown",
   "metadata": {},
   "source": [
    "<div class=\"alert alert-danger\">\n",
    "<b>Note:</b> Many statistical tests make assumptions about the underlying distribution of variables. Therefore it is essential to explore this before applying tests.\n",
    "</div>"
   ]
  },
  {
   "cell_type": "markdown",
   "metadata": {},
   "source": [
    "When working with data it is important to be familiar with some of the commonly occurring distributions that are encountered. Take a look at this resource <a href=\"https://seeing-theory.brown.edu/probability-distributions/index.html\" target=\"_blank\">Probability Distributions</a> and specifically the <code>normal</code>, <code>uniform</code>, <code>bernoulli</code> and <code>poisson</code> distributions."
   ]
  },
  {
   "cell_type": "markdown",
   "metadata": {},
   "source": [
    "The <code>central limit theorem</code> states that in many cases, the sum (sometimes average) of independent random variables tends towards a <code>normal distribution</code>. This is also sometimes called a <code>Gaussian</code> distribution or simply a <code>bell curve</code> due to the shape it forms. Many statistical tests assume that the distribution of data follows this (or a similar) distribution (e.g. t-tests, analysis of variance ANOVA and linear regression). If this is not the case, there are non-parametric equivalents of these tests for non-normally distributed data that usually apply ranking of data points (e.g. Mann-Whitney U tests, Friedman/Kruskal Wallis tests etc.). This is why examination of the underlying data distribution is essential before applying certain statistical tests that are based on assumptions about the underlying data. We don't cover running/applying statistical analysis in this unit as we are more concerned with ensuring the data is in the correct format and representation in order to do these tests."
   ]
  },
  {
   "cell_type": "markdown",
   "metadata": {},
   "source": [
    "<img src=\"./images/normal.png\" width=\"30%\" align=\"center\" />"
   ]
  },
  {
   "cell_type": "markdown",
   "metadata": {},
   "source": [
    "We can use a few functions in Python to recreate a normal distribution for reference. Again don't worry about understanding the code at this stage we will break this down when we create our own visualisations later. "
   ]
  },
  {
   "cell_type": "code",
   "execution_count": 18,
   "metadata": {},
   "outputs": [
    {
     "data": {
      "image/png": "[encoded data removed]",
      "text/plain": [
       "Plot with title \"density.default(x = dist)\""
      ]
     },
     "metadata": {},
     "output_type": "display_data"
    }
   ],
   "source": [
    "dist <- rnorm(1000)\n",
    "den <- density(dist)\n",
    "plot(den, frame=FALSE, col=\"blue\")"
   ]
  },
  {
   "cell_type": "markdown",
   "metadata": {},
   "source": [
    "The plot above is called a <code>density</code> plot (kernel density plot) and is also frequently used to explore the distribution of data. It shows the distribution of data over a time period or series of intervals. It works like a histogram but smooths the the noise using something called kernel smoothing. This kind of plot is better for showing the shape of the data. The shape is often an important feature and has certain mathematical properties. "
   ]
  },
  {
   "cell_type": "markdown",
   "metadata": {},
   "source": [
    "The following plot shows negatively skewed data. You can determine a positive or negative skew by looking at the tail of the distribution. If the tail is pointing to the lower end of the numbers (to the left) then it is negatively skewed. If the tail points to the right it is positively skewed."
   ]
  },
  {
   "cell_type": "code",
   "execution_count": 19,
   "metadata": {},
   "outputs": [
    {
     "data": {
      "image/png": "[encoded data removed]",
      "text/plain": [
       "Plot with title \"Histogram of rbeta(10000, 100, 1) * 10\""
      ]
     },
     "metadata": {},
     "output_type": "display_data"
    }
   ],
   "source": [
    "set.seed(5)\n",
    "hist(rbeta(10000, 100, 1) * 10)"
   ]
  },
  {
   "cell_type": "markdown",
   "metadata": {},
   "source": [
    "This next plot shows positively skewed data."
   ]
  },
  {
   "cell_type": "code",
   "execution_count": 20,
   "metadata": {},
   "outputs": [
    {
     "data": {
      "image/png": "[encoded data removed]",
      "text/plain": [
       "Plot with title \"Histogram of rbeta(10000, 1, 100) * 10\""
      ]
     },
     "metadata": {},
     "output_type": "display_data"
    }
   ],
   "source": [
    "hist(rbeta(10000, 1, 100) * 10)"
   ]
  },
  {
   "cell_type": "markdown",
   "metadata": {},
   "source": [
    "<div class=\"alert alert-success\">\n",
    "<b>Note:</b> We can convert data so that it has a mean of 0 and a standard deviation of 1 using something called <code>z-scores</code>. This works by taking each value ($x$) and subtracting from the mean (of all values). This centres the data around 0. This is then divided by the standard deviation. \n",
    "    $$ z = \\frac{x-\\bar{x}}{sd} $$\n",
    "</div>"
   ]
  },
  {
   "cell_type": "markdown",
   "metadata": {
    "solution2": "hidden",
    "solution2_first": true
   },
   "source": [
    "<div class=\"alert alert-block alert-info\">\n",
    "<b>Task 2:</b>\n",
    "<br> \n",
    "    With regard to the <code>breast_data</code> above.<br>\n",
    "    1. What are the names of the distributions for the fields ('Patient_ID', 'Arm', 'HR', 'HER2', 'MP', 'pCR', 'Age_at_Screening') presented in the histograms above?<br>\n",
    "    2. Why are we only seeing histograms for some fields and not all them? What about 'Arm', 'Race', 'menopausal_status' and 'ethnicity'?    \n",
    "<br><br>\n",
    "    <strong>HINT:</strong> You may want to refer to the <a href=\"https://seeing-theory.brown.edu/probability-distributions/index.html\" target=\"_blank\">Probability Distributions</a> resource mentioned previously to check your answers.\n",
    "</div>"
   ]
  },
  {
   "cell_type": "markdown",
   "metadata": {
    "solution2": "hidden"
   },
   "source": [
    "The distributions are:\n",
    "- Patient_ID = Uniform\n",
    "- HR = Bernoulli\n",
    "- HER2 = Bernoulli\n",
    "- MP = Bernoulli\n",
    "- pCR = Bernoulli\n",
    "- Age_at_Screening = Normal (Gaussian)"
   ]
  },
  {
   "cell_type": "code",
   "execution_count": null,
   "metadata": {},
   "outputs": [],
   "source": []
  },
  {
   "cell_type": "markdown",
   "metadata": {},
   "source": [
    "Another plot that is often used to assess normality is the normal <code>QQ plot</code>. This shows the expected values (theoretical) against the actual values seen if the distribution were normal. If data is normal the data points should roughly follow the diagonal line (in red in the plot below). "
   ]
  },
  {
   "cell_type": "markdown",
   "metadata": {},
   "source": [
    "To test this we can make up some random data using the <code>rnorm</code> function. This ensures that the generated data follows a 'normal' distribution. Finally we plot the data with the <code>qqplot</code> function adding as 45&deg; line."
   ]
  },
  {
   "cell_type": "code",
   "execution_count": 21,
   "metadata": {
    "scrolled": true
   },
   "outputs": [
    {
     "data": {
      "image/png": "[encoded data removed]",
      "text/plain": [
       "Plot with title \"Normal Q-Q Plot\""
      ]
     },
     "metadata": {},
     "output_type": "display_data"
    }
   ],
   "source": [
    "plot_data <- rnorm(300)\n",
    "qqnorm(plot_data, pch=1, frame=FALSE)\n",
    "qqline(plot_data, col=\"red\", lwd=2)"
   ]
  },
  {
   "cell_type": "markdown",
   "metadata": {},
   "source": [
    "As we can in the plot above, the data is normally distributed as expected. The black data points closely follow the red line. Let's see if this is the case with a different data set."
   ]
  },
  {
   "cell_type": "code",
   "execution_count": 23,
   "metadata": {},
   "outputs": [
    {
     "name": "stderr",
     "output_type": "stream",
     "text": [
      "Parsed with column specification:\n",
      "cols(\n",
      "  Distance = col_double(),\n",
      "  `Mountain daisies` = col_double(),\n",
      "  Tussock = col_double(),\n",
      "  `Bog Pine` = col_double(),\n",
      "  Inaka = col_double(),\n",
      "  `Mountain Beech` = col_double()\n",
      ")\n"
     ]
    },
    {
     "data": {
      "text/html": [
       "<table>\n",
       "<thead><tr><th scope=col>Distance</th><th scope=col>Mountain daisies</th><th scope=col>Tussock</th><th scope=col>Bog Pine</th><th scope=col>Inaka</th><th scope=col>Mountain Beech</th></tr></thead>\n",
       "<tbody>\n",
       "\t<tr><td> 0</td><td>0 </td><td>2 </td><td>0 </td><td>0 </td><td>0 </td></tr>\n",
       "\t<tr><td> 2</td><td>0 </td><td>3 </td><td>1 </td><td>0 </td><td>0 </td></tr>\n",
       "\t<tr><td> 4</td><td>0 </td><td>4 </td><td>3 </td><td>2 </td><td>0 </td></tr>\n",
       "\t<tr><td> 6</td><td>0 </td><td>5 </td><td>1 </td><td>3 </td><td>0 </td></tr>\n",
       "\t<tr><td> 8</td><td>3 </td><td>3 </td><td>2 </td><td>2 </td><td>0 </td></tr>\n",
       "\t<tr><td>10</td><td>4 </td><td>2 </td><td>0 </td><td>4 </td><td>0 </td></tr>\n",
       "\t<tr><td>12</td><td>8 </td><td>1 </td><td>0 </td><td>5 </td><td>0 </td></tr>\n",
       "\t<tr><td>14</td><td>8 </td><td>0 </td><td>0 </td><td>3 </td><td>2 </td></tr>\n",
       "\t<tr><td>16</td><td>7 </td><td>0 </td><td>0 </td><td>2 </td><td>3 </td></tr>\n",
       "\t<tr><td>18</td><td>5 </td><td>0 </td><td>0 </td><td>0 </td><td>1 </td></tr>\n",
       "</tbody>\n",
       "</table>\n"
      ],
      "text/latex": [
       "\\begin{tabular}{r|llllll}\n",
       " Distance & Mountain daisies & Tussock & Bog Pine & Inaka & Mountain Beech\\\\\n",
       "\\hline\n",
       "\t  0 & 0  & 2  & 0  & 0  & 0 \\\\\n",
       "\t  2 & 0  & 3  & 1  & 0  & 0 \\\\\n",
       "\t  4 & 0  & 4  & 3  & 2  & 0 \\\\\n",
       "\t  6 & 0  & 5  & 1  & 3  & 0 \\\\\n",
       "\t  8 & 3  & 3  & 2  & 2  & 0 \\\\\n",
       "\t 10 & 4  & 2  & 0  & 4  & 0 \\\\\n",
       "\t 12 & 8  & 1  & 0  & 5  & 0 \\\\\n",
       "\t 14 & 8  & 0  & 0  & 3  & 2 \\\\\n",
       "\t 16 & 7  & 0  & 0  & 2  & 3 \\\\\n",
       "\t 18 & 5  & 0  & 0  & 0  & 1 \\\\\n",
       "\\end{tabular}\n"
      ],
      "text/markdown": [
       "\n",
       "| Distance | Mountain daisies | Tussock | Bog Pine | Inaka | Mountain Beech |\n",
       "|---|---|---|---|---|---|\n",
       "|  0 | 0  | 2  | 0  | 0  | 0  |\n",
       "|  2 | 0  | 3  | 1  | 0  | 0  |\n",
       "|  4 | 0  | 4  | 3  | 2  | 0  |\n",
       "|  6 | 0  | 5  | 1  | 3  | 0  |\n",
       "|  8 | 3  | 3  | 2  | 2  | 0  |\n",
       "| 10 | 4  | 2  | 0  | 4  | 0  |\n",
       "| 12 | 8  | 1  | 0  | 5  | 0  |\n",
       "| 14 | 8  | 0  | 0  | 3  | 2  |\n",
       "| 16 | 7  | 0  | 0  | 2  | 3  |\n",
       "| 18 | 5  | 0  | 0  | 0  | 1  |\n",
       "\n"
      ],
      "text/plain": [
       "   Distance Mountain daisies Tussock Bog Pine Inaka Mountain Beech\n",
       "1   0       0                2       0        0     0             \n",
       "2   2       0                3       1        0     0             \n",
       "3   4       0                4       3        2     0             \n",
       "4   6       0                5       1        3     0             \n",
       "5   8       3                3       2        2     0             \n",
       "6  10       4                2       0        4     0             \n",
       "7  12       8                1       0        5     0             \n",
       "8  14       8                0       0        3     2             \n",
       "9  16       7                0       0        2     3             \n",
       "10 18       5                0       0        0     1             "
      ]
     },
     "metadata": {},
     "output_type": "display_data"
    }
   ],
   "source": [
    "alpine_df <- read_csv(\"./data/alpine.csv\")\n",
    "head(alpine_df, 10)"
   ]
  },
  {
   "cell_type": "markdown",
   "metadata": {},
   "source": [
    "In the example below we can see that the data is <strong>not</strong> normally distributed. "
   ]
  },
  {
   "cell_type": "code",
   "execution_count": 28,
   "metadata": {},
   "outputs": [
    {
     "data": {
      "image/png": "[encoded data removed]",
      "text/plain": [
       "Plot with title \"Normal Q-Q Plot\""
      ]
     },
     "metadata": {},
     "output_type": "display_data"
    }
   ],
   "source": [
    "alpine_plot_data <- alpine_df$Tussock\n",
    "qqnorm(alpine_plot_data, pch=1, frame=FALSE)\n",
    "qqline(alpine_plot_data, col=\"red\", lwd=2)"
   ]
  },
  {
   "cell_type": "markdown",
   "metadata": {},
   "source": [
    "We can also plot a histogram to check. As you can see below this also indicated the data is not normally distributed. We could also confirm with additional statistical checks if we needed to provide additional quantitative evidence."
   ]
  },
  {
   "cell_type": "code",
   "execution_count": 29,
   "metadata": {},
   "outputs": [
    {
     "data": {
      "image/png": "[encoded data removed]",
      "text/plain": [
       "Plot with title \"Histogram of alpine_df$Tussock\""
      ]
     },
     "metadata": {},
     "output_type": "display_data"
    }
   ],
   "source": [
    "hist(alpine_df$Tussock)"
   ]
  },
  {
   "cell_type": "markdown",
   "metadata": {},
   "source": [
    "<div class=\"alert alert-success\">\n",
    "<strong>Note:</strong> Other methods for exploring normal distribution of data include:<br>\n",
    "    <ul>\n",
    "        <li>Looking at the Skew and Kurtosis</li>\n",
    "        <li>Plotting a histogram</li>\n",
    "        <li>A density plot</li>\n",
    "        <li>A QQ (Quantile-Quantile) plot</li>\n",
    "        <li>Using a statistical test i.e. Shapiro-Wilk test</li>\n",
    "    </ul>\n",
    "    <br />\n",
    "    It is often useful to use a combination of these methods to test for normality in a dataset.\n",
    "</div>"
   ]
  },
  {
   "cell_type": "markdown",
   "metadata": {},
   "source": [
    "Let's take a look at a different example using some data from an accident and emergency department (emergency room):"
   ]
  },
  {
   "cell_type": "code",
   "execution_count": 31,
   "metadata": {},
   "outputs": [
    {
     "data": {
      "text/html": [
       "<table>\n",
       "<thead><tr><th scope=col>Arrival.Month</th><th scope=col>day_type</th><th scope=col>Arrival.Day</th><th scope=col>Arrival.Hour</th><th scope=col>Arrival_Date_Time</th><th scope=col>Departure_Date_Time</th><th scope=col>Mins.on.AE</th><th scope=col>arrival_date_dt</th><th scope=col>Over.4.hrs</th><th scope=col>X4.to.12.hrs</th><th scope=col>...</th><th scope=col>Triage_Main_Code</th><th scope=col>Triage_Colour</th><th scope=col>Source_Of_Ref</th><th scope=col>Arrival_Mode</th><th scope=col>Attendance_Disposal</th><th scope=col>presenting_complaint</th><th scope=col>Attendance_Category</th><th scope=col>Arrival_To_Seen</th><th scope=col>Time_To_Initial_Asessment</th><th scope=col>Arrival_Mode_Code</th></tr></thead>\n",
       "<tbody>\n",
       "\t<tr><td>Jun-12                                 </td><td>Weekday                                </td><td>Fri                                    </td><td>0                                      </td><td>01-06-12 00:35                         </td><td>01-06-12 04:29                         </td><td>234                                    </td><td>01-Jun-12                              </td><td>0                                      </td><td>0                                      </td><td>...                                    </td><td>3                                      </td><td>YELLOW                                 </td><td>Emergency Services                     </td><td>Ambulance                              </td><td>Admissions                             </td><td>Intoxicated                            </td><td>First Accident And Emergency Attendance</td><td>164                                    </td><td> 1                                     </td><td>1                                      </td></tr>\n",
       "\t<tr><td>Jun-12                                 </td><td>Weekday                                </td><td>Fri                                    </td><td>0                                      </td><td>01-06-12 00:43                         </td><td>01-06-12 02:52                         </td><td>129                                    </td><td>01-Jun-12                              </td><td>0                                      </td><td>0                                      </td><td>...                                    </td><td>3                                      </td><td>YELLOW                                 </td><td>Self Referral                          </td><td>Ambulance                              </td><td>DNW                                    </td><td>Chest pain                             </td><td>First Accident And Emergency Attendance</td><td>129                                    </td><td> 0                                     </td><td>1                                      </td></tr>\n",
       "\t<tr><td>Jun-12                                                    </td><td>Weekday                                                   </td><td>Fri                                                       </td><td>0                                                         </td><td>01-06-12 00:48                                            </td><td>01-06-12 04:45                                            </td><td>237                                                       </td><td>01-Jun-12                                                 </td><td>0                                                         </td><td>0                                                         </td><td>...                                                       </td><td>4                                                         </td><td>GREEN                                                     </td><td><span style=white-space:pre-wrap>Self Referral     </span></td><td>Private Transport                                         </td><td>A&amp;E Review Clinic                                     </td><td><span style=white-space:pre-wrap>Wound          </span>   </td><td>First Accident And Emergency Attendance                   </td><td>175                                                       </td><td>77                                                        </td><td>2                                                         </td></tr>\n",
       "\t<tr><td>Jun-12                                 </td><td>Weekday                                </td><td>Fri                                    </td><td>0                                      </td><td>01-06-12 00:57                         </td><td>01-06-12 04:55                         </td><td>238                                    </td><td>01-Jun-12                              </td><td>0                                      </td><td>0                                      </td><td>...                                    </td><td>3                                      </td><td>YELLOW                                 </td><td>Self Referral                          </td><td>Ambulance                              </td><td>Admissions                             </td><td>Urine Problem                          </td><td>First Accident And Emergency Attendance</td><td>117                                    </td><td> 0                                     </td><td>1                                      </td></tr>\n",
       "\t<tr><td>Jun-12                                 </td><td>Weekday                                </td><td>Fri                                    </td><td>1                                      </td><td>01-06-12 01:02                         </td><td>01-06-12 05:01                         </td><td>239                                    </td><td>01-Jun-12                              </td><td>0                                      </td><td>0                                      </td><td>...                                    </td><td>4                                      </td><td>GREEN                                  </td><td>Self Referral                          </td><td>Ambulance                              </td><td>Admissions                             </td><td>Shoulder injury                        </td><td>First Accident And Emergency Attendance</td><td>161                                    </td><td> 0                                     </td><td>1                                      </td></tr>\n",
       "</tbody>\n",
       "</table>\n"
      ],
      "text/latex": [
       "\\begin{tabular}{r|lllllllllllllllllllll}\n",
       " Arrival.Month & day\\_type & Arrival.Day & Arrival.Hour & Arrival\\_Date\\_Time & Departure\\_Date\\_Time & Mins.on.AE & arrival\\_date\\_dt & Over.4.hrs & X4.to.12.hrs & ... & Triage\\_Main\\_Code & Triage\\_Colour & Source\\_Of\\_Ref & Arrival\\_Mode & Attendance\\_Disposal & presenting\\_complaint & Attendance\\_Category & Arrival\\_To\\_Seen & Time\\_To\\_Initial\\_Asessment & Arrival\\_Mode\\_Code\\\\\n",
       "\\hline\n",
       "\t Jun-12                                  & Weekday                                 & Fri                                     & 0                                       & 01-06-12 00:35                          & 01-06-12 04:29                          & 234                                     & 01-Jun-12                               & 0                                       & 0                                       & ...                                     & 3                                       & YELLOW                                  & Emergency Services                      & Ambulance                               & Admissions                              & Intoxicated                             & First Accident And Emergency Attendance & 164                                     &  1                                      & 1                                      \\\\\n",
       "\t Jun-12                                  & Weekday                                 & Fri                                     & 0                                       & 01-06-12 00:43                          & 01-06-12 02:52                          & 129                                     & 01-Jun-12                               & 0                                       & 0                                       & ...                                     & 3                                       & YELLOW                                  & Self Referral                           & Ambulance                               & DNW                                     & Chest pain                              & First Accident And Emergency Attendance & 129                                     &  0                                      & 1                                      \\\\\n",
       "\t Jun-12                                  & Weekday                                 & Fri                                     & 0                                       & 01-06-12 00:48                          & 01-06-12 04:45                          & 237                                     & 01-Jun-12                               & 0                                       & 0                                       & ...                                     & 4                                       & GREEN                                   & Self Referral                           & Private Transport                       & A\\&E Review Clinic                     & Wound                                   & First Accident And Emergency Attendance & 175                                     & 77                                      & 2                                      \\\\\n",
       "\t Jun-12                                  & Weekday                                 & Fri                                     & 0                                       & 01-06-12 00:57                          & 01-06-12 04:55                          & 238                                     & 01-Jun-12                               & 0                                       & 0                                       & ...                                     & 3                                       & YELLOW                                  & Self Referral                           & Ambulance                               & Admissions                              & Urine Problem                           & First Accident And Emergency Attendance & 117                                     &  0                                      & 1                                      \\\\\n",
       "\t Jun-12                                  & Weekday                                 & Fri                                     & 1                                       & 01-06-12 01:02                          & 01-06-12 05:01                          & 239                                     & 01-Jun-12                               & 0                                       & 0                                       & ...                                     & 4                                       & GREEN                                   & Self Referral                           & Ambulance                               & Admissions                              & Shoulder injury                         & First Accident And Emergency Attendance & 161                                     &  0                                      & 1                                      \\\\\n",
       "\\end{tabular}\n"
      ],
      "text/markdown": [
       "\n",
       "| Arrival.Month | day_type | Arrival.Day | Arrival.Hour | Arrival_Date_Time | Departure_Date_Time | Mins.on.AE | arrival_date_dt | Over.4.hrs | X4.to.12.hrs | ... | Triage_Main_Code | Triage_Colour | Source_Of_Ref | Arrival_Mode | Attendance_Disposal | presenting_complaint | Attendance_Category | Arrival_To_Seen | Time_To_Initial_Asessment | Arrival_Mode_Code |\n",
       "|---|---|---|---|---|---|---|---|---|---|---|---|---|---|---|---|---|---|---|---|---|\n",
       "| Jun-12                                  | Weekday                                 | Fri                                     | 0                                       | 01-06-12 00:35                          | 01-06-12 04:29                          | 234                                     | 01-Jun-12                               | 0                                       | 0                                       | ...                                     | 3                                       | YELLOW                                  | Emergency Services                      | Ambulance                               | Admissions                              | Intoxicated                             | First Accident And Emergency Attendance | 164                                     |  1                                      | 1                                       |\n",
       "| Jun-12                                  | Weekday                                 | Fri                                     | 0                                       | 01-06-12 00:43                          | 01-06-12 02:52                          | 129                                     | 01-Jun-12                               | 0                                       | 0                                       | ...                                     | 3                                       | YELLOW                                  | Self Referral                           | Ambulance                               | DNW                                     | Chest pain                              | First Accident And Emergency Attendance | 129                                     |  0                                      | 1                                       |\n",
       "| Jun-12                                  | Weekday                                 | Fri                                     | 0                                       | 01-06-12 00:48                          | 01-06-12 04:45                          | 237                                     | 01-Jun-12                               | 0                                       | 0                                       | ...                                     | 4                                       | GREEN                                   | Self Referral                           | Private Transport                       | A&E Review Clinic                       | Wound                                   | First Accident And Emergency Attendance | 175                                     | 77                                      | 2                                       |\n",
       "| Jun-12                                  | Weekday                                 | Fri                                     | 0                                       | 01-06-12 00:57                          | 01-06-12 04:55                          | 238                                     | 01-Jun-12                               | 0                                       | 0                                       | ...                                     | 3                                       | YELLOW                                  | Self Referral                           | Ambulance                               | Admissions                              | Urine Problem                           | First Accident And Emergency Attendance | 117                                     |  0                                      | 1                                       |\n",
       "| Jun-12                                  | Weekday                                 | Fri                                     | 1                                       | 01-06-12 01:02                          | 01-06-12 05:01                          | 239                                     | 01-Jun-12                               | 0                                       | 0                                       | ...                                     | 4                                       | GREEN                                   | Self Referral                           | Ambulance                               | Admissions                              | Shoulder injury                         | First Accident And Emergency Attendance | 161                                     |  0                                      | 1                                       |\n",
       "\n"
      ],
      "text/plain": [
       "  Arrival.Month day_type Arrival.Day Arrival.Hour Arrival_Date_Time\n",
       "1 Jun-12        Weekday  Fri         0            01-06-12 00:35   \n",
       "2 Jun-12        Weekday  Fri         0            01-06-12 00:43   \n",
       "3 Jun-12        Weekday  Fri         0            01-06-12 00:48   \n",
       "4 Jun-12        Weekday  Fri         0            01-06-12 00:57   \n",
       "5 Jun-12        Weekday  Fri         1            01-06-12 01:02   \n",
       "  Departure_Date_Time Mins.on.AE arrival_date_dt Over.4.hrs X4.to.12.hrs ...\n",
       "1 01-06-12 04:29      234        01-Jun-12       0          0            ...\n",
       "2 01-06-12 02:52      129        01-Jun-12       0          0            ...\n",
       "3 01-06-12 04:45      237        01-Jun-12       0          0            ...\n",
       "4 01-06-12 04:55      238        01-Jun-12       0          0            ...\n",
       "5 01-06-12 05:01      239        01-Jun-12       0          0            ...\n",
       "  Triage_Main_Code Triage_Colour Source_Of_Ref      Arrival_Mode     \n",
       "1 3                YELLOW        Emergency Services Ambulance        \n",
       "2 3                YELLOW        Self Referral      Ambulance        \n",
       "3 4                GREEN         Self Referral      Private Transport\n",
       "4 3                YELLOW        Self Referral      Ambulance        \n",
       "5 4                GREEN         Self Referral      Ambulance        \n",
       "  Attendance_Disposal presenting_complaint\n",
       "1 Admissions          Intoxicated         \n",
       "2 DNW                 Chest pain          \n",
       "3 A&E Review Clinic   Wound               \n",
       "4 Admissions          Urine Problem       \n",
       "5 Admissions          Shoulder injury     \n",
       "  Attendance_Category                     Arrival_To_Seen\n",
       "1 First Accident And Emergency Attendance 164            \n",
       "2 First Accident And Emergency Attendance 129            \n",
       "3 First Accident And Emergency Attendance 175            \n",
       "4 First Accident And Emergency Attendance 117            \n",
       "5 First Accident And Emergency Attendance 161            \n",
       "  Time_To_Initial_Asessment Arrival_Mode_Code\n",
       "1  1                        1                \n",
       "2  0                        1                \n",
       "3 77                        2                \n",
       "4  0                        1                \n",
       "5  0                        1                "
      ]
     },
     "metadata": {},
     "output_type": "display_data"
    }
   ],
   "source": [
    "ae_data <- read.csv(\"./data/A and E Data.csv\")\n",
    "head(ae_data, 5)"
   ]
  },
  {
   "cell_type": "markdown",
   "metadata": {},
   "source": [
    "Another useful plot for looking at the distribution of several numerical variables is the <code>box and whisker</code> or <code>boxplot</code>. Let's subset the numerical data from the categorical data like so:"
   ]
  },
  {
   "cell_type": "code",
   "execution_count": 32,
   "metadata": {},
   "outputs": [],
   "source": [
    "num_subset <- ae_data %>% select(c(\"Mins.on.AE\", \"Arrival_To_Seen\", \"Time_To_Initial_Asessment\"))"
   ]
  },
  {
   "cell_type": "markdown",
   "metadata": {},
   "source": [
    "We can see the data types are numeric <code>int</code>."
   ]
  },
  {
   "cell_type": "code",
   "execution_count": 33,
   "metadata": {},
   "outputs": [
    {
     "name": "stdout",
     "output_type": "stream",
     "text": [
      "'data.frame':\t230 obs. of  3 variables:\n",
      " $ Mins.on.AE               : int  234 129 237 238 239 240 35 238 114 171 ...\n",
      " $ Arrival_To_Seen          : int  164 129 175 117 161 208 35 0 114 146 ...\n",
      " $ Time_To_Initial_Asessment: int  1 0 77 0 0 2 12 0 7 0 ...\n"
     ]
    }
   ],
   "source": [
    "str(num_subset)"
   ]
  },
  {
   "cell_type": "code",
   "execution_count": 34,
   "metadata": {},
   "outputs": [
    {
     "data": {
      "text/html": [
       "<table>\n",
       "<thead><tr><th scope=col>Mins.on.AE</th><th scope=col>Arrival_To_Seen</th><th scope=col>Time_To_Initial_Asessment</th></tr></thead>\n",
       "<tbody>\n",
       "\t<tr><td>234</td><td>164</td><td> 1 </td></tr>\n",
       "\t<tr><td>129</td><td>129</td><td> 0 </td></tr>\n",
       "\t<tr><td>237</td><td>175</td><td>77 </td></tr>\n",
       "\t<tr><td>238</td><td>117</td><td> 0 </td></tr>\n",
       "\t<tr><td>239</td><td>161</td><td> 0 </td></tr>\n",
       "</tbody>\n",
       "</table>\n"
      ],
      "text/latex": [
       "\\begin{tabular}{r|lll}\n",
       " Mins.on.AE & Arrival\\_To\\_Seen & Time\\_To\\_Initial\\_Asessment\\\\\n",
       "\\hline\n",
       "\t 234 & 164 &  1 \\\\\n",
       "\t 129 & 129 &  0 \\\\\n",
       "\t 237 & 175 & 77 \\\\\n",
       "\t 238 & 117 &  0 \\\\\n",
       "\t 239 & 161 &  0 \\\\\n",
       "\\end{tabular}\n"
      ],
      "text/markdown": [
       "\n",
       "| Mins.on.AE | Arrival_To_Seen | Time_To_Initial_Asessment |\n",
       "|---|---|---|\n",
       "| 234 | 164 |  1  |\n",
       "| 129 | 129 |  0  |\n",
       "| 237 | 175 | 77  |\n",
       "| 238 | 117 |  0  |\n",
       "| 239 | 161 |  0  |\n",
       "\n"
      ],
      "text/plain": [
       "  Mins.on.AE Arrival_To_Seen Time_To_Initial_Asessment\n",
       "1 234        164              1                       \n",
       "2 129        129              0                       \n",
       "3 237        175             77                       \n",
       "4 238        117              0                       \n",
       "5 239        161              0                       "
      ]
     },
     "metadata": {},
     "output_type": "display_data"
    }
   ],
   "source": [
    "head(num_subset, 5)"
   ]
  },
  {
   "cell_type": "markdown",
   "metadata": {},
   "source": [
    "Below is an image displaying the anatomy of a boxplot. It shows the min and max values, median value and quartile ranges. Outliers are represented as circles."
   ]
  },
  {
   "cell_type": "markdown",
   "metadata": {},
   "source": [
    "<img src=\"./images/bp.png\" align=\"left\" />"
   ]
  },
  {
   "cell_type": "markdown",
   "metadata": {},
   "source": [
    "<strong>Source:</strong> towardsdatascience.com"
   ]
  },
  {
   "cell_type": "markdown",
   "metadata": {},
   "source": [
    "Let's see one in action with the A&E data. By default it displays numbers (e.g. 1, 2 and 3). "
   ]
  },
  {
   "cell_type": "code",
   "execution_count": 35,
   "metadata": {
    "scrolled": true
   },
   "outputs": [
    {
     "data": {
      "image/png": "[encoded data removed]",
      "text/plain": [
       "plot without title"
      ]
     },
     "metadata": {},
     "output_type": "display_data"
    }
   ],
   "source": [
    "boxplot(num_subset)"
   ]
  },
  {
   "cell_type": "markdown",
   "metadata": {},
   "source": [
    "A visualisation that shows similar information but better shows the shape of the data is a <code>violin</code> plot. You can see an example of one below on the same data from the <code>ggplot2</code> library. Here we first process the data by transforming it into two columns. The first contains the three column names and the next the values. The result of this is piped into the plotting function using the pipe operator <code>%&gt;%</code>. We also add a box plot to the violin plot to combine the value of the different information being shown."
   ]
  },
  {
   "cell_type": "code",
   "execution_count": 43,
   "metadata": {},
   "outputs": [
    {
     "data": {
      "image/png": "[encoded data removed]",
      "text/plain": [
       "plot without title"
      ]
     },
     "metadata": {},
     "output_type": "display_data"
    }
   ],
   "source": [
    "processed_data <- num_subset %>% \n",
    "    gather(Mins.on.AE, Arrival_To_Seen, Time_To_Initial_Asessment, key=col_var, value=val) %>% \n",
    "    ggplot(aes(x=col_var, y=val, fill=col_var)) +\n",
    "        geom_violin(trim=FALSE) +\n",
    "        geom_boxplot(width=0.1)\n",
    "processed_data"
   ]
  },
  {
   "cell_type": "markdown",
   "metadata": {},
   "source": [
    "<a id=\"meaning\"></a>\n",
    "#### 2.3 Meaningful visualisations"
   ]
  },
  {
   "cell_type": "markdown",
   "metadata": {},
   "source": [
    "Sometimes there is just too much data to sensibly visualise (or at least with certain types of plot). Also for the analysis and modeling of data, you may only be interested in a portion of the relevant data. For this we need to extract a <code>subset</code> of the data. Let's say we are only interested in the number of <code>Type 1</code> attendances that are greater than 0 for particular organizations. Here we extract just the columns <code>Org name</code> and <code>Number of A&amp;E attendances Type 1</code>."
   ]
  },
  {
   "cell_type": "code",
   "execution_count": 44,
   "metadata": {},
   "outputs": [
    {
     "data": {
      "text/html": [
       "<table>\n",
       "<thead><tr><th scope=col>Period</th><th scope=col>Org.Code</th><th scope=col>Parent.Org</th><th scope=col>Org.name</th><th scope=col>Number.of.A.E.attendances.Type.1</th><th scope=col>Number.of.A.E.attendances.Type.2</th><th scope=col>Number.of.A.E.attendances.Other.A.E.Department</th><th scope=col>Number.of.attendances.over.4hrs.Type.1</th><th scope=col>Number.of.attendances.over.4hrs.Type.2</th><th scope=col>Number.of.attendances.over.4hrs.Other.A.E.Department</th><th scope=col>Patients.who.have.waited.4.12.hs.from.DTA.to.admission</th><th scope=col>Patients.who.have.waited.12..hrs.from.DTA.to.admission</th><th scope=col>Emergency.admissions.via.A.E...Type.1</th><th scope=col>Emergency.admissions.via.A.E...Type.2</th><th scope=col>Emergency.admissions.via.A.E...Other.A.E.department</th><th scope=col>Other.emergency.admissions</th></tr></thead>\n",
       "<tbody>\n",
       "\t<tr><td>MSitAE-JANUARY-2020                             </td><td>NR3                                             </td><td>NHS ENGLAND MIDLANDS (NORTH MIDLANDS)           </td><td>NOTTINGHAM CITYCARE PARTNERSHIP                 </td><td>0                                               </td><td>0                                               </td><td>5223                                            </td><td>0                                               </td><td>0                                               </td><td>3                                               </td><td>0                                               </td><td>0                                               </td><td>0                                               </td><td>0                                               </td><td> 0                                              </td><td>  0                                             </td></tr>\n",
       "\t<tr><td>MSitAE-JANUARY-2020                             </td><td>RPC                                             </td><td>NHS ENGLAND SOUTH EAST (KENT, SURREY AND SUSSEX)</td><td>QUEEN VICTORIA HOSPITAL NHS FOUNDATION TRUST    </td><td>0                                               </td><td>0                                               </td><td> 987                                            </td><td>0                                               </td><td>0                                               </td><td>1                                               </td><td>0                                               </td><td>0                                               </td><td>0                                               </td><td>0                                               </td><td>11                                              </td><td>283                                             </td></tr>\n",
       "</tbody>\n",
       "</table>\n"
      ],
      "text/latex": [
       "\\begin{tabular}{r|llllllllllllllll}\n",
       " Period & Org.Code & Parent.Org & Org.name & Number.of.A.E.attendances.Type.1 & Number.of.A.E.attendances.Type.2 & Number.of.A.E.attendances.Other.A.E.Department & Number.of.attendances.over.4hrs.Type.1 & Number.of.attendances.over.4hrs.Type.2 & Number.of.attendances.over.4hrs.Other.A.E.Department & Patients.who.have.waited.4.12.hs.from.DTA.to.admission & Patients.who.have.waited.12..hrs.from.DTA.to.admission & Emergency.admissions.via.A.E...Type.1 & Emergency.admissions.via.A.E...Type.2 & Emergency.admissions.via.A.E...Other.A.E.department & Other.emergency.admissions\\\\\n",
       "\\hline\n",
       "\t MSitAE-JANUARY-2020                              & NR3                                              & NHS ENGLAND MIDLANDS (NORTH MIDLANDS)            & NOTTINGHAM CITYCARE PARTNERSHIP                  & 0                                                & 0                                                & 5223                                             & 0                                                & 0                                                & 3                                                & 0                                                & 0                                                & 0                                                & 0                                                &  0                                               &   0                                             \\\\\n",
       "\t MSitAE-JANUARY-2020                              & RPC                                              & NHS ENGLAND SOUTH EAST (KENT, SURREY AND SUSSEX) & QUEEN VICTORIA HOSPITAL NHS FOUNDATION TRUST     & 0                                                & 0                                                &  987                                             & 0                                                & 0                                                & 1                                                & 0                                                & 0                                                & 0                                                & 0                                                & 11                                               & 283                                             \\\\\n",
       "\\end{tabular}\n"
      ],
      "text/markdown": [
       "\n",
       "| Period | Org.Code | Parent.Org | Org.name | Number.of.A.E.attendances.Type.1 | Number.of.A.E.attendances.Type.2 | Number.of.A.E.attendances.Other.A.E.Department | Number.of.attendances.over.4hrs.Type.1 | Number.of.attendances.over.4hrs.Type.2 | Number.of.attendances.over.4hrs.Other.A.E.Department | Patients.who.have.waited.4.12.hs.from.DTA.to.admission | Patients.who.have.waited.12..hrs.from.DTA.to.admission | Emergency.admissions.via.A.E...Type.1 | Emergency.admissions.via.A.E...Type.2 | Emergency.admissions.via.A.E...Other.A.E.department | Other.emergency.admissions |\n",
       "|---|---|---|---|---|---|---|---|---|---|---|---|---|---|---|---|\n",
       "| MSitAE-JANUARY-2020                              | NR3                                              | NHS ENGLAND MIDLANDS (NORTH MIDLANDS)            | NOTTINGHAM CITYCARE PARTNERSHIP                  | 0                                                | 0                                                | 5223                                             | 0                                                | 0                                                | 3                                                | 0                                                | 0                                                | 0                                                | 0                                                |  0                                               |   0                                              |\n",
       "| MSitAE-JANUARY-2020                              | RPC                                              | NHS ENGLAND SOUTH EAST (KENT, SURREY AND SUSSEX) | QUEEN VICTORIA HOSPITAL NHS FOUNDATION TRUST     | 0                                                | 0                                                |  987                                             | 0                                                | 0                                                | 1                                                | 0                                                | 0                                                | 0                                                | 0                                                | 11                                               | 283                                              |\n",
       "\n"
      ],
      "text/plain": [
       "  Period              Org.Code Parent.Org                                      \n",
       "1 MSitAE-JANUARY-2020 NR3      NHS ENGLAND MIDLANDS (NORTH MIDLANDS)           \n",
       "2 MSitAE-JANUARY-2020 RPC      NHS ENGLAND SOUTH EAST (KENT, SURREY AND SUSSEX)\n",
       "  Org.name                                     Number.of.A.E.attendances.Type.1\n",
       "1 NOTTINGHAM CITYCARE PARTNERSHIP              0                               \n",
       "2 QUEEN VICTORIA HOSPITAL NHS FOUNDATION TRUST 0                               \n",
       "  Number.of.A.E.attendances.Type.2\n",
       "1 0                               \n",
       "2 0                               \n",
       "  Number.of.A.E.attendances.Other.A.E.Department\n",
       "1 5223                                          \n",
       "2  987                                          \n",
       "  Number.of.attendances.over.4hrs.Type.1 Number.of.attendances.over.4hrs.Type.2\n",
       "1 0                                      0                                     \n",
       "2 0                                      0                                     \n",
       "  Number.of.attendances.over.4hrs.Other.A.E.Department\n",
       "1 3                                                   \n",
       "2 1                                                   \n",
       "  Patients.who.have.waited.4.12.hs.from.DTA.to.admission\n",
       "1 0                                                     \n",
       "2 0                                                     \n",
       "  Patients.who.have.waited.12..hrs.from.DTA.to.admission\n",
       "1 0                                                     \n",
       "2 0                                                     \n",
       "  Emergency.admissions.via.A.E...Type.1 Emergency.admissions.via.A.E...Type.2\n",
       "1 0                                     0                                    \n",
       "2 0                                     0                                    \n",
       "  Emergency.admissions.via.A.E...Other.A.E.department\n",
       "1  0                                                 \n",
       "2 11                                                 \n",
       "  Other.emergency.admissions\n",
       "1   0                       \n",
       "2 283                       "
      ]
     },
     "metadata": {},
     "output_type": "display_data"
    }
   ],
   "source": [
    "ae_dataset <- read.csv(\"./data/January-2020-CSV-js7fh.csv\")\n",
    "head(ae_dataset, 2)"
   ]
  },
  {
   "cell_type": "markdown",
   "metadata": {},
   "source": [
    "Here is a subset stored in a variable called <code>type1</code>. This contains the organisations name and the number of type 1 attendances in A&E."
   ]
  },
  {
   "cell_type": "code",
   "execution_count": 47,
   "metadata": {},
   "outputs": [
    {
     "data": {
      "text/html": [
       "<table>\n",
       "<thead><tr><th scope=col>Org.name</th><th scope=col>Number.of.A.E.attendances.Type.1</th></tr></thead>\n",
       "<tbody>\n",
       "\t<tr><td>NOTTINGHAM CITYCARE PARTNERSHIP                     </td><td>   0                                                </td></tr>\n",
       "\t<tr><td>QUEEN VICTORIA HOSPITAL NHS FOUNDATION TRUST        </td><td>   0                                                </td></tr>\n",
       "\t<tr><td>WOKING WALK IN CENTRE                               </td><td>   0                                                </td></tr>\n",
       "\t<tr><td>ASHFORD WALK-IN-CENTRE                              </td><td>   0                                                </td></tr>\n",
       "\t<tr><td>PUTNOE MEDICAL CENTRE WALK IN CENTRE                </td><td>   0                                                </td></tr>\n",
       "\t<tr><td>NORWICH PRACTICES LTD                               </td><td>   0                                                </td></tr>\n",
       "\t<tr><td>LATHAM HOUSE MEDICAL PRACTICE                       </td><td>   0                                                </td></tr>\n",
       "\t<tr><td>SOUTHPORT AND ORMSKIRK HOSPITAL NHS TRUST           </td><td>7136                                                </td></tr>\n",
       "\t<tr><td>WORKINGTON HEALTH LIMITED                           </td><td>   0                                                </td></tr>\n",
       "\t<tr><td>GLOUCESTERSHIRE HEALTH AND CARE NHS FOUNDATION TRUST</td><td>   0                                                </td></tr>\n",
       "</tbody>\n",
       "</table>\n"
      ],
      "text/latex": [
       "\\begin{tabular}{r|ll}\n",
       " Org.name & Number.of.A.E.attendances.Type.1\\\\\n",
       "\\hline\n",
       "\t NOTTINGHAM CITYCARE PARTNERSHIP                      &    0                                                \\\\\n",
       "\t QUEEN VICTORIA HOSPITAL NHS FOUNDATION TRUST         &    0                                                \\\\\n",
       "\t WOKING WALK IN CENTRE                                &    0                                                \\\\\n",
       "\t ASHFORD WALK-IN-CENTRE                               &    0                                                \\\\\n",
       "\t PUTNOE MEDICAL CENTRE WALK IN CENTRE                 &    0                                                \\\\\n",
       "\t NORWICH PRACTICES LTD                                &    0                                                \\\\\n",
       "\t LATHAM HOUSE MEDICAL PRACTICE                        &    0                                                \\\\\n",
       "\t SOUTHPORT AND ORMSKIRK HOSPITAL NHS TRUST            & 7136                                                \\\\\n",
       "\t WORKINGTON HEALTH LIMITED                            &    0                                                \\\\\n",
       "\t GLOUCESTERSHIRE HEALTH AND CARE NHS FOUNDATION TRUST &    0                                                \\\\\n",
       "\\end{tabular}\n"
      ],
      "text/markdown": [
       "\n",
       "| Org.name | Number.of.A.E.attendances.Type.1 |\n",
       "|---|---|\n",
       "| NOTTINGHAM CITYCARE PARTNERSHIP                      |    0                                                 |\n",
       "| QUEEN VICTORIA HOSPITAL NHS FOUNDATION TRUST         |    0                                                 |\n",
       "| WOKING WALK IN CENTRE                                |    0                                                 |\n",
       "| ASHFORD WALK-IN-CENTRE                               |    0                                                 |\n",
       "| PUTNOE MEDICAL CENTRE WALK IN CENTRE                 |    0                                                 |\n",
       "| NORWICH PRACTICES LTD                                |    0                                                 |\n",
       "| LATHAM HOUSE MEDICAL PRACTICE                        |    0                                                 |\n",
       "| SOUTHPORT AND ORMSKIRK HOSPITAL NHS TRUST            | 7136                                                 |\n",
       "| WORKINGTON HEALTH LIMITED                            |    0                                                 |\n",
       "| GLOUCESTERSHIRE HEALTH AND CARE NHS FOUNDATION TRUST |    0                                                 |\n",
       "\n"
      ],
      "text/plain": [
       "   Org.name                                            \n",
       "1  NOTTINGHAM CITYCARE PARTNERSHIP                     \n",
       "2  QUEEN VICTORIA HOSPITAL NHS FOUNDATION TRUST        \n",
       "3  WOKING WALK IN CENTRE                               \n",
       "4  ASHFORD WALK-IN-CENTRE                              \n",
       "5  PUTNOE MEDICAL CENTRE WALK IN CENTRE                \n",
       "6  NORWICH PRACTICES LTD                               \n",
       "7  LATHAM HOUSE MEDICAL PRACTICE                       \n",
       "8  SOUTHPORT AND ORMSKIRK HOSPITAL NHS TRUST           \n",
       "9  WORKINGTON HEALTH LIMITED                           \n",
       "10 GLOUCESTERSHIRE HEALTH AND CARE NHS FOUNDATION TRUST\n",
       "   Number.of.A.E.attendances.Type.1\n",
       "1     0                            \n",
       "2     0                            \n",
       "3     0                            \n",
       "4     0                            \n",
       "5     0                            \n",
       "6     0                            \n",
       "7     0                            \n",
       "8  7136                            \n",
       "9     0                            \n",
       "10    0                            "
      ]
     },
     "metadata": {},
     "output_type": "display_data"
    }
   ],
   "source": [
    "type1 <- ae_dataset %>% select(c(\"Org.name\", \"Number.of.A.E.attendances.Type.1\"))\n",
    "head(type1, 10)"
   ]
  },
  {
   "cell_type": "markdown",
   "metadata": {},
   "source": [
    "Theres quite a lot of data with a zero value making the total number of rows 232."
   ]
  },
  {
   "cell_type": "code",
   "execution_count": 48,
   "metadata": {},
   "outputs": [
    {
     "data": {
      "text/html": [
       "232"
      ],
      "text/latex": [
       "232"
      ],
      "text/markdown": [
       "232"
      ],
      "text/plain": [
       "[1] 232"
      ]
     },
     "metadata": {},
     "output_type": "display_data"
    }
   ],
   "source": [
    "nrow(type1)"
   ]
  },
  {
   "cell_type": "markdown",
   "metadata": {},
   "source": [
    "Let's filter it further by only retaining data that is greater than (>) 0."
   ]
  },
  {
   "cell_type": "code",
   "execution_count": 49,
   "metadata": {},
   "outputs": [
    {
     "data": {
      "text/html": [
       "<table>\n",
       "<thead><tr><th scope=col>Org.name</th><th scope=col>Number.of.A.E.attendances.Type.1</th></tr></thead>\n",
       "<tbody>\n",
       "\t<tr><td>SOUTHPORT AND ORMSKIRK HOSPITAL NHS TRUST            </td><td> 7136                                                </td></tr>\n",
       "\t<tr><td>NORTH MIDDLESEX UNIVERSITY HOSPITAL NHS TRUST        </td><td> 9432                                                </td></tr>\n",
       "\t<tr><td>HULL UNIVERSITY TEACHING HOSPITALS NHS TRUST         </td><td>10922                                                </td></tr>\n",
       "\t<tr><td>NORTHERN DEVON HEALTHCARE NHS TRUST                  </td><td> 3743                                                </td></tr>\n",
       "\t<tr><td>BLACKPOOL TEACHING HOSPITALS NHS FOUNDATION TRUST    </td><td> 5916                                                </td></tr>\n",
       "\t<tr><td>YEOVIL DISTRICT HOSPITAL NHS FOUNDATION TRUST        </td><td> 4773                                                </td></tr>\n",
       "\t<tr><td>BRIGHTON AND SUSSEX UNIVERSITY HOSPITALS NHS TRUST   </td><td>13574                                                </td></tr>\n",
       "\t<tr><td>NORTH WEST ANGLIA NHS FOUNDATION TRUST               </td><td>13366                                                </td></tr>\n",
       "\t<tr><td>POOLE HOSPITAL NHS FOUNDATION TRUST                  </td><td> 5687                                                </td></tr>\n",
       "\t<tr><td>JAMES PAGET UNIVERSITY HOSPITALS NHS FOUNDATION TRUST</td><td> 6465                                                </td></tr>\n",
       "</tbody>\n",
       "</table>\n"
      ],
      "text/latex": [
       "\\begin{tabular}{r|ll}\n",
       " Org.name & Number.of.A.E.attendances.Type.1\\\\\n",
       "\\hline\n",
       "\t SOUTHPORT AND ORMSKIRK HOSPITAL NHS TRUST             &  7136                                                \\\\\n",
       "\t NORTH MIDDLESEX UNIVERSITY HOSPITAL NHS TRUST         &  9432                                                \\\\\n",
       "\t HULL UNIVERSITY TEACHING HOSPITALS NHS TRUST          & 10922                                                \\\\\n",
       "\t NORTHERN DEVON HEALTHCARE NHS TRUST                   &  3743                                                \\\\\n",
       "\t BLACKPOOL TEACHING HOSPITALS NHS FOUNDATION TRUST     &  5916                                                \\\\\n",
       "\t YEOVIL DISTRICT HOSPITAL NHS FOUNDATION TRUST         &  4773                                                \\\\\n",
       "\t BRIGHTON AND SUSSEX UNIVERSITY HOSPITALS NHS TRUST    & 13574                                                \\\\\n",
       "\t NORTH WEST ANGLIA NHS FOUNDATION TRUST                & 13366                                                \\\\\n",
       "\t POOLE HOSPITAL NHS FOUNDATION TRUST                   &  5687                                                \\\\\n",
       "\t JAMES PAGET UNIVERSITY HOSPITALS NHS FOUNDATION TRUST &  6465                                                \\\\\n",
       "\\end{tabular}\n"
      ],
      "text/markdown": [
       "\n",
       "| Org.name | Number.of.A.E.attendances.Type.1 |\n",
       "|---|---|\n",
       "| SOUTHPORT AND ORMSKIRK HOSPITAL NHS TRUST             |  7136                                                 |\n",
       "| NORTH MIDDLESEX UNIVERSITY HOSPITAL NHS TRUST         |  9432                                                 |\n",
       "| HULL UNIVERSITY TEACHING HOSPITALS NHS TRUST          | 10922                                                 |\n",
       "| NORTHERN DEVON HEALTHCARE NHS TRUST                   |  3743                                                 |\n",
       "| BLACKPOOL TEACHING HOSPITALS NHS FOUNDATION TRUST     |  5916                                                 |\n",
       "| YEOVIL DISTRICT HOSPITAL NHS FOUNDATION TRUST         |  4773                                                 |\n",
       "| BRIGHTON AND SUSSEX UNIVERSITY HOSPITALS NHS TRUST    | 13574                                                 |\n",
       "| NORTH WEST ANGLIA NHS FOUNDATION TRUST                | 13366                                                 |\n",
       "| POOLE HOSPITAL NHS FOUNDATION TRUST                   |  5687                                                 |\n",
       "| JAMES PAGET UNIVERSITY HOSPITALS NHS FOUNDATION TRUST |  6465                                                 |\n",
       "\n"
      ],
      "text/plain": [
       "   Org.name                                             \n",
       "1  SOUTHPORT AND ORMSKIRK HOSPITAL NHS TRUST            \n",
       "2  NORTH MIDDLESEX UNIVERSITY HOSPITAL NHS TRUST        \n",
       "3  HULL UNIVERSITY TEACHING HOSPITALS NHS TRUST         \n",
       "4  NORTHERN DEVON HEALTHCARE NHS TRUST                  \n",
       "5  BLACKPOOL TEACHING HOSPITALS NHS FOUNDATION TRUST    \n",
       "6  YEOVIL DISTRICT HOSPITAL NHS FOUNDATION TRUST        \n",
       "7  BRIGHTON AND SUSSEX UNIVERSITY HOSPITALS NHS TRUST   \n",
       "8  NORTH WEST ANGLIA NHS FOUNDATION TRUST               \n",
       "9  POOLE HOSPITAL NHS FOUNDATION TRUST                  \n",
       "10 JAMES PAGET UNIVERSITY HOSPITALS NHS FOUNDATION TRUST\n",
       "   Number.of.A.E.attendances.Type.1\n",
       "1   7136                           \n",
       "2   9432                           \n",
       "3  10922                           \n",
       "4   3743                           \n",
       "5   5916                           \n",
       "6   4773                           \n",
       "7  13574                           \n",
       "8  13366                           \n",
       "9   5687                           \n",
       "10  6465                           "
      ]
     },
     "metadata": {},
     "output_type": "display_data"
    }
   ],
   "source": [
    "type1_filtered <- type1 %>% filter(Number.of.A.E.attendances.Type.1 > 0)\n",
    "head(type1_filtered, 10)"
   ]
  },
  {
   "cell_type": "markdown",
   "metadata": {},
   "source": [
    "This has reduced the amount of rows a lot."
   ]
  },
  {
   "cell_type": "code",
   "execution_count": 50,
   "metadata": {},
   "outputs": [
    {
     "data": {
      "text/html": [
       "133"
      ],
      "text/latex": [
       "133"
      ],
      "text/markdown": [
       "133"
      ],
      "text/plain": [
       "[1] 133"
      ]
     },
     "metadata": {},
     "output_type": "display_data"
    }
   ],
   "source": [
    "nrow(type1_filtered)"
   ]
  },
  {
   "cell_type": "markdown",
   "metadata": {},
   "source": [
    "Let's make a bar plot with this data."
   ]
  },
  {
   "cell_type": "code",
   "execution_count": 52,
   "metadata": {},
   "outputs": [
    {
     "data": {
      "image/png": "[encoded data removed]",
      "text/plain": [
       "plot without title"
      ]
     },
     "metadata": {},
     "output_type": "display_data"
    }
   ],
   "source": [
    "ggplot(type1_filtered, aes(x=Org.name, y=Number.of.A.E.attendances.Type.1)) +\n",
    "    geom_bar(stat=\"identity\")"
   ]
  },
  {
   "cell_type": "markdown",
   "metadata": {
    "solution2": "hidden",
    "solution2_first": true
   },
   "source": [
    "<div class=\"alert alert-block alert-info\">\n",
    "<b>Task 3:</b>\n",
    "<br> \n",
    "With reference to the very high value on the right of the plot:<br>\n",
    "1. Look at the original data to try and determine where this very high value is coming from.<br/>\n",
    "    2. <strong>Hint:</strong> use the <code>tail()</code> function that works like the <code>head()</code> but shows the last few records instead of the first few.\n",
    "</div>"
   ]
  },
  {
   "cell_type": "code",
   "execution_count": 53,
   "metadata": {
    "solution2": "hidden"
   },
   "outputs": [
    {
     "data": {
      "text/html": [
       "<table>\n",
       "<thead><tr><th></th><th scope=col>Org.name</th><th scope=col>Number.of.A.E.attendances.Type.1</th></tr></thead>\n",
       "<tbody>\n",
       "\t<tr><th scope=row>128</th><td>ROYAL BERKSHIRE NHS FOUNDATION TRUST                    </td><td>  10357                                                 </td></tr>\n",
       "\t<tr><th scope=row>129</th><td>WIRRAL UNIVERSITY TEACHING HOSPITAL NHS FOUNDATION TRUST</td><td>   7187                                                 </td></tr>\n",
       "\t<tr><th scope=row>130</th><td>MAIDSTONE AND TUNBRIDGE WELLS NHS TRUST                 </td><td>  13941                                                 </td></tr>\n",
       "\t<tr><th scope=row>131</th><td>SHREWSBURY AND TELFORD HOSPITAL NHS TRUST               </td><td>   9422                                                 </td></tr>\n",
       "\t<tr><th scope=row>132</th><td>FRIMLEY HEALTH NHS FOUNDATION TRUST                     </td><td>  20216                                                 </td></tr>\n",
       "\t<tr><th scope=row>133</th><td>TOTAL                                                   </td><td>1327226                                                 </td></tr>\n",
       "</tbody>\n",
       "</table>\n"
      ],
      "text/latex": [
       "\\begin{tabular}{r|ll}\n",
       "  & Org.name & Number.of.A.E.attendances.Type.1\\\\\n",
       "\\hline\n",
       "\t128 & ROYAL BERKSHIRE NHS FOUNDATION TRUST                     &   10357                                                 \\\\\n",
       "\t129 & WIRRAL UNIVERSITY TEACHING HOSPITAL NHS FOUNDATION TRUST &    7187                                                 \\\\\n",
       "\t130 & MAIDSTONE AND TUNBRIDGE WELLS NHS TRUST                  &   13941                                                 \\\\\n",
       "\t131 & SHREWSBURY AND TELFORD HOSPITAL NHS TRUST                &    9422                                                 \\\\\n",
       "\t132 & FRIMLEY HEALTH NHS FOUNDATION TRUST                      &   20216                                                 \\\\\n",
       "\t133 & TOTAL                                                    & 1327226                                                 \\\\\n",
       "\\end{tabular}\n"
      ],
      "text/markdown": [
       "\n",
       "| <!--/--> | Org.name | Number.of.A.E.attendances.Type.1 |\n",
       "|---|---|---|\n",
       "| 128 | ROYAL BERKSHIRE NHS FOUNDATION TRUST                     |   10357                                                  |\n",
       "| 129 | WIRRAL UNIVERSITY TEACHING HOSPITAL NHS FOUNDATION TRUST |    7187                                                  |\n",
       "| 130 | MAIDSTONE AND TUNBRIDGE WELLS NHS TRUST                  |   13941                                                  |\n",
       "| 131 | SHREWSBURY AND TELFORD HOSPITAL NHS TRUST                |    9422                                                  |\n",
       "| 132 | FRIMLEY HEALTH NHS FOUNDATION TRUST                      |   20216                                                  |\n",
       "| 133 | TOTAL                                                    | 1327226                                                  |\n",
       "\n"
      ],
      "text/plain": [
       "    Org.name                                                \n",
       "128 ROYAL BERKSHIRE NHS FOUNDATION TRUST                    \n",
       "129 WIRRAL UNIVERSITY TEACHING HOSPITAL NHS FOUNDATION TRUST\n",
       "130 MAIDSTONE AND TUNBRIDGE WELLS NHS TRUST                 \n",
       "131 SHREWSBURY AND TELFORD HOSPITAL NHS TRUST               \n",
       "132 FRIMLEY HEALTH NHS FOUNDATION TRUST                     \n",
       "133 TOTAL                                                   \n",
       "    Number.of.A.E.attendances.Type.1\n",
       "128   10357                         \n",
       "129    7187                         \n",
       "130   13941                         \n",
       "131    9422                         \n",
       "132   20216                         \n",
       "133 1327226                         "
      ]
     },
     "metadata": {},
     "output_type": "display_data"
    }
   ],
   "source": [
    "tail(type1_filtered)"
   ]
  },
  {
   "cell_type": "code",
   "execution_count": null,
   "metadata": {},
   "outputs": [],
   "source": []
  },
  {
   "cell_type": "markdown",
   "metadata": {},
   "source": [
    "Looks like they included the total in the data. We can drop this very high value to get a better look at the data. It still looks pretty messy though."
   ]
  },
  {
   "cell_type": "code",
   "execution_count": 56,
   "metadata": {},
   "outputs": [
    {
     "data": {
      "image/png": "[encoded data removed]",
      "text/plain": [
       "plot without title"
      ]
     },
     "metadata": {},
     "output_type": "display_data"
    }
   ],
   "source": [
    "type1_filtered <- type1_filtered %>% filter(Org.name != 'TOTAL')\n",
    "ggplot(type1_filtered, aes(x=Org.name, y=Number.of.A.E.attendances.Type.1)) +\n",
    "    geom_bar(stat=\"identity\")"
   ]
  },
  {
   "cell_type": "markdown",
   "metadata": {},
   "source": [
    "We can look for the top 10 organisations with the most A&E attendances. We arrange by descending order using the <code>arrange</code> and <code>desc</code> functions and finally take a slice of 10 items using the <code>slice</code> function."
   ]
  },
  {
   "cell_type": "code",
   "execution_count": 57,
   "metadata": {},
   "outputs": [],
   "source": [
    "top_ten <- type1_filtered %>% \n",
    "    arrange(desc(Number.of.A.E.attendances.Type.1)) %>%\n",
    "    slice(1:10)"
   ]
  },
  {
   "cell_type": "markdown",
   "metadata": {},
   "source": [
    "If we try to just plot this data it still won't be ordered properly. We need to use the <code>reorder</code> option here to force the plot to order the bars correctly. Finally we will rotate the axis labels so they are readable."
   ]
  },
  {
   "cell_type": "code",
   "execution_count": 59,
   "metadata": {},
   "outputs": [
    {
     "data": {
      "image/png": "[encoded data removed]",
      "text/plain": [
       "plot without title"
      ]
     },
     "metadata": {},
     "output_type": "display_data"
    }
   ],
   "source": [
    "ggplot(top_ten, aes(x=reorder(Org.name, -Number.of.A.E.attendances.Type.1), y=Number.of.A.E.attendances.Type.1)) +\n",
    "    geom_bar(stat=\"identity\") +\n",
    "    theme(axis.text.x=element_text(angle=90, hjust=1))"
   ]
  },
  {
   "cell_type": "markdown",
   "metadata": {},
   "source": [
    "Sometimes you need to do a lot of filtering and sub-setting to achieve the required visualisation. Was this the best type of plot to show so much information? We could have opted for something like a scatter plot instead."
   ]
  },
  {
   "cell_type": "code",
   "execution_count": 60,
   "metadata": {},
   "outputs": [
    {
     "data": {
      "image/png": "[encoded data removed]",
      "text/plain": [
       "plot without title"
      ]
     },
     "metadata": {},
     "output_type": "display_data"
    }
   ],
   "source": [
    "ggplot(type1_filtered, aes(x=Org.name, y=Number.of.A.E.attendances.Type.1)) +\n",
    "    geom_point(size=2)"
   ]
  },
  {
   "cell_type": "markdown",
   "metadata": {},
   "source": [
    "This is still a bit messy as we can't read all the organisation names. We could make it an interactive plot. Here we can hover over the data points to read the values."
   ]
  },
  {
   "cell_type": "code",
   "execution_count": 69,
   "metadata": {
    "scrolled": true
   },
   "outputs": [
    {
     "ename": "ERROR",
     "evalue": "Error in library(plotly): there is no package called 'plotly'\n",
     "output_type": "error",
     "traceback": [
      "Error in library(plotly): there is no package called 'plotly'\nTraceback:\n",
      "1. library(plotly)"
     ]
    }
   ],
   "source": [
    "library(plotly)\n",
    "fig <- plot_ly(data=type1_filtered, x=~Org.name, y=~Number.of.A.E.attendances.Type.1)\n",
    "fig"
   ]
  },
  {
   "cell_type": "markdown",
   "metadata": {},
   "source": [
    "We will take a more detailed look at creating interactive plots in a later notebook."
   ]
  },
  {
   "cell_type": "markdown",
   "metadata": {},
   "source": [
    "<a id=\"corr\"></a>\n",
    "#### 2.4 Visualising relationships"
   ]
  },
  {
   "cell_type": "markdown",
   "metadata": {},
   "source": [
    "Scatter plots can be a useful way of looking for relationships between variables. Let's see an example with some diabetes data. The <code>Class</code> columns shows the patients diabetic status (0 = no diabetes, 1 = diabetes)."
   ]
  },
  {
   "cell_type": "code",
   "execution_count": 70,
   "metadata": {},
   "outputs": [
    {
     "data": {
      "text/html": [
       "<table>\n",
       "<thead><tr><th scope=col>Pregnancies</th><th scope=col>Glucose</th><th scope=col>BloodPressure</th><th scope=col>SkinThickness</th><th scope=col>Insulin</th><th scope=col>BMI</th><th scope=col>DiabetesPedigreeFunction</th><th scope=col>Age</th><th scope=col>Class</th></tr></thead>\n",
       "<tbody>\n",
       "\t<tr><td> 1   </td><td> 85  </td><td>66   </td><td>29   </td><td>  0  </td><td>26.6 </td><td>0.351</td><td>31   </td><td>0    </td></tr>\n",
       "\t<tr><td> 8   </td><td>183  </td><td>64   </td><td> 0   </td><td>  0  </td><td>23.3 </td><td>0.672</td><td>32   </td><td>1    </td></tr>\n",
       "\t<tr><td> 1   </td><td> 89  </td><td>66   </td><td>23   </td><td> 94  </td><td>28.1 </td><td>0.167</td><td>21   </td><td>0    </td></tr>\n",
       "\t<tr><td> 0   </td><td>137  </td><td>40   </td><td>35   </td><td>168  </td><td>43.1 </td><td>2.288</td><td>33   </td><td>1    </td></tr>\n",
       "\t<tr><td> 5   </td><td>116  </td><td>74   </td><td> 0   </td><td>  0  </td><td>25.6 </td><td>0.201</td><td>30   </td><td>0    </td></tr>\n",
       "\t<tr><td> 3   </td><td> 78  </td><td>50   </td><td>32   </td><td> 88  </td><td>31.0 </td><td>0.248</td><td>26   </td><td>1    </td></tr>\n",
       "\t<tr><td>10   </td><td>115  </td><td> 0   </td><td> 0   </td><td>  0  </td><td>35.3 </td><td>0.134</td><td>29   </td><td>0    </td></tr>\n",
       "\t<tr><td> 2   </td><td>197  </td><td>70   </td><td>45   </td><td>543  </td><td>30.5 </td><td>0.158</td><td>53   </td><td>1    </td></tr>\n",
       "\t<tr><td> 8   </td><td>125  </td><td>96   </td><td> 0   </td><td>  0  </td><td> 0.0 </td><td>0.232</td><td>54   </td><td>1    </td></tr>\n",
       "\t<tr><td> 4   </td><td>110  </td><td>92   </td><td> 0   </td><td>  0  </td><td>37.6 </td><td>0.191</td><td>30   </td><td>0    </td></tr>\n",
       "</tbody>\n",
       "</table>\n"
      ],
      "text/latex": [
       "\\begin{tabular}{r|lllllllll}\n",
       " Pregnancies & Glucose & BloodPressure & SkinThickness & Insulin & BMI & DiabetesPedigreeFunction & Age & Class\\\\\n",
       "\\hline\n",
       "\t  1    &  85   & 66    & 29    &   0   & 26.6  & 0.351 & 31    & 0    \\\\\n",
       "\t  8    & 183   & 64    &  0    &   0   & 23.3  & 0.672 & 32    & 1    \\\\\n",
       "\t  1    &  89   & 66    & 23    &  94   & 28.1  & 0.167 & 21    & 0    \\\\\n",
       "\t  0    & 137   & 40    & 35    & 168   & 43.1  & 2.288 & 33    & 1    \\\\\n",
       "\t  5    & 116   & 74    &  0    &   0   & 25.6  & 0.201 & 30    & 0    \\\\\n",
       "\t  3    &  78   & 50    & 32    &  88   & 31.0  & 0.248 & 26    & 1    \\\\\n",
       "\t 10    & 115   &  0    &  0    &   0   & 35.3  & 0.134 & 29    & 0    \\\\\n",
       "\t  2    & 197   & 70    & 45    & 543   & 30.5  & 0.158 & 53    & 1    \\\\\n",
       "\t  8    & 125   & 96    &  0    &   0   &  0.0  & 0.232 & 54    & 1    \\\\\n",
       "\t  4    & 110   & 92    &  0    &   0   & 37.6  & 0.191 & 30    & 0    \\\\\n",
       "\\end{tabular}\n"
      ],
      "text/markdown": [
       "\n",
       "| Pregnancies | Glucose | BloodPressure | SkinThickness | Insulin | BMI | DiabetesPedigreeFunction | Age | Class |\n",
       "|---|---|---|---|---|---|---|---|---|\n",
       "|  1    |  85   | 66    | 29    |   0   | 26.6  | 0.351 | 31    | 0     |\n",
       "|  8    | 183   | 64    |  0    |   0   | 23.3  | 0.672 | 32    | 1     |\n",
       "|  1    |  89   | 66    | 23    |  94   | 28.1  | 0.167 | 21    | 0     |\n",
       "|  0    | 137   | 40    | 35    | 168   | 43.1  | 2.288 | 33    | 1     |\n",
       "|  5    | 116   | 74    |  0    |   0   | 25.6  | 0.201 | 30    | 0     |\n",
       "|  3    |  78   | 50    | 32    |  88   | 31.0  | 0.248 | 26    | 1     |\n",
       "| 10    | 115   |  0    |  0    |   0   | 35.3  | 0.134 | 29    | 0     |\n",
       "|  2    | 197   | 70    | 45    | 543   | 30.5  | 0.158 | 53    | 1     |\n",
       "|  8    | 125   | 96    |  0    |   0   |  0.0  | 0.232 | 54    | 1     |\n",
       "|  4    | 110   | 92    |  0    |   0   | 37.6  | 0.191 | 30    | 0     |\n",
       "\n"
      ],
      "text/plain": [
       "   Pregnancies Glucose BloodPressure SkinThickness Insulin BMI \n",
       "1   1           85     66            29              0     26.6\n",
       "2   8          183     64             0              0     23.3\n",
       "3   1           89     66            23             94     28.1\n",
       "4   0          137     40            35            168     43.1\n",
       "5   5          116     74             0              0     25.6\n",
       "6   3           78     50            32             88     31.0\n",
       "7  10          115      0             0              0     35.3\n",
       "8   2          197     70            45            543     30.5\n",
       "9   8          125     96             0              0      0.0\n",
       "10  4          110     92             0              0     37.6\n",
       "   DiabetesPedigreeFunction Age Class\n",
       "1  0.351                    31  0    \n",
       "2  0.672                    32  1    \n",
       "3  0.167                    21  0    \n",
       "4  2.288                    33  1    \n",
       "5  0.201                    30  0    \n",
       "6  0.248                    26  1    \n",
       "7  0.134                    29  0    \n",
       "8  0.158                    53  1    \n",
       "9  0.232                    54  1    \n",
       "10 0.191                    30  0    "
      ]
     },
     "metadata": {},
     "output_type": "display_data"
    }
   ],
   "source": [
    "db_data <- read.csv(\"./data/pima-indians-diabetes.csv\")\n",
    "head(db_data, 10)"
   ]
  },
  {
   "cell_type": "markdown",
   "metadata": {},
   "source": [
    "A <code>pairs plot</code> is a way of visualisaing very variable in a dataset against every other variable. R has a base version of this available via the <code>pairs</code>. "
   ]
  },
  {
   "cell_type": "code",
   "execution_count": 71,
   "metadata": {},
   "outputs": [
    {
     "data": {
      "image/png": "[encoded data removed]",
      "text/plain": [
       "plot without title"
      ]
     },
     "metadata": {},
     "output_type": "display_data"
    }
   ],
   "source": [
    "pairs(db_data)"
   ]
  },
  {
   "cell_type": "markdown",
   "metadata": {},
   "source": [
    "Below is a statistical summary of the numerical data from the dataset above."
   ]
  },
  {
   "cell_type": "code",
   "execution_count": 77,
   "metadata": {
    "scrolled": true
   },
   "outputs": [
    {
     "data": {
      "text/plain": [
       "  Pregnancies        Glucose      BloodPressure   SkinThickness  \n",
       " Min.   : 0.000   Min.   :  0.0   Min.   :  0.0   Min.   : 0.00  \n",
       " 1st Qu.: 1.000   1st Qu.: 99.0   1st Qu.: 62.0   1st Qu.: 0.00  \n",
       " Median : 3.000   Median :117.0   Median : 72.0   Median :23.00  \n",
       " Mean   : 3.842   Mean   :120.9   Mean   : 69.1   Mean   :20.52  \n",
       " 3rd Qu.: 6.000   3rd Qu.:140.0   3rd Qu.: 80.0   3rd Qu.:32.00  \n",
       " Max.   :17.000   Max.   :199.0   Max.   :122.0   Max.   :99.00  \n",
       "    Insulin           BMI        DiabetesPedigreeFunction      Age       \n",
       " Min.   :  0.0   Min.   : 0.00   Min.   :0.0780           Min.   :21.00  \n",
       " 1st Qu.:  0.0   1st Qu.:27.30   1st Qu.:0.2435           1st Qu.:24.00  \n",
       " Median : 32.0   Median :32.00   Median :0.3710           Median :29.00  \n",
       " Mean   : 79.9   Mean   :31.99   Mean   :0.4717           Mean   :33.22  \n",
       " 3rd Qu.:127.5   3rd Qu.:36.60   3rd Qu.:0.6250           3rd Qu.:41.00  \n",
       " Max.   :846.0   Max.   :67.10   Max.   :2.4200           Max.   :81.00  \n",
       "     Class       \n",
       " Min.   :0.0000  \n",
       " 1st Qu.:0.0000  \n",
       " Median :0.0000  \n",
       " Mean   :0.3481  \n",
       " 3rd Qu.:1.0000  \n",
       " Max.   :1.0000  "
      ]
     },
     "metadata": {},
     "output_type": "display_data"
    }
   ],
   "source": [
    "summary(db_data)"
   ]
  },
  {
   "cell_type": "markdown",
   "metadata": {
    "solution2": "hidden",
    "solution2_first": true
   },
   "source": [
    "<div class=\"alert alert-block alert-info\">\n",
    "<b>Task 4:</b>\n",
    "<br> \n",
    "Using the data above and any of the plot libraries you choose, create a boxplot for the dataset.\n",
    "</div>"
   ]
  },
  {
   "cell_type": "code",
   "execution_count": 80,
   "metadata": {
    "solution2": "hidden"
   },
   "outputs": [
    {
     "data": {
      "image/png": "[encoded data removed]",
      "text/plain": [
       "plot without title"
      ]
     },
     "metadata": {},
     "output_type": "display_data"
    }
   ],
   "source": [
    "boxplot(db_data)"
   ]
  },
  {
   "cell_type": "code",
   "execution_count": null,
   "metadata": {},
   "outputs": [],
   "source": []
  },
  {
   "cell_type": "markdown",
   "metadata": {},
   "source": [
    "<a id=\"out\"></a>\n",
    "#### 2.5 Dealing with outliers"
   ]
  },
  {
   "cell_type": "markdown",
   "metadata": {},
   "source": [
    "Below is an example from the <code>mammals</code> dataset. This is a built in dataset in the <code>MASS</code> package. We display this as a scatter plot below. As in this example, sometimes outliers (the data points in the top right) can dominate a plot and make it difficult to read. Most of the data is bunched up in the bottom left of the plot in this example."
   ]
  },
  {
   "cell_type": "code",
   "execution_count": 89,
   "metadata": {},
   "outputs": [],
   "source": [
    "data(mammals, package=\"MASS\")"
   ]
  },
  {
   "cell_type": "code",
   "execution_count": 93,
   "metadata": {},
   "outputs": [
    {
     "data": {
      "image/png": "[encoded data removed]",
      "text/plain": [
       "plot without title"
      ]
     },
     "metadata": {},
     "output_type": "display_data"
    }
   ],
   "source": [
    "ggplot(mammals, aes(x=body, y=brain)) +\n",
    "    geom_point()"
   ]
  },
  {
   "cell_type": "markdown",
   "metadata": {},
   "source": [
    "One of the ways to deal with this is to perform a transformation. Transforming data refers to applying a mathematical function to the data to try and normalise the data. Three commonly used transformations include the <code>log transformation</code> $\\text{log}(x_i)$, <code>square root transformation</code> $\\sqrt{x_i}$, <code>reciprocal transformation</code> $\\frac{1}{x_i}$. These 3 methods will help to deal with data that is positively skewed and also with unequal variance in the data. To deal with negatively skewed data one must first <code>reverse score</code> the data and then run one of aforementioned transformations. For more detailed information on how to transform skewed data see this towards data science article <a href=\"https://towardsdatascience.com/transforming-skewed-data-73da4c2d0d16\" target=\"_blank\">Transforming Skewed Data</a>."
   ]
  },
  {
   "cell_type": "markdown",
   "metadata": {},
   "source": [
    "We will apply a logarithmic (log) transformation to both the <code>x</code> and <code>y</code> variables and replot the plot above."
   ]
  },
  {
   "cell_type": "code",
   "execution_count": 94,
   "metadata": {},
   "outputs": [
    {
     "data": {
      "image/png": "[encoded data removed]",
      "text/plain": [
       "plot without title"
      ]
     },
     "metadata": {},
     "output_type": "display_data"
    }
   ],
   "source": [
    "ggplot(mammals, aes(x=body, y=brain)) +\n",
    "    geom_point() +\n",
    "    scale_x_log10() +\n",
    "    scale_y_log10()"
   ]
  },
  {
   "cell_type": "markdown",
   "metadata": {},
   "source": [
    "The transformation makes it easier to see the data clearly. Here we can see a linear relationship between the variables."
   ]
  },
  {
   "cell_type": "markdown",
   "metadata": {},
   "source": [
    "<div class=\"alert alert-danger\">\n",
    "<b>Note:</b> You should be cautious about how you deal with outliers. Some people remove them but they can tell you important things about your data in many circumstances. The strategy you apply should be carefully considered on a case by case basis.\n",
    "</div>"
   ]
  },
  {
   "cell_type": "markdown",
   "metadata": {},
   "source": [
    "Here is a scatter plot from the diabetes data showing <code>Glucose</code> and Body Mass Index <code>BMI</code>. We also use <code>Class</code> to show with colour the difference between diabetes and no-diabetes. The first line specifies that the <code>Class</code> is a <code>factor</code>. This is categorical data, otherwise it is assumed to be continuous."
   ]
  },
  {
   "cell_type": "code",
   "execution_count": 100,
   "metadata": {},
   "outputs": [
    {
     "data": {
      "image/png": "[encoded data removed]",
      "text/plain": [
       "plot without title"
      ]
     },
     "metadata": {},
     "output_type": "display_data"
    }
   ],
   "source": [
    "db_data$Class <- as.factor(db_data$Class)\n",
    "ggplot(db_data, aes(x=Glucose, y=BMI)) +\n",
    "    geom_point(aes(colour=Class))"
   ]
  },
  {
   "cell_type": "markdown",
   "metadata": {
    "solution2": "hidden",
    "solution2_first": true
   },
   "source": [
    "<div class=\"alert alert-block alert-info\">\n",
    "<b>Task 5:</b>\n",
    "<br> \n",
    "The plot above is missing a lot of context. What can you add to this to make it more readable? Replot the plot below with this missing context. Include a legend and label it with <code>Diabetes</code> and <code>No diabetes</code>.<br><br>\n",
    "    <strong>HINT:</strong> You may want to look up <code>scale_color_manual</code>.\n",
    "</div>"
   ]
  },
  {
   "cell_type": "code",
   "execution_count": 120,
   "metadata": {
    "solution2": "hidden"
   },
   "outputs": [
    {
     "data": {
      "image/png": "[encoded data removed]",
      "text/plain": [
       "plot without title"
      ]
     },
     "metadata": {},
     "output_type": "display_data"
    }
   ],
   "source": [
    "# Label the classes so they make sense\n",
    "class_labels <- c('No diabetes','Diabetes')\n",
    "\n",
    "# Create the scatter plot with title\n",
    "ggplot(db_data, aes(x=Glucose, y=BMI)) +\n",
    "    geom_point(aes(colour=Class)) +\n",
    "    scale_color_manual(name=\"Diabetic status\",\n",
    "                       breaks=c(0,1), \n",
    "                       values=c('0'='green','1'='red'),\n",
    "                       labels=class_labels) +\n",
    "    ggtitle(\"Blood glucose and BMI for diabetic and non-diabetic patients\")"
   ]
  },
  {
   "cell_type": "code",
   "execution_count": null,
   "metadata": {},
   "outputs": [],
   "source": []
  },
  {
   "cell_type": "markdown",
   "metadata": {},
   "source": [
    "The code below tells us how many records are labeled as <code>diabetes</code> and how many are <code>no_diabetes</code>."
   ]
  },
  {
   "cell_type": "code",
   "execution_count": 125,
   "metadata": {},
   "outputs": [
    {
     "data": {
      "text/html": [
       "<table>\n",
       "<thead><tr><th scope=col>Class</th><th scope=col>n</th></tr></thead>\n",
       "<tbody>\n",
       "\t<tr><td>0  </td><td>500</td></tr>\n",
       "\t<tr><td>1  </td><td>267</td></tr>\n",
       "</tbody>\n",
       "</table>\n"
      ],
      "text/latex": [
       "\\begin{tabular}{r|ll}\n",
       " Class & n\\\\\n",
       "\\hline\n",
       "\t 0   & 500\\\\\n",
       "\t 1   & 267\\\\\n",
       "\\end{tabular}\n"
      ],
      "text/markdown": [
       "\n",
       "| Class | n |\n",
       "|---|---|\n",
       "| 0   | 500 |\n",
       "| 1   | 267 |\n",
       "\n"
      ],
      "text/plain": [
       "  Class n  \n",
       "1 0     500\n",
       "2 1     267"
      ]
     },
     "metadata": {},
     "output_type": "display_data"
    }
   ],
   "source": [
    "db_summary <- db_data %>% count(Class) \n",
    "db_summary"
   ]
  },
  {
   "cell_type": "markdown",
   "metadata": {
    "solution2": "hidden",
    "solution2_first": true
   },
   "source": [
    "<div class=\"alert alert-block alert-info\">\n",
    "<b>Task 6:</b>\n",
    "<br> \n",
    "    Given this information, display these results with a bar plot using the <code>ggplot()</code> function.<br>\n",
    "</div>"
   ]
  },
  {
   "cell_type": "code",
   "execution_count": 128,
   "metadata": {
    "solution2": "hidden"
   },
   "outputs": [
    {
     "data": {
      "image/png": "[encoded data removed]",
      "text/plain": [
       "plot without title"
      ]
     },
     "metadata": {},
     "output_type": "display_data"
    }
   ],
   "source": [
    "db_labels <- c(\"No diabetes\", \"Diabetes\")\n",
    "ggplot(db_summary, aes(x=db_labels, y=n)) +\n",
    "    geom_bar(stat=\"identity\") +\n",
    "    xlab(\"Diabetic status\") +\n",
    "    ylab(\"Cases\")"
   ]
  },
  {
   "cell_type": "code",
   "execution_count": null,
   "metadata": {},
   "outputs": [],
   "source": []
  },
  {
   "cell_type": "markdown",
   "metadata": {},
   "source": [
    "<a id=\"error\"></a>\n",
    "#### 2.6 Error bars"
   ]
  },
  {
   "cell_type": "markdown",
   "metadata": {},
   "source": [
    "You will often see <code>error bars</code> on bar and line plots. Error bars usually show the 95% CI (Confidence Interval): $$CI = \\hat{x} \\pm z \\frac{s}{\\sqrt{n}} $$\n",
    "$\\hat{x}$ = Sample mean, $z$ = confidence level value, $s$ = sample standard deviation and $n$ = sample size. Essentially each time we take a sample from a population they will vary slightly. The CI gives us a range in which the population mean will fall. Therefore an error bar gives us the mean (usually a circle, square) and the range, the bars above and below the circle. The length between mean and the end of the bar represents 1.96 standard errors so the full length of the bar represents the 95% confidence interval of the mean. "
   ]
  },
  {
   "cell_type": "markdown",
   "metadata": {},
   "source": [
    "It's worth noting that error bars are not always representing the 95% CI, they can also represent the <code>standard error</code> or the <code>standard deviation</code>. "
   ]
  },
  {
   "cell_type": "markdown",
   "metadata": {},
   "source": [
    "<div class=\"alert alert-danger\">\n",
    "<strong>Note:</strong> It is best practice to state what the error bars represent in the caption of the plot.\n",
    "</div>"
   ]
  },
  {
   "cell_type": "markdown",
   "metadata": {},
   "source": [
    "Let's look at a quick example. Here is some (fictitious) data on the average number of students that selected a R programming class from the years 2021 to 2023."
   ]
  },
  {
   "cell_type": "code",
   "execution_count": 131,
   "metadata": {
    "scrolled": true
   },
   "outputs": [
    {
     "data": {
      "text/html": [
       "<table>\n",
       "<thead><tr><th scope=col>year_2021</th><th scope=col>year_2022</th><th scope=col>year_2023</th></tr></thead>\n",
       "<tbody>\n",
       "\t<tr><td>56</td><td>46</td><td>67</td></tr>\n",
       "\t<tr><td>53</td><td>53</td><td>64</td></tr>\n",
       "\t<tr><td>22</td><td>54</td><td>33</td></tr>\n",
       "\t<tr><td>53</td><td>34</td><td>65</td></tr>\n",
       "\t<tr><td>76</td><td>87</td><td>54</td></tr>\n",
       "\t<tr><td>45</td><td>43</td><td>35</td></tr>\n",
       "\t<tr><td>67</td><td>35</td><td>35</td></tr>\n",
       "\t<tr><td>54</td><td>54</td><td>62</td></tr>\n",
       "\t<tr><td>56</td><td>64</td><td>45</td></tr>\n",
       "\t<tr><td>66</td><td>56</td><td>47</td></tr>\n",
       "</tbody>\n",
       "</table>\n"
      ],
      "text/latex": [
       "\\begin{tabular}{r|lll}\n",
       " year\\_2021 & year\\_2022 & year\\_2023\\\\\n",
       "\\hline\n",
       "\t 56 & 46 & 67\\\\\n",
       "\t 53 & 53 & 64\\\\\n",
       "\t 22 & 54 & 33\\\\\n",
       "\t 53 & 34 & 65\\\\\n",
       "\t 76 & 87 & 54\\\\\n",
       "\t 45 & 43 & 35\\\\\n",
       "\t 67 & 35 & 35\\\\\n",
       "\t 54 & 54 & 62\\\\\n",
       "\t 56 & 64 & 45\\\\\n",
       "\t 66 & 56 & 47\\\\\n",
       "\\end{tabular}\n"
      ],
      "text/markdown": [
       "\n",
       "| year_2021 | year_2022 | year_2023 |\n",
       "|---|---|---|\n",
       "| 56 | 46 | 67 |\n",
       "| 53 | 53 | 64 |\n",
       "| 22 | 54 | 33 |\n",
       "| 53 | 34 | 65 |\n",
       "| 76 | 87 | 54 |\n",
       "| 45 | 43 | 35 |\n",
       "| 67 | 35 | 35 |\n",
       "| 54 | 54 | 62 |\n",
       "| 56 | 64 | 45 |\n",
       "| 66 | 56 | 47 |\n",
       "\n"
      ],
      "text/plain": [
       "   year_2021 year_2022 year_2023\n",
       "1  56        46        67       \n",
       "2  53        53        64       \n",
       "3  22        54        33       \n",
       "4  53        34        65       \n",
       "5  76        87        54       \n",
       "6  45        43        35       \n",
       "7  67        35        35       \n",
       "8  54        54        62       \n",
       "9  56        64        45       \n",
       "10 66        56        47       "
      ]
     },
     "metadata": {},
     "output_type": "display_data"
    }
   ],
   "source": [
    "y_2021 <- c(56, 53, 22, 53, 76, 45, 67, 54, 56, 66)\n",
    "y_2022 <- c(46, 53, 54, 34, 87, 43, 35, 54, 64, 56)\n",
    "y_2023 <- c(67, 64, 33, 65, 54, 35, 35, 62, 45, 47)\n",
    "\n",
    "exam_data <- data.frame(year_2021=y_2021, year_2022=y_2022, year_2023=y_2023)\n",
    "exam_data"
   ]
  },
  {
   "cell_type": "markdown",
   "metadata": {},
   "source": [
    "First here is the plot without the error bars. Just before plotting we need to reformat the data a bit switching it to long form and removing the <code>year_</code> part of the text from the <code>Year</code> column leaving just the year."
   ]
  },
  {
   "cell_type": "code",
   "execution_count": 136,
   "metadata": {},
   "outputs": [
    {
     "data": {
      "text/html": [
       "<table>\n",
       "<thead><tr><th scope=col>Year</th><th scope=col>Students</th></tr></thead>\n",
       "<tbody>\n",
       "\t<tr><td>2021</td><td>56  </td></tr>\n",
       "\t<tr><td>2021</td><td>53  </td></tr>\n",
       "\t<tr><td>2021</td><td>22  </td></tr>\n",
       "\t<tr><td>2021</td><td>53  </td></tr>\n",
       "\t<tr><td>2021</td><td>76  </td></tr>\n",
       "\t<tr><td>2021</td><td>45  </td></tr>\n",
       "\t<tr><td>2021</td><td>67  </td></tr>\n",
       "\t<tr><td>2021</td><td>54  </td></tr>\n",
       "\t<tr><td>2021</td><td>56  </td></tr>\n",
       "\t<tr><td>2021</td><td>66  </td></tr>\n",
       "\t<tr><td>2022</td><td>46  </td></tr>\n",
       "\t<tr><td>2022</td><td>53  </td></tr>\n",
       "\t<tr><td>2022</td><td>54  </td></tr>\n",
       "\t<tr><td>2022</td><td>34  </td></tr>\n",
       "\t<tr><td>2022</td><td>87  </td></tr>\n",
       "\t<tr><td>2022</td><td>43  </td></tr>\n",
       "\t<tr><td>2022</td><td>35  </td></tr>\n",
       "\t<tr><td>2022</td><td>54  </td></tr>\n",
       "\t<tr><td>2022</td><td>64  </td></tr>\n",
       "\t<tr><td>2022</td><td>56  </td></tr>\n",
       "\t<tr><td>2023</td><td>67  </td></tr>\n",
       "\t<tr><td>2023</td><td>64  </td></tr>\n",
       "\t<tr><td>2023</td><td>33  </td></tr>\n",
       "\t<tr><td>2023</td><td>65  </td></tr>\n",
       "\t<tr><td>2023</td><td>54  </td></tr>\n",
       "\t<tr><td>2023</td><td>35  </td></tr>\n",
       "\t<tr><td>2023</td><td>35  </td></tr>\n",
       "\t<tr><td>2023</td><td>62  </td></tr>\n",
       "\t<tr><td>2023</td><td>45  </td></tr>\n",
       "\t<tr><td>2023</td><td>47  </td></tr>\n",
       "</tbody>\n",
       "</table>\n"
      ],
      "text/latex": [
       "\\begin{tabular}{r|ll}\n",
       " Year & Students\\\\\n",
       "\\hline\n",
       "\t 2021 & 56  \\\\\n",
       "\t 2021 & 53  \\\\\n",
       "\t 2021 & 22  \\\\\n",
       "\t 2021 & 53  \\\\\n",
       "\t 2021 & 76  \\\\\n",
       "\t 2021 & 45  \\\\\n",
       "\t 2021 & 67  \\\\\n",
       "\t 2021 & 54  \\\\\n",
       "\t 2021 & 56  \\\\\n",
       "\t 2021 & 66  \\\\\n",
       "\t 2022 & 46  \\\\\n",
       "\t 2022 & 53  \\\\\n",
       "\t 2022 & 54  \\\\\n",
       "\t 2022 & 34  \\\\\n",
       "\t 2022 & 87  \\\\\n",
       "\t 2022 & 43  \\\\\n",
       "\t 2022 & 35  \\\\\n",
       "\t 2022 & 54  \\\\\n",
       "\t 2022 & 64  \\\\\n",
       "\t 2022 & 56  \\\\\n",
       "\t 2023 & 67  \\\\\n",
       "\t 2023 & 64  \\\\\n",
       "\t 2023 & 33  \\\\\n",
       "\t 2023 & 65  \\\\\n",
       "\t 2023 & 54  \\\\\n",
       "\t 2023 & 35  \\\\\n",
       "\t 2023 & 35  \\\\\n",
       "\t 2023 & 62  \\\\\n",
       "\t 2023 & 45  \\\\\n",
       "\t 2023 & 47  \\\\\n",
       "\\end{tabular}\n"
      ],
      "text/markdown": [
       "\n",
       "| Year | Students |\n",
       "|---|---|\n",
       "| 2021 | 56   |\n",
       "| 2021 | 53   |\n",
       "| 2021 | 22   |\n",
       "| 2021 | 53   |\n",
       "| 2021 | 76   |\n",
       "| 2021 | 45   |\n",
       "| 2021 | 67   |\n",
       "| 2021 | 54   |\n",
       "| 2021 | 56   |\n",
       "| 2021 | 66   |\n",
       "| 2022 | 46   |\n",
       "| 2022 | 53   |\n",
       "| 2022 | 54   |\n",
       "| 2022 | 34   |\n",
       "| 2022 | 87   |\n",
       "| 2022 | 43   |\n",
       "| 2022 | 35   |\n",
       "| 2022 | 54   |\n",
       "| 2022 | 64   |\n",
       "| 2022 | 56   |\n",
       "| 2023 | 67   |\n",
       "| 2023 | 64   |\n",
       "| 2023 | 33   |\n",
       "| 2023 | 65   |\n",
       "| 2023 | 54   |\n",
       "| 2023 | 35   |\n",
       "| 2023 | 35   |\n",
       "| 2023 | 62   |\n",
       "| 2023 | 45   |\n",
       "| 2023 | 47   |\n",
       "\n"
      ],
      "text/plain": [
       "   Year Students\n",
       "1  2021 56      \n",
       "2  2021 53      \n",
       "3  2021 22      \n",
       "4  2021 53      \n",
       "5  2021 76      \n",
       "6  2021 45      \n",
       "7  2021 67      \n",
       "8  2021 54      \n",
       "9  2021 56      \n",
       "10 2021 66      \n",
       "11 2022 46      \n",
       "12 2022 53      \n",
       "13 2022 54      \n",
       "14 2022 34      \n",
       "15 2022 87      \n",
       "16 2022 43      \n",
       "17 2022 35      \n",
       "18 2022 54      \n",
       "19 2022 64      \n",
       "20 2022 56      \n",
       "21 2023 67      \n",
       "22 2023 64      \n",
       "23 2023 33      \n",
       "24 2023 65      \n",
       "25 2023 54      \n",
       "26 2023 35      \n",
       "27 2023 35      \n",
       "28 2023 62      \n",
       "29 2023 45      \n",
       "30 2023 47      "
      ]
     },
     "metadata": {},
     "output_type": "display_data"
    }
   ],
   "source": [
    "long_exam_data <- exam_data %>% gather(key='Year', value='Students', year_2021:year_2023)\n",
    "long_exam_data$Year <- gsub(\"year_\", \"\", as.character(long_exam_data$Year))\n",
    "long_exam_data"
   ]
  },
  {
   "cell_type": "markdown",
   "metadata": {},
   "source": [
    "Next we can group the values by the year and determine the mean and the standard error of the mean like so:"
   ]
  },
  {
   "cell_type": "code",
   "execution_count": 150,
   "metadata": {},
   "outputs": [
    {
     "data": {
      "text/html": [
       "<table>\n",
       "<thead><tr><th scope=col>Year</th><th scope=col>mean_students</th><th scope=col>SEM</th></tr></thead>\n",
       "<tbody>\n",
       "\t<tr><td>2021    </td><td>54.8    </td><td>4.601449</td></tr>\n",
       "\t<tr><td>2022    </td><td>52.6    </td><td>4.853864</td></tr>\n",
       "\t<tr><td>2023    </td><td>50.7    </td><td>4.266276</td></tr>\n",
       "</tbody>\n",
       "</table>\n"
      ],
      "text/latex": [
       "\\begin{tabular}{r|lll}\n",
       " Year & mean\\_students & SEM\\\\\n",
       "\\hline\n",
       "\t 2021     & 54.8     & 4.601449\\\\\n",
       "\t 2022     & 52.6     & 4.853864\\\\\n",
       "\t 2023     & 50.7     & 4.266276\\\\\n",
       "\\end{tabular}\n"
      ],
      "text/markdown": [
       "\n",
       "| Year | mean_students | SEM |\n",
       "|---|---|---|\n",
       "| 2021     | 54.8     | 4.601449 |\n",
       "| 2022     | 52.6     | 4.853864 |\n",
       "| 2023     | 50.7     | 4.266276 |\n",
       "\n"
      ],
      "text/plain": [
       "  Year mean_students SEM     \n",
       "1 2021 54.8          4.601449\n",
       "2 2022 52.6          4.853864\n",
       "3 2023 50.7          4.266276"
      ]
     },
     "metadata": {},
     "output_type": "display_data"
    }
   ],
   "source": [
    "mean_groups <- long_exam_data %>% \n",
    "    group_by(Year) %>% \n",
    "    summarise(mean_students=mean(Students), \n",
    "              SEM=sd(Students)/sqrt(length(Students)))\n",
    "mean_groups"
   ]
  },
  {
   "cell_type": "code",
   "execution_count": 148,
   "metadata": {},
   "outputs": [
    {
     "data": {
      "image/png": "[encoded data removed]",
      "text/plain": [
       "plot without title"
      ]
     },
     "metadata": {},
     "output_type": "display_data"
    }
   ],
   "source": [
    "ggplot(mean_groups, aes(x=Year, y=mean_students)) +\n",
    "    geom_bar(stat=\"identity\") +\n",
    "    ylab(\"Mean number of students\") +\n",
    "    ggtitle(\"Average number of students selecting R programming courses from 2021 to 2023\")"
   ]
  },
  {
   "cell_type": "markdown",
   "metadata": {},
   "source": [
    "<div class=\"alert alert-success\">\n",
    "<strong>Note:</strong> When comparing plots of averages (means), if the error bars do not overlap, there is more likely to be a statistically significant difference between the means.\n",
    "</div>"
   ]
  },
  {
   "cell_type": "markdown",
   "metadata": {},
   "source": [
    "The metric used (e.g. 95% CI, SEM, SD) needs to be calculated by you and then used with the <code>geom_errorbar</code> function. This differs slightly depending on which package you are using for your visualisations. Adding error bars to plots is not very straightforward or intuitive in most cases. Here is an example using the Standard error of the mean (SEM) which we calculated previously. This divides the samples standard deviation by the square root of the sample size ($SEM = \\frac{s}{\\sqrt{n}}$) to calculate the SEM for us."
   ]
  },
  {
   "cell_type": "markdown",
   "metadata": {},
   "source": [
    "You will note a few additions, as well as using the <code>geom_errorbar</code> function where we can set a colour and width of the bars, we also added a <code>ymin</code> and <code>ymax</code> to the <code>aes</code>. These specify the mean - the SEM and the mean + the SEM. This could be replaced with a different metric as appropriate (e.g. the standard deviation). "
   ]
  },
  {
   "cell_type": "code",
   "execution_count": 151,
   "metadata": {},
   "outputs": [
    {
     "data": {
      "image/png": "[encoded data removed]",
      "text/plain": [
       "plot without title"
      ]
     },
     "metadata": {},
     "output_type": "display_data"
    }
   ],
   "source": [
    "ggplot(mean_groups, aes(x=Year, y=mean_students, ymin=mean_students-SEM, ymax=mean_students+SEM)) +\n",
    "    geom_bar(stat=\"identity\") +\n",
    "    geom_errorbar(colour=\"black\", stat=\"identity\", width=0.4) + \n",
    "    ylab(\"Mean number of students\") +\n",
    "    ggtitle(\"Average number of students selecting R programming courses from 2021 to 2023\")"
   ]
  },
  {
   "cell_type": "markdown",
   "metadata": {},
   "source": [
    "<strong>Fig 1.0</strong> Bar plot showing the average number students applying for an R coding course in the years 2021 to 2023 (NB: error bars represent the Standard error of the mean)."
   ]
  },
  {
   "cell_type": "markdown",
   "metadata": {},
   "source": [
    "The example above shows an example of including this information in the plot caption."
   ]
  },
  {
   "cell_type": "markdown",
   "metadata": {},
   "source": [
    "<div class=\"alert alert-success\">\n",
    "<strong>Note:</strong> You can find further examples of using error bars, including the 95% CI <a href=\"http://www.cookbook-r.com/Graphs/Plotting_means_and_error_bars_(ggplot2)/\" target=\"_blank\">here</a> and <a href=\"https://jkzorz.github.io/2020/05/17/Error-bars.html\" target=\"_blank\">here</a>.\n",
    "</div>    "
   ]
  },
  {
   "cell_type": "markdown",
   "metadata": {},
   "source": [
    "There are lots of different types of plot that can be used for exploring data, some can be specific to the methods used (e.g. a PCA biplot). They can show characteristics, relationships, distributions and outliers. Plotting data before analysis is a useful first step in any analytics pipeline. Remember that the more context you can provide makes the plot easier to interpret. Much of this can be done easily by adding axis labels, titles, captions and error bars etc."
   ]
  },
  {
   "cell_type": "markdown",
   "metadata": {},
   "source": [
    "#### Feedback\n",
    "Please rate this notebook by clicking on the image below (it will open up a new window where you can select one of the three icons)\n",
    " <a href=\"https://www.qualtrics.manchester.ac.uk/jfe/form/SV_7PAcxdWkdmW47lQ\" target=\"_blank\"><img src=\"./images/sentiment-check-icons.png\" width=\"80%\" /></a>"
   ]
  },
  {
   "cell_type": "markdown",
   "metadata": {},
   "source": [
    "------\n",
    "\n",
    "##### About this Notebook\n",
    "<br>\n",
    "<i>Notebook created by <strong>Dr. Alan Davies</strong>.\n",
    "    \n",
    "Publish date: July 2023<br>\n",
    "Review date: July 2024</i>"
   ]
  },
  {
   "cell_type": "markdown",
   "metadata": {},
   "source": [
    "## Notes:"
   ]
  },
  {
   "cell_type": "code",
   "execution_count": null,
   "metadata": {},
   "outputs": [],
   "source": []
  }
 ],
 "metadata": {
  "kernelspec": {
   "display_name": "R",
   "language": "R",
   "name": "ir"
  },
  "language_info": {
   "codemirror_mode": "r",
   "file_extension": ".r",
   "mimetype": "text/x-r-source",
   "name": "R",
   "pygments_lexer": "r",
   "version": "3.6.1"
  },
  "varInspector": {
   "cols": {
    "lenName": 16,
    "lenType": 16,
    "lenVar": 40
   },
   "kernels_config": {
    "python": {
     "delete_cmd_postfix": "",
     "delete_cmd_prefix": "del ",
     "library": "var_list.py",
     "varRefreshCmd": "print(var_dic_list())"
    },
    "r": {
     "delete_cmd_postfix": ") ",
     "delete_cmd_prefix": "rm(",
     "library": "var_list.r",
     "varRefreshCmd": "cat(var_dic_list()) "
    }
   },
   "types_to_exclude": [
    "module",
    "function",
    "builtin_function_or_method",
    "instance",
    "_Feature"
   ],
   "window_display": false
  }
 },
 "nbformat": 4,
 "nbformat_minor": 2
}
